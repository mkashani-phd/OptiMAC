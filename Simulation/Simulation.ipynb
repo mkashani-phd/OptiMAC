{
 "cells": [
  {
   "cell_type": "code",
   "execution_count": 2,
   "metadata": {},
   "outputs": [],
   "source": [
    "import sys\n",
    "sys.path.append('..')\n",
    "\n",
    "import src.Auth as Auth\n",
    "import utils.utils as utils\n",
    "import numpy as np\n",
    "import matplotlib.pyplot as plt\n",
    "\n",
    "\n",
    "def pop_first_k_elements(arr, k):\n",
    "    # Validate inputs\n",
    "    if k < 0:\n",
    "        raise ValueError(\"k must be non-negative\")\n",
    "    if k > len(arr):\n",
    "        raise ValueError(\"k must not be greater than the number of elements in the array\")\n",
    "    \n",
    "    return  arr[k:], arr[:k]\n"
   ]
  },
  {
   "cell_type": "code",
   "execution_count": 3,
   "metadata": {},
   "outputs": [
    {
     "data": {
      "image/png": "[encoded data removed]",
      "text/plain": [
       "<Figure size 640x240 with 1 Axes>"
      ]
     },
     "metadata": {},
     "output_type": "display_data"
    }
   ],
   "source": [
    "# one indicate packet lost, zero indicate correctly recieved packet\n",
    "Packet_error = np.fromfile('time_series.csv', sep=',')\n",
    "plt.figure(figsize=(8, 3), dpi=80)\n",
    "plt.plot(Packet_error)\n",
    "plt.title('Packet Error Time Series')\n",
    "plt.xlabel('Time')\n",
    "plt.ylabel('Packet Error')\n",
    "plt.show()"
   ]
  },
  {
   "cell_type": "code",
   "execution_count": 3,
   "metadata": {},
   "outputs": [],
   "source": [
    "def test_experiment(exp, Packet_error, m_size = 30, t_size = 256, b =None):\n",
    "        i = 0\n",
    "        cnt = 0\n",
    "        security_rate = 0\n",
    "        GP= 0\n",
    "        while len(Packet_error) > exp['parameters']['m_nr']:\n",
    "                Packet_error, m = pop_first_k_elements(Packet_error, exp['parameters']['m_nr'])\n",
    "                m = np.power(0, m)\n",
    "                # m = np.random.choice([0, 1], size=(exp['parameters']['m_nr'],), p=[0.1, 0.9])\n",
    "                t = np.ones(exp['parameters']['t_nr'])\n",
    "                # if 0 in m:\n",
    "                val = Auth.Validate(exp,m, t)\n",
    "                security_rate += Auth.SecurityRate(exp, m, t, t_size= t_size, b = b)\n",
    "                GP += Auth.Goodput(exp, m, t, m_size, t_size= t_size)\n",
    "                #count where m is 1 but val is zero\n",
    "                cnt += sum(m)-sum(val>0)\n",
    "                i+=1\n",
    "\n",
    "        return {'received but failed to verify': cnt, 'security_rate': security_rate/i, 'GP': GP/i}"
   ]
  },
  {
   "cell_type": "code",
   "execution_count": 11,
   "metadata": {},
   "outputs": [
    {
     "name": "stdout",
     "output_type": "stream",
     "text": [
      "p:  0.95 q:   1 ,   m_nr:  25 ,   t_nr:  25\n",
      "{'received but failed to verify': 41811, 'security_rate': 1.0166554529256997, 'GP': 0.3478791951508921}\n",
      "p:  0.99 q:   1 ,   m_nr:  20 ,   t_nr:  5\n",
      "{'received but failed to verify': 77983, 'security_rate': 0.9918507138927786, 'GP': 0.0854803486648895}\n",
      "p:  0.99 q:   0.95 ,   m_nr:  20 ,   t_nr:  5\n",
      "{'received but failed to verify': 77983, 'security_rate': 0.9918507138927786, 'GP': 0.0854803486648895}\n",
      "p:  0.99 q:   0.9 ,   m_nr:  20 ,   t_nr:  5\n",
      "{'received but failed to verify': 77983, 'security_rate': 0.9918507138927786, 'GP': 0.0854803486648895}\n",
      "p:  0.95 q:   1 ,   m_nr:  20 ,   t_nr:  5\n",
      "{'received but failed to verify': 77983, 'security_rate': 0.9918507138927786, 'GP': 0.0854803486648895}\n",
      "p:  0.95 q:   0.95 ,   m_nr:  20 ,   t_nr:  5\n",
      "{'received but failed to verify': 77983, 'security_rate': 0.9918507138927786, 'GP': 0.0854803486648895}\n",
      "p:  0.95 q:   0.9 ,   m_nr:  20 ,   t_nr:  5\n",
      "{'received but failed to verify': 77983, 'security_rate': 0.9918507138927786, 'GP': 0.0854803486648895}\n",
      "p:  0.9 q:   1 ,   m_nr:  20 ,   t_nr:  5\n",
      "{'received but failed to verify': 27861, 'security_rate': 0.8646529305861191, 'GP': 0.4975555111022193}\n",
      "p:  0.9 q:   0.95 ,   m_nr:  20 ,   t_nr:  5\n",
      "{'received but failed to verify': 28467, 'security_rate': 0.8611322264452913, 'GP': 0.4927065413082572}\n",
      "p:  0.9 q:   0.9 ,   m_nr:  20 ,   t_nr:  5\n",
      "{'received but failed to verify': 27469, 'security_rate': 0.869773954790962, 'GP': 0.5006921384276803}\n",
      "p:  0.85 q:   1 ,   m_nr:  20 ,   t_nr:  5\n",
      "{'received but failed to verify': 29700, 'security_rate': 0.8672934586917399, 'GP': 0.48284056811361886}\n",
      "p:  0.85 q:   0.95 ,   m_nr:  20 ,   t_nr:  5\n",
      "{'received but failed to verify': 28069, 'security_rate': 0.8712142428485721, 'GP': 0.4958911782356432}\n",
      "p:  0.85 q:   0.9 ,   m_nr:  20 ,   t_nr:  5\n",
      "{'received but failed to verify': 31417, 'security_rate': 0.8652130426085198, 'GP': 0.46910182036406745}\n",
      "p:  0.8 q:   1 ,   m_nr:  20 ,   t_nr:  5\n",
      "{'received but failed to verify': 24243, 'security_rate': 0.6581316263252687, 'GP': 0.5265053010602226}\n",
      "p:  0.8 q:   0.95 ,   m_nr:  20 ,   t_nr:  5\n",
      "{'received but failed to verify': 24367, 'security_rate': 0.6568913782756587, 'GP': 0.5255131026205342}\n",
      "p:  0.8 q:   0.9 ,   m_nr:  20 ,   t_nr:  5\n",
      "{'received but failed to verify': 24259, 'security_rate': 0.6579715943188671, 'GP': 0.526377275455102}\n",
      "p:  0.7 q:   1 ,   m_nr:  20 ,   t_nr:  5\n",
      "{'received but failed to verify': 24375, 'security_rate': 0.656811362272459, 'GP': 0.525449089817973}\n",
      "p:  0.7 q:   0.95 ,   m_nr:  20 ,   t_nr:  5\n",
      "{'received but failed to verify': 24231, 'security_rate': 0.6582516503300699, 'GP': 0.5266013202640641}\n",
      "p:  0.7 q:   0.9 ,   m_nr:  20 ,   t_nr:  5\n",
      "{'received but failed to verify': 24327, 'security_rate': 0.6572914582916612, 'GP': 0.5258331666333371}\n",
      "p:  0.99 q:   1 ,   m_nr:  20 ,   t_nr:  10\n",
      "{'received but failed to verify': 77983, 'security_rate': 0.9894947739547909, 'GP': 0.08553954558224597}\n",
      "p:  0.99 q:   0.95 ,   m_nr:  20 ,   t_nr:  10\n",
      "{'received but failed to verify': 77983, 'security_rate': 0.9894947739547909, 'GP': 0.08553954558224597}\n",
      "p:  0.99 q:   0.9 ,   m_nr:  20 ,   t_nr:  10\n",
      "{'received but failed to verify': 77983, 'security_rate': 0.9894947739547909, 'GP': 0.08553954558224597}\n",
      "p:  0.95 q:   1 ,   m_nr:  20 ,   t_nr:  10\n",
      "{'received but failed to verify': 77983, 'security_rate': 0.9894947739547909, 'GP': 0.08553954558224597}\n",
      "p:  0.95 q:   0.95 ,   m_nr:  20 ,   t_nr:  10\n",
      "{'received but failed to verify': 77983, 'security_rate': 0.9894947739547909, 'GP': 0.08553954558224597}\n",
      "p:  0.95 q:   0.9 ,   m_nr:  20 ,   t_nr:  10\n",
      "{'received but failed to verify': 77983, 'security_rate': 0.9894947739547909, 'GP': 0.08553954558224597}\n",
      "p:  0.9 q:   1 ,   m_nr:  20 ,   t_nr:  10\n",
      "{'received but failed to verify': 20425, 'security_rate': 0.9991592068413683, 'GP': 0.5418168132106539}\n",
      "p:  0.9 q:   0.95 ,   m_nr:  20 ,   t_nr:  10\n",
      "{'received but failed to verify': 19739, 'security_rate': 1.0009845719143828, 'GP': 0.547155753339107}\n",
      "p:  0.9 q:   0.9 ,   m_nr:  20 ,   t_nr:  10\n",
      "{'received but failed to verify': 20655, 'security_rate': 0.9993873774754951, 'GP': 0.5400267895524312}\n",
      "p:  0.85 q:   1 ,   m_nr:  20 ,   t_nr:  10\n",
      "{'received but failed to verify': 11056, 'security_rate': 1.0005501100220044, 'GP': 0.6019260995056144}\n",
      "p:  0.85 q:   0.95 ,   m_nr:  20 ,   t_nr:  10\n",
      "{'received but failed to verify': 10910, 'security_rate': 0.9967243448689738, 'GP': 0.6030387029786847}\n",
      "p:  0.85 q:   0.9 ,   m_nr:  20 ,   t_nr:  10\n",
      "{'received but failed to verify': 9309, 'security_rate': 0.9996874374874976, 'GP': 0.6152392383238457}\n",
      "p:  0.8 q:   1 ,   m_nr:  20 ,   t_nr:  10\n",
      "{'received but failed to verify': 7533, 'security_rate': 1.3166233246649381, 'GP': 0.5501767020070597}\n",
      "p:  0.8 q:   0.95 ,   m_nr:  20 ,   t_nr:  10\n",
      "{'received but failed to verify': 7648, 'security_rate': 1.3167433486697369, 'GP': 0.549409881976386}\n",
      "p:  0.8 q:   0.9 ,   m_nr:  20 ,   t_nr:  10\n",
      "{'received but failed to verify': 8091, 'security_rate': 1.3166633326665391, 'GP': 0.54645595785823}\n",
      "p:  0.7 q:   1 ,   m_nr:  20 ,   t_nr:  10\n",
      "{'received but failed to verify': 9009, 'security_rate': 0.8105021004201085, 'GP': 0.5403347336133763}\n",
      "p:  0.7 q:   0.95 ,   m_nr:  20 ,   t_nr:  10\n",
      "{'received but failed to verify': 8897, 'security_rate': 0.8116223244649179, 'GP': 0.5410815496432486}\n",
      "p:  0.7 q:   0.9 ,   m_nr:  20 ,   t_nr:  10\n",
      "{'received but failed to verify': 8937, 'security_rate': 0.8112222444489142, 'GP': 0.5408148296325798}\n",
      "p:  0.99 q:   1 ,   m_nr:  20 ,   t_nr:  20\n",
      "{'received but failed to verify': 77983, 'security_rate': 0.9894947739547909, 'GP': 0.08553954558224597}\n",
      "p:  0.99 q:   0.95 ,   m_nr:  20 ,   t_nr:  20\n",
      "{'received but failed to verify': 77983, 'security_rate': 0.9894947739547909, 'GP': 0.08553954558224597}\n",
      "p:  0.99 q:   0.9 ,   m_nr:  20 ,   t_nr:  20\n",
      "{'received but failed to verify': 77983, 'security_rate': 0.9894947739547909, 'GP': 0.08553954558224597}\n",
      "p:  0.95 q:   1 ,   m_nr:  20 ,   t_nr:  20\n",
      "{'received but failed to verify': 77983, 'security_rate': 0.9894947739547909, 'GP': 0.08553954558224597}\n",
      "p:  0.95 q:   0.95 ,   m_nr:  20 ,   t_nr:  20\n",
      "{'received but failed to verify': 77983, 'security_rate': 0.9894947739547909, 'GP': 0.08553954558224597}\n",
      "p:  0.95 q:   0.9 ,   m_nr:  20 ,   t_nr:  20\n",
      "{'received but failed to verify': 77983, 'security_rate': 0.9894947739547909, 'GP': 0.08553954558224597}\n",
      "p:  0.9 q:   1 ,   m_nr:  20 ,   t_nr:  20\n",
      "{'received but failed to verify': 11280, 'security_rate': 1.0014409131826365, 'GP': 0.6129897104040758}\n",
      "p:  0.9 q:   0.95 ,   m_nr:  20 ,   t_nr:  20\n",
      "{'received but failed to verify': 7965, 'security_rate': 0.9992761442913612, 'GP': 0.6387893992172136}\n",
      "p:  0.9 q:   0.9 ,   m_nr:  20 ,   t_nr:  20\n",
      "{'received but failed to verify': 17733, 'security_rate': 1.0050060793408682, 'GP': 0.5627678727234713}\n",
      "p:  0.85 q:   1 ,   m_nr:  20 ,   t_nr:  20\n",
      "{'received but failed to verify': 3282, 'security_rate': 1.0001937887577514, 'GP': 0.6611684241610195}\n",
      "p:  0.85 q:   0.95 ,   m_nr:  20 ,   t_nr:  20\n",
      "{'received but failed to verify': 2688, 'security_rate': 1.0015440588117623, 'GP': 0.6656950437706561}\n",
      "p:  0.85 q:   0.9 ,   m_nr:  20 ,   t_nr:  20\n",
      "{'received but failed to verify': 3908, 'security_rate': 0.997755801160232, 'GP': 0.6563979462559144}\n",
      "p:  0.8 q:   1 ,   m_nr:  20 ,   t_nr:  20\n",
      "{'received but failed to verify': 2515, 'security_rate': 0.9954643272404481, 'GP': 0.6553114131598589}\n",
      "p:  0.8 q:   0.95 ,   m_nr:  20 ,   t_nr:  20\n",
      "{'received but failed to verify': 2361, 'security_rate': 0.9942883107871574, 'GP': 0.6564643922936985}\n",
      "p:  0.8 q:   0.9 ,   m_nr:  20 ,   t_nr:  20\n",
      "{'received but failed to verify': 1809, 'security_rate': 0.9958003319413883, 'GP': 0.6605971486695341}\n",
      "p:  0.7 q:   1 ,   m_nr:  20 ,   t_nr:  20\n",
      "{'received but failed to verify': 1429, 'security_rate': 1.0026208757376371, 'GP': 0.6083035373830858}\n",
      "p:  0.7 q:   0.95 ,   m_nr:  20 ,   t_nr:  20\n",
      "{'received but failed to verify': 1553, 'security_rate': 2.1917583516703356, 'GP': 0.4425385077015346}\n",
      "p:  0.7 q:   0.9 ,   m_nr:  20 ,   t_nr:  20\n",
      "{'received but failed to verify': 1338, 'security_rate': 2.1895379075815162, 'GP': 0.44361372274454325}\n",
      "p:  0.99 q:   1 ,   m_nr:  20 ,   t_nr:  25\n",
      "{'received but failed to verify': 77983, 'security_rate': 0.9894947739547909, 'GP': 0.08553954558224597}\n",
      "p:  0.99 q:   0.95 ,   m_nr:  20 ,   t_nr:  25\n",
      "{'received but failed to verify': 77983, 'security_rate': 0.9894947739547909, 'GP': 0.08553954558224597}\n",
      "p:  0.99 q:   0.9 ,   m_nr:  20 ,   t_nr:  25\n",
      "{'received but failed to verify': 77983, 'security_rate': 0.9894947739547909, 'GP': 0.08553954558224597}\n",
      "p:  0.95 q:   1 ,   m_nr:  20 ,   t_nr:  25\n",
      "{'received but failed to verify': 77983, 'security_rate': 0.9894947739547909, 'GP': 0.08553954558224597}\n",
      "p:  0.95 q:   0.95 ,   m_nr:  20 ,   t_nr:  25\n",
      "{'received but failed to verify': 77983, 'security_rate': 0.9894947739547909, 'GP': 0.08553954558224597}\n",
      "p:  0.95 q:   0.9 ,   m_nr:  20 ,   t_nr:  25\n",
      "{'received but failed to verify': 77983, 'security_rate': 0.9894947739547909, 'GP': 0.08553954558224597}\n",
      "p:  0.95 q:   1 ,   m_nr:  25 ,   t_nr:  5\n",
      "{'received but failed to verify': 63255, 'security_rate': 1.014447361840479, 'GP': 0.18988578816907728}\n",
      "p:  0.9 q:   1 ,   m_nr:  25 ,   t_nr:  5\n",
      "{'received but failed to verify': 37321, 'security_rate': 0.7010752688172186, 'GP': 0.43943485871466903}\n",
      "p:  0.85 q:   1 ,   m_nr:  25 ,   t_nr:  5\n",
      "{'received but failed to verify': 30750, 'security_rate': 0.5930482620655112, 'GP': 0.4942068850545967}\n",
      "p:  0.8 q:   1 ,   m_nr:  25 ,   t_nr:  5\n",
      "{'received but failed to verify': 30455, 'security_rate': 0.5959989997499323, 'GP': 0.49666583312494816}\n",
      "p:  0.95 q:   1 ,   m_nr:  25 ,   t_nr:  10\n",
      "{'received but failed to verify': 57435, 'security_rate': 1.025750968992269, 'GP': 0.2311452724753694}\n",
      "p:  0.9 q:   1 ,   m_nr:  25 ,   t_nr:  10\n",
      "{'received but failed to verify': 20639, 'security_rate': 1.0064656789197117, 'GP': 0.5398268157561696}\n",
      "p:  0.85 q:   1 ,   m_nr:  25 ,   t_nr:  10\n",
      "{'received but failed to verify': 11487, 'security_rate': 1.1817454363590805, 'GP': 0.5612331654342133}\n",
      "p:  0.8 q:   1 ,   m_nr:  25 ,   t_nr:  10\n",
      "{'received but failed to verify': 12496, 'security_rate': 1.1857464366091441, 'GP': 0.5540242203407985}\n",
      "p:  0.95 q:   1 ,   m_nr:  25 ,   t_nr:  20\n",
      "{'received but failed to verify': 49867, 'security_rate': 1.0221578832207983, 'GP': 0.2851125198150979}\n",
      "p:  0.9 q:   1 ,   m_nr:  25 ,   t_nr:  20\n",
      "{'received but failed to verify': 10701, 'security_rate': 1.002743654663685, 'GP': 0.6178790439702402}\n",
      "p:  0.85 q:   1 ,   m_nr:  25 ,   t_nr:  20\n",
      "{'received but failed to verify': 4020, 'security_rate': 0.997230870217542, 'GP': 0.6586909885366082}\n",
      "p:  0.8 q:   1 ,   m_nr:  25 ,   t_nr:  20\n",
      "{'received but failed to verify': 3326, 'security_rate': 0.9991021192798065, 'GP': 0.648491094736301}\n",
      "p:  0.9 q:   1 ,   m_nr:  25 ,   t_nr:  25\n",
      "{'received but failed to verify': 6364, 'security_rate': 1.0031253516504193, 'GP': 0.6512587417371238}\n",
      "p:  0.85 q:   1 ,   m_nr:  25 ,   t_nr:  25\n",
      "{'received but failed to verify': 2123, 'security_rate': 0.9998874718679814, 'GP': 0.6700113123519119}\n",
      "p:  0.8 q:   1 ,   m_nr:  25 ,   t_nr:  25\n",
      "{'received but failed to verify': 1355, 'security_rate': 0.9964381720430038, 'GP': 0.6640069374068652}\n",
      "p:  0.8 q:   1 ,   m_nr:  20 ,   t_nr:  20\n",
      "{'received but failed to verify': 7865, 'security_rate': 0.8623524704941049, 'GP': 0.4109721944388857}\n",
      "p:  0.85 q:   1 ,   m_nr:  20 ,   t_nr:  20\n",
      "{'received but failed to verify': 0, 'security_rate': 0.9006101220243939, 'GP': 0.45030506101219697}\n",
      "p:  0.85 q:   1 ,   m_nr:  20 ,   t_nr:  20\n",
      "{'received but failed to verify': 1305, 'security_rate': 0.9975316156981472, 'GP': 0.5448794315217687}\n",
      "p:  0.85 q:   1 ,   m_nr:  20 ,   t_nr:  20\n",
      "{'received but failed to verify': 3405, 'security_rate': 1.0007907831566365, 'GP': 0.5868720834114066}\n",
      "p:  0.85 q:   1 ,   m_nr:  20 ,   t_nr:  20\n",
      "{'received but failed to verify': 6198, 'security_rate': 0.9958832782181317, 'GP': 0.5980115243104411}\n"
     ]
    }
   ],
   "source": [
    "p = .9\n",
    "experiments = utils.Load_Experiments('../Examples/Xs.pkl')\n",
    "Packet_error = np.random.choice([0, 1], size=(100000,), p=[p, 1-p])\n",
    "m_size = 256\n",
    "t_size = 256\n",
    "for exp in experiments:\n",
    "        print('p: ', experiments[exp]['parameters']['p'],'q:  ', experiments[exp]['parameters']['q'], ',   m_nr: ', experiments[exp]['parameters']['m_nr'], ',   t_nr: ', experiments[exp]['parameters']['t_nr'])\n",
    "        print(test_experiment(experiments[exp],\n",
    "                              Packet_error, \n",
    "                              m_size, \n",
    "                              t_size = t_size if experiments[exp]['eval']['average_A']< 1 \n",
    "                              else int(t_size/np.average(Auth.Validate(experiments[exp], np.array([p]*experiments[exp]['parameters']['m_nr']), np.ones(experiments[exp]['parameters']['t_nr'])))), \n",
    "                              b =t_size))"
   ]
  },
  {
   "cell_type": "code",
   "execution_count": 12,
   "metadata": {},
   "outputs": [
    {
     "name": "stdout",
     "output_type": "stream",
     "text": [
      "Status: 1\n",
      "Objective value: 20.0\n",
      "{'received but failed to verify': 0, 'security_rate': 0.9006101220243939, 'GP': 0.45030506101219697}\n"
     ]
    }
   ],
   "source": [
    "parameters = {'m_nr':20, 't_nr': 20,\n",
    "                'p': p, 'q': 1,\n",
    "                'x': 1}\n",
    "X = Auth.ProMAC_X(parameters['m_nr'],parameters['x'])\n",
    "exp = Auth.Create_Experiment(parameters,X= X)\n",
    "\n",
    "# Packet_error = np.fromfile('time_series2.csv', sep=',')\n",
    "print(test_experiment(exp,Packet_error, m_size,t_size=t_size/parameters['x'], b= t_size))"
   ]
  },
  {
   "cell_type": "code",
   "execution_count": 6,
   "metadata": {},
   "outputs": [
    {
     "name": "stdout",
     "output_type": "stream",
     "text": [
      "Status: 1\n",
      "Objective value: 6.0\n",
      "{'received but failed to verify': 6833, 'security_rate': 0.633108310831078, 'GP': 0.7606612089780928}\n"
     ]
    }
   ],
   "source": [
    "parameters = {'m_nr':Auth.X.shape[0], 't_nr': Auth.X.shape[1],\n",
    "                'p': p, 'q': 1,}\n",
    "exp = Auth.Create_Experiment(parameters,X= Auth.X)\n",
    "print(test_experiment(exp,Packet_error, m_size,t_size=t_size/2, b= t_size))\n"
   ]
  },
  {
   "cell_type": "code",
   "execution_count": 7,
   "metadata": {},
   "outputs": [
    {
     "name": "stdout",
     "output_type": "stream",
     "text": [
      "Status: 1\n",
      "Objective value: 1.0\n",
      "{'received but failed to verify': 16891, 'security_rate': 0.7314073140731407, 'GP': 0.6501398347318729}\n"
     ]
    }
   ],
   "source": [
    "X = np.array([[1]]*3)\n",
    "# identity matrix\n",
    "# X = np.eye(10)\n",
    "parameters = {'m_nr':X.shape[0], 't_nr': X.shape[1],\n",
    "                'p': p, 'q': 1,}\n",
    "exp = Auth.Create_Experiment(parameters,X= X)\n",
    "print(test_experiment(exp,Packet_error, m_size,t_size=t_size, b= t_size))"
   ]
  },
  {
   "cell_type": "code",
   "execution_count": 4,
   "metadata": {},
   "outputs": [
    {
     "name": "stdout",
     "output_type": "stream",
     "text": [
      "p:  0.75 q:   1 ,   m_nr:  20 ,   t_nr:  5\n",
      "p:  0.8 q:   1 ,   m_nr:  20 ,   t_nr:  5\n",
      "p:  0.7 q:   1 ,   m_nr:  20 ,   t_nr:  5\n",
      "p:  0.95 q:   1 ,   m_nr:  20 ,   t_nr:  5\n",
      "p:  0.85 q:   1 ,   m_nr:  20 ,   t_nr:  5\n",
      "p:  0.9 q:   1 ,   m_nr:  20 ,   t_nr:  5\n",
      "p:  0.95 q:   1 ,   m_nr:  20 ,   t_nr:  10\n",
      "p:  0.75 q:   1 ,   m_nr:  20 ,   t_nr:  10\n",
      "p:  0.85 q:   1 ,   m_nr:  20 ,   t_nr:  10\n",
      "p:  0.8 q:   1 ,   m_nr:  20 ,   t_nr:  10\n",
      "p:  0.9 q:   1 ,   m_nr:  20 ,   t_nr:  10\n",
      "p:  0.7 q:   1 ,   m_nr:  20 ,   t_nr:  10\n",
      "p:  0.95 q:   1 ,   m_nr:  20 ,   t_nr:  15\n",
      "p:  0.75 q:   1 ,   m_nr:  20 ,   t_nr:  15\n",
      "p:  0.8 q:   1 ,   m_nr:  20 ,   t_nr:  15\n",
      "p:  0.7 q:   1 ,   m_nr:  20 ,   t_nr:  15\n",
      "p:  0.9 q:   1 ,   m_nr:  20 ,   t_nr:  15\n",
      "p:  0.85 q:   1 ,   m_nr:  20 ,   t_nr:  15\n",
      "p:  0.85 q:   1 ,   m_nr:  30 ,   t_nr:  5\n",
      "p:  0.8 q:   1 ,   m_nr:  30 ,   t_nr:  5\n",
      "p:  0.75 q:   1 ,   m_nr:  30 ,   t_nr:  5\n",
      "p:  0.7 q:   1 ,   m_nr:  30 ,   t_nr:  5\n",
      "p:  0.9 q:   1 ,   m_nr:  30 ,   t_nr:  5\n",
      "p:  0.95 q:   1 ,   m_nr:  30 ,   t_nr:  5\n",
      "p:  0.85 q:   1 ,   m_nr:  30 ,   t_nr:  10\n",
      "p:  0.7 q:   1 ,   m_nr:  30 ,   t_nr:  10\n",
      "p:  0.9 q:   1 ,   m_nr:  30 ,   t_nr:  10\n",
      "p:  0.75 q:   1 ,   m_nr:  30 ,   t_nr:  10\n",
      "p:  0.95 q:   1 ,   m_nr:  30 ,   t_nr:  10\n",
      "p:  0.8 q:   1 ,   m_nr:  30 ,   t_nr:  10\n",
      "p:  0.85 q:   1 ,   m_nr:  30 ,   t_nr:  15\n",
      "p:  0.75 q:   1 ,   m_nr:  30 ,   t_nr:  15\n",
      "p:  0.7 q:   1 ,   m_nr:  30 ,   t_nr:  15\n",
      "p:  0.9 q:   1 ,   m_nr:  30 ,   t_nr:  15\n",
      "p:  0.95 q:   1 ,   m_nr:  30 ,   t_nr:  15\n",
      "p:  0.8 q:   1 ,   m_nr:  30 ,   t_nr:  15\n"
     ]
    },
    {
     "data": {
      "image/png": "[encoded data removed]",
      "text/plain": [
       "<Figure size 640x480 with 1 Axes>"
      ]
     },
     "metadata": {},
     "output_type": "display_data"
    }
   ],
   "source": [
    "experiments = utils.Load_Experiments('../Examples/Xs.pkl')\n",
    "for exp in experiments:\n",
    "        print('p: ', experiments[exp]['parameters']['p'],'q:  ', experiments[exp]['parameters']['q'], ',   m_nr: ', experiments[exp]['parameters']['m_nr'], ',   t_nr: ', experiments[exp]['parameters']['t_nr'])\n",
    "        plt.imshow(experiments[exp]['results']['X'], cmap='hot', interpolation='nearest')\n",
    "        # plt.show()"
   ]
  }
 ],
 "metadata": {
  "kernelspec": {
   "display_name": "Python 3",
   "language": "python",
   "name": "python3"
  },
  "language_info": {
   "codemirror_mode": {
    "name": "ipython",
    "version": 3
   },
   "file_extension": ".py",
   "mimetype": "text/x-python",
   "name": "python",
   "nbconvert_exporter": "python",
   "pygments_lexer": "ipython3",
   "version": "3.12.3"
  }
 },
 "nbformat": 4,
 "nbformat_minor": 2
}
