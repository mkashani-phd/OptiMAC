{
 "cells": [
  {
   "cell_type": "code",
   "execution_count": 47,
   "metadata": {},
   "outputs": [
    {
     "name": "stdout",
     "output_type": "stream",
     "text": [
      "C1: 0.8433849138748961\n",
      "Pe_t: 7.816738616943528e-07\n",
      "Pe_m: 7.816738616943528e-07\n",
      "C_prime_2: 0.06351874609186847\n",
      "C_double_prime_2: 0.7502733767949537\n"
     ]
    },
    {
     "data": {
      "text/plain": [
       "(7.816848599081365e-07, 0.005183211769872745)"
      ]
     },
     "execution_count": 47,
     "metadata": {},
     "output_type": "execute_result"
    }
   ],
   "source": [
    "import numpy as np\n",
    "from scipy.special import erfc\n",
    "\n",
    "# Q-function using erfc for Gaussian distribution\n",
    "def Q(x):\n",
    "    return 0.5 * erfc(x / np.sqrt(2))\n",
    "\n",
    "# Calculate gamma values for tag and message based on alpha, signal power P, and noise power sigma_n\n",
    "def calculate_gamma(alpha, P, sigma_n):\n",
    "    gamma_t = (alpha * P) / ((1 - alpha) * P + sigma_n**2)\n",
    "    gamma_m = ((1 - alpha) * P) / (alpha * P + sigma_n**2)\n",
    "    return gamma_t, gamma_m\n",
    "\n",
    "# Calculate Bit Error Rate (BER) p_t and p_m based on gamma_t and gamma_m\n",
    "def calculate_p(gamma):\n",
    "    return Q(np.sqrt(2 * gamma))\n",
    "\n",
    "# Define C' and C'' based on p_t and p_m using the channel capacity formula\n",
    "def calculate_C(p):\n",
    "    return 1 + p * np.log2(p) + (1 - p) * np.log2(1 - p) if p > 0 else 1  # Handling p=0 for log stability\n",
    "\n",
    "# Calculating Pe for tag and message lengths based on the provided formulas\n",
    "def calculate_Pe(R, p, C, length, x=1):\n",
    "    if x == 1:\n",
    "        return Q(np.sqrt(length / (p * (1 - p))) * ((C - R) / np.log2((1 - p) / p)))\n",
    "    else:\n",
    "        return Q(np.sqrt(x * length / (p * (1 - p))) * ((C - (t/x*m)*R) / np.log2((1 - p) / p)))\n",
    "\n",
    "# Calculate AER based on the provided formula\n",
    "def calculate_AER(Pe_m_prime, Pe_t_prime, Pe_t, x, y):\n",
    "    term1 = Pe_m_prime\n",
    "    term2 = (1 - (1 - Pe_m_prime)**(y-1) * (1 - Pe_t_prime))\n",
    "    term3 = (1 - (1 - Pe_m_prime)**(x-1) * (1 - Pe_t))\n",
    "    AER = term1 + term2 * term3 * (1 - Pe_m_prime)\n",
    "    return AER\n",
    "\n",
    "# Arbitrary values for parameters\n",
    "P = 2  # Signal power\n",
    "sigma_n = 1  # Noise power\n",
    "alpha_scheme_1 = 0  # Alpha for scheme 1\n",
    "alpha_scheme_2 = 0.1  # Alpha for scheme 2\n",
    "R = .5  # Transmission rate\n",
    "t = 128  # Length of the tag\n",
    "m = 128  # Length of the message\n",
    "x = 6  # Arbitrary parameter\n",
    "y = 3  # Arbitrary parameter\n",
    "\n",
    "# Scheme 1 calculations\n",
    "gamma_t_1, gamma_m_1 = calculate_gamma(alpha_scheme_1, P, sigma_n)\n",
    "p_t_1 = calculate_p(gamma_m_1)\n",
    "p_m_1 = calculate_p(gamma_m_1)\n",
    "C_1 = calculate_C(p_t_1)\n",
    "print(\"C1:\", C_1)\n",
    "Pe_t_1 = calculate_Pe(R, p_t_1, C_1, t, x=1)\n",
    "Pe_m_1 = calculate_Pe(R, p_m_1, C_1, m)\n",
    "print(\"Pe_t:\", Pe_t_1)\n",
    "print(\"Pe_m:\", Pe_m_1)\n",
    "AER_scheme_1 = calculate_AER(Pe_m_1, Pe_t_1, Pe_t_1, x, y)\n",
    "\n",
    "# Scheme 2 calculations\n",
    "gamma_t_2, gamma_m_2 = calculate_gamma(alpha_scheme_2, P, sigma_n)\n",
    "p_t_2 = calculate_p(gamma_t_2)\n",
    "p_m_2 = calculate_p(gamma_m_2)\n",
    "C_prime_2 = calculate_C(p_t_2)\n",
    "C_double_prime_2 = calculate_C(p_m_2)\n",
    "print(\"C_prime_2:\", C_prime_2)\n",
    "print(\"C_double_prime_2:\", C_double_prime_2)\n",
    "Pe_t_prime_2 = calculate_Pe(R, p_t_2, C_prime_2, t, x=x)\n",
    "Pe_m_prime_2 = calculate_Pe(R, p_m_2, C_double_prime_2, m)\n",
    "AER_scheme_2 = calculate_AER(Pe_m_prime_2, Pe_t_prime_2, Pe_t_1, x, y)\n",
    "\n",
    "AER_scheme_1, AER_scheme_2"
   ]
  }
 ],
 "metadata": {
  "kernelspec": {
   "display_name": "Python 3",
   "language": "python",
   "name": "python3"
  },
  "language_info": {
   "codemirror_mode": {
    "name": "ipython",
    "version": 3
   },
   "file_extension": ".py",
   "mimetype": "text/x-python",
   "name": "python",
   "nbconvert_exporter": "python",
   "pygments_lexer": "ipython3",
   "version": "3.12.3"
  }
 },
 "nbformat": 4,
 "nbformat_minor": 2
}
