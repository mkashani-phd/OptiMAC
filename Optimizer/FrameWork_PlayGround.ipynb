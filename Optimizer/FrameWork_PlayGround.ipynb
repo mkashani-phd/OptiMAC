{
 "cells": [
  {
   "cell_type": "code",
   "execution_count": 1,
   "metadata": {},
   "outputs": [],
   "source": [
    "import sys\n",
    "sys.path.append('../')\n",
    "import src.Auth as Auth\n",
    "import numpy as np"
   ]
  },
  {
   "cell_type": "markdown",
   "metadata": {},
   "source": [
    "### 2D MAC \n",
    "\n",
    "structering the Messages in a 2D array and calculating the tags for each column and each row."
   ]
  },
  {
   "cell_type": "code",
   "execution_count": 2,
   "metadata": {},
   "outputs": [
    {
     "name": "stdout",
     "output_type": "stream",
     "text": [
      "Status: 1\n",
      "Objective value: 6.0\n"
     ]
    },
    {
     "data": {
      "image/png": "[encoded data removed]",
      "text/plain": [
       "<Figure size 640x480 with 1 Axes>"
      ]
     },
     "metadata": {},
     "output_type": "display_data"
    },
    {
     "name": "stdout",
     "output_type": "stream",
     "text": [
      "Status: 1\n",
      "Objective value: 6.0\n",
      "A  :  [1.260441 1.260441 1.260441 1.260441 1.260441 1.260441 1.260441 1.260441\n",
      " 1.260441 1.260441 1.260441 1.260441 1.260441 1.260441 1.260441 1.260441\n",
      " 1.260441 1.260441]\n",
      "L  :  [2 1 0 2 1 0 2 1 0 2 1 0 2 1 0 2 1 0]\n",
      "average_A  :  1.2604410000000001\n",
      "average_L  :  1.0\n",
      "computation_(tag to message ratio)  :  0.5\n",
      "goodput_without_tag_adjustment  :  0.8421052631578947\n",
      "goodput_with_tag_adjustment  :  0.8707482993197279\n",
      "security_goodput  :  1.0000000000000002\n",
      "rows_that_breaks_the_verification  :  [2, 6, 9, 12, 15, 16]\n"
     ]
    }
   ],
   "source": [
    "param = {'m_nr': Auth.X.shape[0], 't_nr': Auth.X.shape[1], 'p': .9, 'q': 1}\n",
    "exp =  Auth.Create_Experiment(parameters=param, X = Auth.X)\n",
    "eval = Auth.evaluate(exp, m_size=1024, t_size=384, plot= True)"
   ]
  },
  {
   "cell_type": "code",
   "execution_count": 3,
   "metadata": {},
   "outputs": [
    {
     "name": "stdout",
     "output_type": "stream",
     "text": [
      "Status: 1\n",
      "Objective value: 8.0\n",
      "Status: 1\n",
      "Objective value: 8.0\n",
      "Status: 1\n",
      "Objective value: 7.0\n",
      "Status: 1\n",
      "Objective value: 7.0\n",
      "Status: 1\n",
      "Objective value: 8.0\n",
      "Status: 1\n",
      "Objective value: 8.0\n",
      "Status: 1\n",
      "Objective value: 7.0\n",
      "Status: 1\n",
      "Objective value: 7.0\n",
      "Status: -1\n",
      "Objective value: 6.0\n",
      "Status: -1\n",
      "Objective value: 6.0\n",
      "Status: -1\n",
      "Objective value: 6.5\n",
      "Status: -1\n",
      "Objective value: 6.5\n",
      "Status: 1\n",
      "Objective value: 9.0\n",
      "Status: 1\n",
      "Objective value: 9.0\n",
      "Status: -1\n",
      "Objective value: 6.0\n",
      "Status: -1\n",
      "Objective value: 6.0\n",
      "Status: 1\n",
      "Objective value: 8.0\n",
      "Status: 1\n",
      "Objective value: 8.0\n",
      "Status: -1\n",
      "Objective value: 6.0\n",
      "Status: -1\n",
      "Objective value: 6.0\n",
      "Status: 1\n",
      "Objective value: 7.0\n",
      "Status: 1\n",
      "Objective value: 7.0\n",
      "Status: 1\n",
      "Objective value: 8.0\n",
      "Status: 1\n",
      "Objective value: 8.0\n",
      "Status: -1\n",
      "Objective value: 6.0\n",
      "Status: -1\n",
      "Objective value: 6.0\n",
      "Status: 1\n",
      "Objective value: 7.0\n",
      "Status: 1\n",
      "Objective value: 7.0\n",
      "Status: 1\n",
      "Objective value: 6.0\n",
      "Status: 1\n",
      "Objective value: 6.0\n",
      "Status: -1\n",
      "Objective value: 5.5\n",
      "Status: -1\n",
      "Objective value: 5.5\n"
     ]
    }
   ],
   "source": [
    "import matplotlib.pyplot as plt\n",
    "\n",
    "\n",
    "param = {'m_nr': 40, 't_nr': 20, 'p': .9 , 'q': 1}\n",
    "\n",
    "for i in range(1):\n",
    "\n",
    "\n",
    "    p_fill_Xs = np.linspace(0.1,0.99,13000)\n",
    "    As = []\n",
    "    Xs = []\n",
    "    for p_fill_X in p_fill_Xs:\n",
    "        X = Auth.random_binary_array(shape = (param['m_nr'],param['t_nr']), probability_of_one = p_fill_X)\n",
    "        exp =  Auth.Create_Experiment(parameters=param, X = X)\n",
    "        eval = Auth.evaluate(exp, m_size=1024, t_size=384, plot= False)\n",
    "\n",
    "        As.append(eval['average_A'])#- sum(L))\n",
    "    \n",
    "        Xs.append(X)\n",
    "\n",
    "    # plt.plot(p_fill_Xs,As)\n",
    "    # plt.show()\n",
    "\n",
    "    plt.imshow(Xs[np.argmax(As)], cmap= 'hot', interpolation='nearest')\n",
    "    plt.colorbar()\n",
    "    plt.title('{}'.format(As[np.argmax(As)]))\n",
    "    plt.show()\n",
    "\n"
   ]
  }
 ],
 "metadata": {
  "kernelspec": {
   "display_name": "Python 3",
   "language": "python",
   "name": "python3"
  },
  "language_info": {
   "codemirror_mode": {
    "name": "ipython",
    "version": 3
   },
   "file_extension": ".py",
   "mimetype": "text/x-python",
   "name": "python",
   "nbconvert_exporter": "python",
   "pygments_lexer": "ipython3",
   "version": "3.9.6"
  }
 },
 "nbformat": 4,
 "nbformat_minor": 2
}
