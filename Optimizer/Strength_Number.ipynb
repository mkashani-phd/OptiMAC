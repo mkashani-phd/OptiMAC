{
 "cells": [
  {
   "cell_type": "markdown",
   "metadata": {},
   "source": [
    "# Algorithm Approach\n",
    "\n",
    "Using ChatGPT we drive this algorithm that allows for the calculation of the Weakness number"
   ]
  },
  {
   "cell_type": "code",
   "execution_count": 1,
   "metadata": {},
   "outputs": [
    {
     "name": "stdout",
     "output_type": "stream",
     "text": [
      "The indices of the minimum number of rows needed: []\n"
     ]
    }
   ],
   "source": [
    "import itertools\n",
    "import numpy as np\n",
    "\n",
    "def min_rows_to_cover(matrix):\n",
    "    m, n = len(matrix), len(matrix[0])\n",
    "    for r in range(1, m+1):\n",
    "        for rows in itertools.combinations(range(m), r):\n",
    "            combined_row = np.zeros(n, dtype=int)\n",
    "            for row in rows:\n",
    "                combined_row += np.array(matrix[row])\n",
    "            if all(combined_row >= 1):\n",
    "                return np.array(list(rows))\n",
    "    return np.array([])\n",
    "# Example usage\n",
    "K2 = np.array([[ 1,  0,  0,  0,  0,  0,  1,  0,  0],# m1\n",
    "              [ 1,  0,  0,  0,  0,  0,  0,  1,  0], # m2\n",
    "              [ 1,  0,  0,  0,  0,  0,  0,  0,  1], # m3\n",
    "              [ 0,  1,  0,  0,  0,  0,  1,  0,  0], # m4\n",
    "              [ 0,  1,  0,  0,  0,  0,  0,  1,  0], # m5\n",
    "              [ 0,  1,  0,  0,  0,  0,  0,  0,  1], # m6\n",
    "              [ 0,  0,  1,  0,  0,  0,  1,  0,  0], # m7\n",
    "              [ 0,  0,  1,  0,  0,  0,  0,  1,  0], # m8\n",
    "              [ 0,  0,  1,  0,  0,  0,  0,  0,  1], # m9\n",
    "              [ 0,  0,  0,  1,  0,  0,  1,  0,  0], # m10\n",
    "              [ 0,  0,  0,  1,  0,  0,  0,  1,  0], # m11\n",
    "              [ 0,  0,  0,  1,  0,  0,  0,  0,  1], # m12\n",
    "              [ 0,  0,  0,  0,  1,  0,  1,  0,  0], # m13\n",
    "              [ 0,  0,  0,  0,  1,  0,  0,  1,  0], # m14\n",
    "              [ 0,  0,  0,  0,  1,  0,  0,  0,  1], # m15\n",
    "              [ 0,  0,  0,  0,  0,  1,  1,  0,  0], # m16\n",
    "              [ 0,  0,  0,  0,  0,  1,  0,  1,  0], # m17\n",
    "              [ 0,  0,  0,  0,  0,  1,  0,  0,  1]])# m18\n",
    "K2 = np.zeros((18, 9), dtype=int)\n",
    "result = min_rows_to_cover(K2)\n",
    "print(\"The indices of the minimum number of rows needed:\", result+1)"
   ]
  },
  {
   "cell_type": "markdown",
   "metadata": {},
   "source": [
    "# Linear programming approach\n",
    "\n",
    "Using an optimization library like scipy.optimize.linprog, we can solve the problem using linear programming. The objective function is to minimize the sum of the rows to be selected. The constraints are that the sum of the selected rows should be greater than or equal to 1 for each column. Here is the code:\n",
    "    "
   ]
  },
  {
   "cell_type": "code",
   "execution_count": 2,
   "metadata": {},
   "outputs": [],
   "source": [
    "import numpy as np\n",
    "import pandas as pd\n",
    "from pulp import LpMinimize, LpProblem, LpVariable, lpSum, PULP_CBC_CMD\n"
   ]
  },
  {
   "cell_type": "markdown",
   "metadata": {},
   "source": [
    "$$\n",
    "Min: \\sum_{i \\in \\{1, \\ldots, m\\}}^{\\text{msg}} m_{j}\n",
    "$$\n",
    "Subject to:\n",
    "$$\n",
    "\\sum_{i \\in \\{1, \\ldots, m\\}}^{\\text{msg}} \\{m_{j}| X_{ij} = 1\\} >= 1\\quad \\forall j \\in \\{1,...n\\}\n",
    "$$"
   ]
  },
  {
   "cell_type": "code",
   "execution_count": 3,
   "metadata": {},
   "outputs": [],
   "source": [
    "def  get_weakness_number(X):\n",
    "    n_msg, n_tag = X.shape\n",
    "    A = np.transpose(X)\n",
    "    B = np.ones(n_tag)\n",
    "    C = np.ones(n_msg)\n",
    "\n",
    "    prob = LpProblem(\"Binary LP Problem\", LpMinimize)\n",
    "\n",
    "    # Define the variables\n",
    "    x = [LpVariable(f'x{i}', cat='Binary') for i in range(len(C))]\n",
    "\n",
    "    # Define the objective function\n",
    "    prob += lpSum(C[i] * x[i] for i in range(len(C)))\n",
    "\n",
    "    # Define the constraints\n",
    "    for i in range(len(A)):\n",
    "        prob += lpSum(A[i][j] * x[j] for j in range(len(C))) >= B[i]\n",
    "\n",
    "    # Solve the problem\n",
    "    prob.solve(PULP_CBC_CMD())\n",
    "\n",
    "    # Print the results\n",
    "    print(\"Status:\", prob.status)\n",
    "    print(\"Objective value:\", prob.objective.value())\n",
    "\n",
    "    result = []\n",
    "    for i in range(len(C)):\n",
    "        #print(f\"x{i+1}:\", x[i].value())\n",
    "        if x[i].value() == 1:\n",
    "            result.append(i+1)\n",
    "    return result\n",
    "\n"
   ]
  },
  {
   "cell_type": "code",
   "execution_count": 4,
   "metadata": {},
   "outputs": [
    {
     "name": "stdout",
     "output_type": "stream",
     "text": [
      "Welcome to the CBC MILP Solver \n",
      "Version: 2.10.3 \n",
      "Build Date: Dec 15 2019 \n",
      "\n",
      "command line - /Library/Python/3.9/site-packages/pulp/solverdir/cbc/osx/64/cbc /var/folders/1r/ph1yw3353jb398m67yh849kc0000gn/T/53e80d847ecb4d7eb4818d89fb0ac0e9-pulp.mps -timeMode elapsed -branch -printingOptions all -solution /var/folders/1r/ph1yw3353jb398m67yh849kc0000gn/T/53e80d847ecb4d7eb4818d89fb0ac0e9-pulp.sol (default strategy 1)\n",
      "At line 2 NAME          MODEL\n",
      "At line 3 ROWS\n",
      "At line 10 COLUMNS\n",
      "At line 41 RHS\n",
      "At line 47 BOUNDS\n",
      "At line 54 ENDATA\n",
      "Problem MODEL has 5 rows, 6 columns and 12 elements\n",
      "Coin0008I MODEL read with 0 errors\n",
      "Option for timeMode changed from cpu to elapsed\n",
      "Continuous objective value is 3 - 0.00 seconds\n",
      "Cgl0004I processed model has 5 rows, 6 columns (6 integer (6 of which binary)) and 12 elements\n",
      "Cutoff increment increased from 1e-05 to 0.9999\n",
      "Cbc0038I Initial state - 0 integers unsatisfied sum - 0\n",
      "Cbc0038I Solution found of 3\n",
      "Cbc0038I Before mini branch and bound, 6 integers at bound fixed and 0 continuous\n",
      "Cbc0038I Mini branch and bound did not improve solution (0.00 seconds)\n",
      "Cbc0038I After 0.00 seconds - Feasibility pump exiting with objective of 3 - took 0.00 seconds\n",
      "Cbc0012I Integer solution of 3 found by feasibility pump after 0 iterations and 0 nodes (0.00 seconds)\n",
      "Cbc0001I Search completed - best objective 3, took 0 iterations and 0 nodes (0.00 seconds)\n",
      "Cbc0035I Maximum depth 0, 0 variables fixed on reduced cost\n",
      "Cuts at root node changed objective from 3 to 3\n",
      "Probing was tried 0 times and created 0 cuts of which 0 were active after adding rounds of cuts (0.000 seconds)\n",
      "Gomory was tried 0 times and created 0 cuts of which 0 were active after adding rounds of cuts (0.000 seconds)\n",
      "Knapsack was tried 0 times and created 0 cuts of which 0 were active after adding rounds of cuts (0.000 seconds)\n",
      "Clique was tried 0 times and created 0 cuts of which 0 were active after adding rounds of cuts (0.000 seconds)\n",
      "MixedIntegerRounding2 was tried 0 times and created 0 cuts of which 0 were active after adding rounds of cuts (0.000 seconds)\n",
      "FlowCover was tried 0 times and created 0 cuts of which 0 were active after adding rounds of cuts (0.000 seconds)\n",
      "TwoMirCuts was tried 0 times and created 0 cuts of which 0 were active after adding rounds of cuts (0.000 seconds)\n",
      "ZeroHalf was tried 0 times and created 0 cuts of which 0 were active after adding rounds of cuts (0.000 seconds)\n",
      "\n",
      "Result - Optimal solution found\n",
      "\n",
      "Objective value:                3.00000000\n",
      "Enumerated nodes:               0\n",
      "Total iterations:               0\n",
      "Time (CPU seconds):             0.00\n",
      "Time (Wallclock seconds):       0.00\n",
      "\n",
      "Option for printingOptions changed from normal to all\n",
      "Total time (CPU seconds):       0.00   (Wallclock seconds):       0.01\n",
      "\n",
      "Status: 1\n",
      "Objective value: 3.0\n",
      "[2, 4, 6]\n"
     ]
    },
    {
     "name": "stderr",
     "output_type": "stream",
     "text": [
      "/Library/Python/3.9/site-packages/pulp/pulp.py:1316: UserWarning: Spaces are not permitted in the name. Converted to '_'\n",
      "  warnings.warn(\"Spaces are not permitted in the name. Converted to '_'\")\n"
     ]
    }
   ],
   "source": [
    "K1 = np.array(\n",
    "    [[1,0,1,0,0],\n",
    "    [1,0,0,1,0],\n",
    "    [1,0,0,0,1],\n",
    "    [0,1,1,0,0],\n",
    "    [0,1,0,1,0],\n",
    "    [0,1,0,0,1]])\n",
    "print(get_weakness_number(K1))"
   ]
  },
  {
   "cell_type": "code",
   "execution_count": 5,
   "metadata": {},
   "outputs": [
    {
     "name": "stdout",
     "output_type": "stream",
     "text": [
      "Welcome to the CBC MILP Solver \n",
      "Version: 2.10.3 \n",
      "Build Date: Dec 15 2019 \n",
      "\n",
      "command line - /Library/Python/3.9/site-packages/pulp/solverdir/cbc/osx/64/cbc /var/folders/1r/ph1yw3353jb398m67yh849kc0000gn/T/a5498b8c2a2d4fdc8f05479cf8bdc03d-pulp.mps -timeMode elapsed -branch -printingOptions all -solution /var/folders/1r/ph1yw3353jb398m67yh849kc0000gn/T/a5498b8c2a2d4fdc8f05479cf8bdc03d-pulp.sol (default strategy 1)\n",
      "At line 2 NAME          MODEL\n",
      "At line 3 ROWS\n",
      "At line 14 COLUMNS\n",
      "At line 105 RHS\n",
      "At line 115 BOUNDS\n",
      "At line 134 ENDATA\n",
      "Problem MODEL has 9 rows, 18 columns and 36 elements\n",
      "Coin0008I MODEL read with 0 errors\n",
      "Option for timeMode changed from cpu to elapsed\n",
      "Continuous objective value is 6 - 0.00 seconds\n",
      "Cgl0004I processed model has 9 rows, 18 columns (18 integer (18 of which binary)) and 36 elements\n",
      "Cutoff increment increased from 1e-05 to 0.9999\n",
      "Cbc0038I Initial state - 0 integers unsatisfied sum - 0\n",
      "Cbc0038I Solution found of 6\n",
      "Cbc0038I Before mini branch and bound, 18 integers at bound fixed and 0 continuous\n",
      "Cbc0038I Mini branch and bound did not improve solution (0.00 seconds)\n",
      "Cbc0038I After 0.00 seconds - Feasibility pump exiting with objective of 6 - took 0.00 seconds\n",
      "Cbc0012I Integer solution of 6 found by feasibility pump after 0 iterations and 0 nodes (0.00 seconds)\n",
      "Cbc0001I Search completed - best objective 6, took 0 iterations and 0 nodes (0.00 seconds)\n",
      "Cbc0035I Maximum depth 0, 0 variables fixed on reduced cost\n",
      "Cuts at root node changed objective from 6 to 6\n",
      "Probing was tried 0 times and created 0 cuts of which 0 were active after adding rounds of cuts (0.000 seconds)\n",
      "Gomory was tried 0 times and created 0 cuts of which 0 were active after adding rounds of cuts (0.000 seconds)\n",
      "Knapsack was tried 0 times and created 0 cuts of which 0 were active after adding rounds of cuts (0.000 seconds)\n",
      "Clique was tried 0 times and created 0 cuts of which 0 were active after adding rounds of cuts (0.000 seconds)\n",
      "MixedIntegerRounding2 was tried 0 times and created 0 cuts of which 0 were active after adding rounds of cuts (0.000 seconds)\n",
      "FlowCover was tried 0 times and created 0 cuts of which 0 were active after adding rounds of cuts (0.000 seconds)\n",
      "TwoMirCuts was tried 0 times and created 0 cuts of which 0 were active after adding rounds of cuts (0.000 seconds)\n",
      "ZeroHalf was tried 0 times and created 0 cuts of which 0 were active after adding rounds of cuts (0.000 seconds)\n",
      "\n",
      "Result - Optimal solution found\n",
      "\n",
      "Objective value:                6.00000000\n",
      "Enumerated nodes:               0\n",
      "Total iterations:               0\n",
      "Time (CPU seconds):             0.00\n",
      "Time (Wallclock seconds):       0.00\n",
      "\n",
      "Option for printingOptions changed from normal to all\n",
      "Total time (CPU seconds):       0.00   (Wallclock seconds):       0.00\n",
      "\n",
      "Status: 1\n",
      "Objective value: 6.0\n"
     ]
    },
    {
     "data": {
      "text/plain": [
       "[2, 6, 9, 12, 15, 16]"
      ]
     },
     "execution_count": 5,
     "metadata": {},
     "output_type": "execute_result"
    }
   ],
   "source": [
    "K2 = np.array([[ 1,  0,  0,  0,  0,  0,  1,  0,  0],# m1\n",
    "              [ 1,  0,  0,  0,  0,  0,  0,  1,  0], # m2\n",
    "              [ 1,  0,  0,  0,  0,  0,  0,  0,  1], # m3\n",
    "              [ 0,  1,  0,  0,  0,  0,  1,  0,  0], # m4\n",
    "              [ 0,  1,  0,  0,  0,  0,  0,  1,  0], # m5\n",
    "              [ 0,  1,  0,  0,  0,  0,  0,  0,  1], # m6\n",
    "              [ 0,  0,  1,  0,  0,  0,  1,  0,  0], # m7\n",
    "              [ 0,  0,  1,  0,  0,  0,  0,  1,  0], # m8\n",
    "              [ 0,  0,  1,  0,  0,  0,  0,  0,  1], # m9\n",
    "              [ 0,  0,  0,  1,  0,  0,  1,  0,  0], # m10\n",
    "              [ 0,  0,  0,  1,  0,  0,  0,  1,  0], # m11\n",
    "              [ 0,  0,  0,  1,  0,  0,  0,  0,  1], # m12\n",
    "              [ 0,  0,  0,  0,  1,  0,  1,  0,  0], # m13\n",
    "              [ 0,  0,  0,  0,  1,  0,  0,  1,  0], # m14\n",
    "              [ 0,  0,  0,  0,  1,  0,  0,  0,  1], # m15\n",
    "              [ 0,  0,  0,  0,  0,  1,  1,  0,  0], # m16\n",
    "              [ 0,  0,  0,  0,  0,  1,  0,  1,  0], # m17\n",
    "              [ 0,  0,  0,  0,  0,  1,  0,  0,  1]])# m18\n",
    "get_weakness_number(K2)"
   ]
  },
  {
   "cell_type": "code",
   "execution_count": 6,
   "metadata": {},
   "outputs": [
    {
     "name": "stdout",
     "output_type": "stream",
     "text": [
      "Welcome to the CBC MILP Solver \n",
      "Version: 2.10.3 \n",
      "Build Date: Dec 15 2019 \n",
      "\n",
      "command line - /Library/Python/3.9/site-packages/pulp/solverdir/cbc/osx/64/cbc /var/folders/1r/ph1yw3353jb398m67yh849kc0000gn/T/75d91852918c49d4ae48173ddd4368ad-pulp.mps -timeMode elapsed -branch -printingOptions all -solution /var/folders/1r/ph1yw3353jb398m67yh849kc0000gn/T/75d91852918c49d4ae48173ddd4368ad-pulp.sol (default strategy 1)\n",
      "At line 2 NAME          MODEL\n",
      "At line 3 ROWS\n",
      "At line 13 COLUMNS\n",
      "At line 68 RHS\n",
      "At line 77 BOUNDS\n",
      "At line 88 ENDATA\n",
      "Problem MODEL has 8 rows, 10 columns and 24 elements\n",
      "Coin0008I MODEL read with 0 errors\n",
      "Option for timeMode changed from cpu to elapsed\n",
      "Continuous objective value is 3 - 0.00 seconds\n",
      "Cgl0004I processed model has 8 rows, 10 columns (10 integer (10 of which binary)) and 24 elements\n",
      "Cutoff increment increased from 1e-05 to 0.9999\n",
      "Cbc0038I Initial state - 0 integers unsatisfied sum - 0\n",
      "Cbc0038I Solution found of 3\n",
      "Cbc0038I Before mini branch and bound, 10 integers at bound fixed and 0 continuous\n",
      "Cbc0038I Mini branch and bound did not improve solution (0.00 seconds)\n",
      "Cbc0038I After 0.00 seconds - Feasibility pump exiting with objective of 3 - took 0.00 seconds\n",
      "Cbc0012I Integer solution of 3 found by feasibility pump after 0 iterations and 0 nodes (0.00 seconds)\n",
      "Cbc0001I Search completed - best objective 3, took 0 iterations and 0 nodes (0.00 seconds)\n",
      "Cbc0035I Maximum depth 0, 0 variables fixed on reduced cost\n",
      "Cuts at root node changed objective from 3 to 3\n",
      "Probing was tried 0 times and created 0 cuts of which 0 were active after adding rounds of cuts (0.000 seconds)\n",
      "Gomory was tried 0 times and created 0 cuts of which 0 were active after adding rounds of cuts (0.000 seconds)\n",
      "Knapsack was tried 0 times and created 0 cuts of which 0 were active after adding rounds of cuts (0.000 seconds)\n",
      "Clique was tried 0 times and created 0 cuts of which 0 were active after adding rounds of cuts (0.000 seconds)\n",
      "MixedIntegerRounding2 was tried 0 times and created 0 cuts of which 0 were active after adding rounds of cuts (0.000 seconds)\n",
      "FlowCover was tried 0 times and created 0 cuts of which 0 were active after adding rounds of cuts (0.000 seconds)\n",
      "TwoMirCuts was tried 0 times and created 0 cuts of which 0 were active after adding rounds of cuts (0.000 seconds)\n",
      "ZeroHalf was tried 0 times and created 0 cuts of which 0 were active after adding rounds of cuts (0.000 seconds)\n",
      "\n",
      "Result - Optimal solution found\n",
      "\n",
      "Objective value:                3.00000000\n",
      "Enumerated nodes:               0\n",
      "Total iterations:               0\n",
      "Time (CPU seconds):             0.00\n",
      "Time (Wallclock seconds):       0.00\n",
      "\n",
      "Option for printingOptions changed from normal to all\n",
      "Total time (CPU seconds):       0.00   (Wallclock seconds):       0.00\n",
      "\n",
      "Status: 1\n",
      "Objective value: 3.0\n"
     ]
    },
    {
     "data": {
      "text/plain": [
       "[2, 5, 8]"
      ]
     },
     "execution_count": 6,
     "metadata": {},
     "output_type": "execute_result"
    }
   ],
   "source": [
    "            #  t1  t2  t3  t4  t5  t6  t7  t8  t9\n",
    "K3 = np.array([[ 1,  0,  0,  0,  0,  0,  0,  0],# m1\n",
    "              [ 1,  1,  0,  0,  0,  0,  0,  0], # m2\n",
    "              [ 1,  1,  1,  0,  0,  0,  0,  0], # m3\n",
    "              [ 0,  1,  1,  1,  0,  0,  0,  0], # m4\n",
    "              [ 0,  0,  1,  1,  1,  0,  0,  0], # m5\n",
    "              [ 0,  0,  0,  1,  1,  1,  0,  0], # m6\n",
    "              [ 0,  0,  0,  0,  1,  1,  1,  0], # m7\n",
    "              [ 0,  0,  0,  0,  0,  1,  1,  1], # m8\n",
    "              [ 0,  0,  0,  0,  0,  0,  1,  1], # m9\n",
    "              [ 0,  0,  0,  0,  0,  0,  0,  1]])# m10\n",
    "get_weakness_number(K3)"
   ]
  },
  {
   "cell_type": "code",
   "execution_count": 7,
   "metadata": {},
   "outputs": [
    {
     "name": "stdout",
     "output_type": "stream",
     "text": [
      "Welcome to the CBC MILP Solver \n",
      "Version: 2.10.3 \n",
      "Build Date: Dec 15 2019 \n",
      "\n",
      "command line - /Library/Python/3.9/site-packages/pulp/solverdir/cbc/osx/64/cbc /var/folders/1r/ph1yw3353jb398m67yh849kc0000gn/T/515a02f5b576411aadd6dcecebb4fad4-pulp.mps -timeMode elapsed -branch -printingOptions all -solution /var/folders/1r/ph1yw3353jb398m67yh849kc0000gn/T/515a02f5b576411aadd6dcecebb4fad4-pulp.sol (default strategy 1)\n",
      "At line 2 NAME          MODEL\n",
      "At line 3 ROWS\n",
      "At line 10 COLUMNS\n",
      "At line 64 RHS\n",
      "At line 70 BOUNDS\n",
      "At line 81 ENDATA\n",
      "Problem MODEL has 5 rows, 10 columns and 23 elements\n",
      "Coin0008I MODEL read with 0 errors\n",
      "Option for timeMode changed from cpu to elapsed\n",
      "Continuous objective value is 2 - 0.00 seconds\n",
      "Cgl0004I processed model has 5 rows, 8 columns (8 integer (6 of which binary)) and 18 elements\n",
      "Cutoff increment increased from 1e-05 to 0.9999\n",
      "Cbc0038I Initial state - 0 integers unsatisfied sum - 0\n",
      "Cbc0038I Solution found of 2\n",
      "Cbc0038I Cleaned solution of 2\n",
      "Cbc0038I Before mini branch and bound, 8 integers at bound fixed and 0 continuous\n",
      "Cbc0038I Mini branch and bound did not improve solution (0.00 seconds)\n",
      "Cbc0038I After 0.00 seconds - Feasibility pump exiting with objective of 2 - took 0.00 seconds\n",
      "Cbc0012I Integer solution of 2 found by feasibility pump after 0 iterations and 0 nodes (0.00 seconds)\n",
      "Cbc0001I Search completed - best objective 2, took 0 iterations and 0 nodes (0.00 seconds)\n",
      "Cbc0035I Maximum depth 0, 0 variables fixed on reduced cost\n",
      "Cuts at root node changed objective from 2 to 2\n",
      "Probing was tried 0 times and created 0 cuts of which 0 were active after adding rounds of cuts (0.000 seconds)\n",
      "Gomory was tried 0 times and created 0 cuts of which 0 were active after adding rounds of cuts (0.000 seconds)\n",
      "Knapsack was tried 0 times and created 0 cuts of which 0 were active after adding rounds of cuts (0.000 seconds)\n",
      "Clique was tried 0 times and created 0 cuts of which 0 were active after adding rounds of cuts (0.000 seconds)\n",
      "MixedIntegerRounding2 was tried 0 times and created 0 cuts of which 0 were active after adding rounds of cuts (0.000 seconds)\n",
      "FlowCover was tried 0 times and created 0 cuts of which 0 were active after adding rounds of cuts (0.000 seconds)\n",
      "TwoMirCuts was tried 0 times and created 0 cuts of which 0 were active after adding rounds of cuts (0.000 seconds)\n",
      "ZeroHalf was tried 0 times and created 0 cuts of which 0 were active after adding rounds of cuts (0.000 seconds)\n",
      "\n",
      "Result - Optimal solution found\n",
      "\n",
      "Objective value:                2.00000000\n",
      "Enumerated nodes:               0\n",
      "Total iterations:               0\n",
      "Time (CPU seconds):             0.00\n",
      "Time (Wallclock seconds):       0.00\n",
      "\n",
      "Option for printingOptions changed from normal to all\n",
      "Total time (CPU seconds):       0.00   (Wallclock seconds):       0.00\n",
      "\n",
      "Status: 1\n",
      "Objective value: 2.0\n"
     ]
    },
    {
     "data": {
      "text/plain": [
       "[3, 4]"
      ]
     },
     "execution_count": 7,
     "metadata": {},
     "output_type": "execute_result"
    }
   ],
   "source": [
    "X = np.array([[0,1,1,0],\n",
    "[0,0,0,0],\n",
    "[0,0,0,1],\n",
    "[1,0,1,1],\n",
    "[1,1,1,0],\n",
    "[1,0,0,0],\n",
    "[0,0,0,1],\n",
    "[0,1,0,0]])\n",
    "\n",
    "X = np.array([[1, 1, 0, 1, 1],\n",
    "       [0, 0, 1, 0, 0],\n",
    "       [0, 0, 1, 1, 0],\n",
    "       [1, 1, 0, 0, 1],\n",
    "       [1, 0, 1, 1, 1],\n",
    "       [0, 1, 0, 0, 0],\n",
    "       [0, 0, 1, 0, 1],\n",
    "       [1, 0, 0, 0, 0],\n",
    "       [1, 1, 0, 1, 1],\n",
    "       [0, 1, 0, 0, 0]])\n",
    "\n",
    "get_weakness_number(X)"
   ]
  }
 ],
 "metadata": {
  "kernelspec": {
   "display_name": "Python 3",
   "language": "python",
   "name": "python3"
  },
  "language_info": {
   "codemirror_mode": {
    "name": "ipython",
    "version": 3
   },
   "file_extension": ".py",
   "mimetype": "text/x-python",
   "name": "python",
   "nbconvert_exporter": "python",
   "pygments_lexer": "ipython3",
   "version": "3.9.6"
  }
 },
 "nbformat": 4,
 "nbformat_minor": 2
}
