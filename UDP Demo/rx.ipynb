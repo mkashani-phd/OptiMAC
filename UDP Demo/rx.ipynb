{
 "cells": [
  {
   "cell_type": "code",
   "execution_count": null,
   "metadata": {},
   "outputs": [],
   "source": [
    "import json\n",
    "import os\n",
    "\n",
    "#### parameters that needs to be exhanged between the sender and the receiver #####\n",
    "IP = \"0.0.0.0\"\n",
    "PORT = 23422\n",
    "#################################################################################### \n",
    "\n",
    "while True:\n",
    "   os.system('python3 rx.py ' + \"\\'\" + json.dumps({'IP': IP, 'PORT': PORT}) + \"\\'\")\n"
   ]
  }
 ],
 "metadata": {
  "kernelspec": {
   "display_name": "Python 3",
   "language": "python",
   "name": "python3"
  },
  "language_info": {
   "codemirror_mode": {
    "name": "ipython",
    "version": 3
   },
   "file_extension": ".py",
   "mimetype": "text/x-python",
   "name": "python",
   "nbconvert_exporter": "python",
   "pygments_lexer": "ipython3",
   "version": "3.9.6"
  }
 },
 "nbformat": 4,
 "nbformat_minor": 2
}
