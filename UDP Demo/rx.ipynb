{
 "cells": [
  {
   "cell_type": "code",
   "execution_count": 1,
   "metadata": {},
   "outputs": [
    {
     "name": "stderr",
     "output_type": "stream",
     "text": [
      "Corrupt JPEG data: premature end of data segment\n",
      "2024-11-10 14:36:20.468 Python[7604:161334] WARNING: Secure coding is automatically enabled for restorable state! However, not on all supported macOS versions of this application. Opt-in to secure coding explicitly by implementing NSApplicationDelegate.applicationSupportsSecureRestorableState:.\n"
     ]
    },
    {
     "name": "stdout",
     "output_type": "stream",
     "text": [
      "avg_verification: 0.9988095238095239, latency: -0.0018962415372601083, goodput: 0.30449396813702917\n",
      "3 fps\n"
     ]
    },
    {
     "name": "stderr",
     "output_type": "stream",
     "text": [
      "Corrupt JPEG data: premature end of data segment\n",
      "Corrupt JPEG data: bad Huffman code\n",
      "Corrupt JPEG data: premature end of data segment\n",
      "Corrupt JPEG data: premature end of data segment\n",
      "Corrupt JPEG data: bad Huffman code\n",
      "Corrupt JPEG data: 877 extraneous bytes before marker 0xd9\n"
     ]
    },
    {
     "name": "stdout",
     "output_type": "stream",
     "text": [
      "9 fps\n"
     ]
    },
    {
     "name": "stderr",
     "output_type": "stream",
     "text": [
      "Corrupt JPEG data: 52 extraneous bytes before marker 0xd9\n",
      "Corrupt JPEG data: 22 extraneous bytes before marker 0xda\n"
     ]
    },
    {
     "name": "stdout",
     "output_type": "stream",
     "text": [
      "6 fps\n"
     ]
    },
    {
     "name": "stderr",
     "output_type": "stream",
     "text": [
      "Corrupt JPEG data: 406 extraneous bytes before marker 0xda\n",
      "Corrupt JPEG data: 358 extraneous bytes before marker 0xd9\n",
      "Corrupt JPEG data: premature end of data segment\n",
      "Corrupt JPEG data: premature end of data segment\n"
     ]
    },
    {
     "name": "stdout",
     "output_type": "stream",
     "text": [
      "4 fps\n"
     ]
    },
    {
     "name": "stderr",
     "output_type": "stream",
     "text": [
      "Corrupt JPEG data: 528 extraneous bytes before marker 0xda\n",
      "Corrupt JPEG data: bad Huffman code\n"
     ]
    },
    {
     "name": "stdout",
     "output_type": "stream",
     "text": [
      "8 fps\n"
     ]
    },
    {
     "name": "stderr",
     "output_type": "stream",
     "text": [
      "Corrupt JPEG data: 517 extraneous bytes before marker 0xda\n",
      "Corrupt JPEG data: 657 extraneous bytes before marker 0xd9\n",
      "Corrupt JPEG data: bad Huffman code\n"
     ]
    },
    {
     "name": "stdout",
     "output_type": "stream",
     "text": [
      "7 fps\n",
      "avg_verification: 0.9990427149023952, latency: -0.024789774851365368, goodput: 0.2960085169597355\n"
     ]
    },
    {
     "name": "stderr",
     "output_type": "stream",
     "text": [
      "Corrupt JPEG data: 133 extraneous bytes before marker 0xda\n",
      "Corrupt JPEG data: premature end of data segment\n",
      "Corrupt JPEG data: bad Huffman code\n"
     ]
    },
    {
     "name": "stdout",
     "output_type": "stream",
     "text": [
      "9 fps\n"
     ]
    },
    {
     "name": "stderr",
     "output_type": "stream",
     "text": [
      "Corrupt JPEG data: premature end of data segment\n",
      "Corrupt JPEG data: premature end of data segment\n",
      "Corrupt JPEG data: 304 extraneous bytes before marker 0xda\n"
     ]
    },
    {
     "name": "stdout",
     "output_type": "stream",
     "text": [
      "8 fps\n"
     ]
    },
    {
     "name": "stderr",
     "output_type": "stream",
     "text": [
      "Corrupt JPEG data: 2332 extraneous bytes before marker 0xda\n",
      "Corrupt JPEG data: premature end of data segment\n",
      "Corrupt JPEG data: bad Huffman code\n",
      "Corrupt JPEG data: 397 extraneous bytes before marker 0xda\n",
      "Corrupt JPEG data: bad Huffman code\n",
      "Corrupt JPEG data: bad Huffman code\n"
     ]
    },
    {
     "name": "stdout",
     "output_type": "stream",
     "text": [
      "9 fps\n"
     ]
    },
    {
     "name": "stderr",
     "output_type": "stream",
     "text": [
      "Corrupt JPEG data: 35 extraneous bytes before marker 0xc4\n",
      "Corrupt JPEG data: 5 extraneous bytes before marker 0xd9\n",
      "Corrupt JPEG data: 535 extraneous bytes before marker 0xda\n",
      "Corrupt JPEG data: 563 extraneous bytes before marker 0xd9\n",
      "Corrupt JPEG data: 907 extraneous bytes before marker 0xd9\n"
     ]
    },
    {
     "name": "stdout",
     "output_type": "stream",
     "text": [
      "6 fps\n"
     ]
    },
    {
     "name": "stderr",
     "output_type": "stream",
     "text": [
      "Corrupt JPEG data: 33 extraneous bytes before marker 0xc4\n"
     ]
    },
    {
     "name": "stdout",
     "output_type": "stream",
     "text": [
      "4 fps\n",
      "avg_verification: 0.9990395072883473, latency: -0.02523900990954223, goodput: 0.296544842962249\n"
     ]
    },
    {
     "name": "stderr",
     "output_type": "stream",
     "text": [
      "Corrupt JPEG data: 297 extraneous bytes before marker 0xd9\n"
     ]
    },
    {
     "name": "stdout",
     "output_type": "stream",
     "text": [
      "2 fps\n"
     ]
    },
    {
     "name": "stderr",
     "output_type": "stream",
     "text": [
      "Corrupt JPEG data: 5 extraneous bytes before marker 0xd9\n",
      "[ERROR:0@19.546] global loadsave.cpp:865 imdecode_ imdecode_(''): can't read header: OpenCV(4.10.0) /Users/xperience/GHA-Actions-OpenCV/_work/opencv-python/opencv-python/opencv/modules/imgcodecs/src/grfmt_bmp.cpp:108: error: (-215:Assertion failed) m_rle_code_ >= 0 && m_rle_code_ <= BMP_BITFIELDS in function 'readHeader'\n",
      "\n",
      "Corrupt JPEG data: premature end of data segment\n"
     ]
    },
    {
     "name": "stdout",
     "output_type": "stream",
     "text": [
      "5 fps\n",
      "2 fps\n"
     ]
    },
    {
     "name": "stderr",
     "output_type": "stream",
     "text": [
      "Corrupt JPEG data: premature end of data segment\n",
      "Corrupt JPEG data: bad Huffman code\n",
      "Corrupt JPEG data: premature end of data segment\n"
     ]
    },
    {
     "name": "stdout",
     "output_type": "stream",
     "text": [
      "9 fps\n"
     ]
    },
    {
     "name": "stderr",
     "output_type": "stream",
     "text": [
      "Corrupt JPEG data: 879 extraneous bytes before marker 0xd9\n",
      "Corrupt JPEG data: bad Huffman code\n",
      "Corrupt JPEG data: premature end of data segment\n",
      "Corrupt JPEG data: bad Huffman code\n",
      "Corrupt JPEG data: premature end of data segment\n"
     ]
    },
    {
     "name": "stdout",
     "output_type": "stream",
     "text": [
      "avg_verification: 0.9990824646891243, latency: -0.025618793546394472, goodput: 0.29590331250535135\n"
     ]
    },
    {
     "name": "stderr",
     "output_type": "stream",
     "text": [
      "Corrupt JPEG data: 699 extraneous bytes before marker 0xd9\n"
     ]
    },
    {
     "name": "stdout",
     "output_type": "stream",
     "text": [
      "10 fps\n",
      "3 fps\n",
      "2 fps\n"
     ]
    },
    {
     "name": "stderr",
     "output_type": "stream",
     "text": [
      "Corrupt JPEG data: premature end of data segment\n",
      "Corrupt JPEG data: 858 extraneous bytes before marker 0xd9\n",
      "Corrupt JPEG data: 3 extraneous bytes before marker 0xc4\n",
      "Corrupt JPEG data: bad Huffman code\n",
      "Corrupt JPEG data: bad Huffman code\n"
     ]
    },
    {
     "name": "stdout",
     "output_type": "stream",
     "text": [
      "8 fps\n"
     ]
    },
    {
     "name": "stderr",
     "output_type": "stream",
     "text": [
      "Corrupt JPEG data: premature end of data segment\n",
      "Corrupt JPEG data: 53 extraneous bytes before marker 0xc2\n"
     ]
    },
    {
     "name": "stdout",
     "output_type": "stream",
     "text": [
      "avg_verification: 0.9990636029881131, latency: -0.0256217519745585, goodput: 0.29601310211315296\n",
      "5 fps\n"
     ]
    },
    {
     "name": "stderr",
     "output_type": "stream",
     "text": [
      "Corrupt JPEG data: premature end of data segment\n"
     ]
    },
    {
     "name": "stdout",
     "output_type": "stream",
     "text": [
      "2 fps\n"
     ]
    },
    {
     "name": "stderr",
     "output_type": "stream",
     "text": [
      "Corrupt JPEG data: premature end of data segment\n",
      "Corrupt JPEG data: 691 extraneous bytes before marker 0xd9\n"
     ]
    },
    {
     "name": "stdout",
     "output_type": "stream",
     "text": [
      "5 fps\n"
     ]
    },
    {
     "name": "stderr",
     "output_type": "stream",
     "text": [
      "Corrupt JPEG data: 73 extraneous bytes before marker 0xd9\n",
      "Corrupt JPEG data: 94 extraneous bytes before marker 0xd9\n",
      "Corrupt JPEG data: 571 extraneous bytes before marker 0xd9\n",
      "Corrupt JPEG data: premature end of data segment\n"
     ]
    },
    {
     "name": "stdout",
     "output_type": "stream",
     "text": [
      "7 fps\n"
     ]
    },
    {
     "name": "stderr",
     "output_type": "stream",
     "text": [
      "Corrupt JPEG data: premature end of data segment\n",
      "Corrupt JPEG data: 770 extraneous bytes before marker 0xd9\n",
      "Corrupt JPEG data: 552 extraneous bytes before marker 0xd9\n"
     ]
    },
    {
     "name": "stdout",
     "output_type": "stream",
     "text": [
      "4 fps\n",
      "Creating a new file\n"
     ]
    },
    {
     "name": "stderr",
     "output_type": "stream",
     "text": [
      "Corrupt JPEG data: 349 extraneous bytes before marker 0xd9\n"
     ]
    },
    {
     "data": {
      "text/plain": [
       "0"
      ]
     },
     "execution_count": 1,
     "metadata": {},
     "output_type": "execute_result"
    }
   ],
   "source": [
    "import json\n",
    "import os\n",
    "\n",
    "\n",
    "# test the connection \n",
    "\n",
    "IP = \"0.0.0.0\"\n",
    "PORT = 23422\n",
    "os.system('python3 rx.py ' + \"\\'\" + json.dumps({'IP': IP, 'PORT': PORT}) + \"\\'\")\n"
   ]
  },
  {
   "cell_type": "code",
   "execution_count": 2,
   "metadata": {},
   "outputs": [
    {
     "name": "stderr",
     "output_type": "stream",
     "text": [
      "2024-11-10 14:36:52.822 Python[7610:161640] WARNING: Secure coding is automatically enabled for restorable state! However, not on all supported macOS versions of this application. Opt-in to secure coding explicitly by implementing NSApplicationDelegate.applicationSupportsSecureRestorableState:.\n"
     ]
    },
    {
     "name": "stdout",
     "output_type": "stream",
     "text": [
      "avg_verification: 1.0, latency: -0.025859908650561075, goodput: 0.5672632921412551\n",
      "3 fps\n",
      "8 fps\n",
      "8 fps\n",
      "5 fps\n",
      "6 fps\n",
      "avg_verification: 1.0, latency: -0.02691696910512007, goodput: 0.5619850326285786\n",
      "5 fps\n",
      "6 fps\n",
      "6 fps\n",
      "8 fps\n",
      "8 fps\n",
      "avg_verification: 1.0, latency: -0.026890079968876098, goodput: 0.562263704378234\n",
      "8 fps\n",
      "6 fps\n",
      "7 fps\n",
      "6 fps\n",
      "8 fps\n",
      "avg_verification: 1.0, latency: -0.026916167216225834, goodput: 0.5624795248701296\n",
      "8 fps\n",
      "7 fps\n",
      "7 fps\n",
      "10 fps\n",
      "10 fps\n",
      "avg_verification: 1.0, latency: -0.02701599004667267, goodput: 0.5631441268612188\n",
      "8 fps\n",
      "8 fps\n"
     ]
    }
   ],
   "source": [
    "#### parameters that needs to be exhanged between the sender and the receiver #####\n",
    "IP = \"0.0.0.0\"\n",
    "PORT = 23422\n",
    "#################################################################################### \n",
    "\n",
    "while True:\n",
    "   os.system('python3 rx.py ' + \"\\'\" + json.dumps({'IP': IP, 'PORT': PORT}) + \"\\'\")\n"
   ]
  }
 ],
 "metadata": {
  "kernelspec": {
   "display_name": "Python 3",
   "language": "python",
   "name": "python3"
  },
  "language_info": {
   "codemirror_mode": {
    "name": "ipython",
    "version": 3
   },
   "file_extension": ".py",
   "mimetype": "text/x-python",
   "name": "python",
   "nbconvert_exporter": "python",
   "pygments_lexer": "ipython3",
   "version": "3.9.6"
  }
 },
 "nbformat": 4,
 "nbformat_minor": 2
}
