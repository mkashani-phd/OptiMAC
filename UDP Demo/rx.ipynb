{
 "cells": [
  {
   "cell_type": "code",
   "execution_count": null,
   "metadata": {},
   "outputs": [],
   "source": [
    "from src import UDP_RX, SlidingBook, MACChecker\n",
    "import matplotlib.pyplot as plt\n",
    "import numpy as np\n",
    "import cv2\n",
    "import time\n",
    "import json\n",
    "import socket\n",
    "import struct\n",
    "import pickle\n",
    "import sys\n",
    "\n",
    "sys.path.append('..')\n",
    "import utils.utils as utils\n",
    "import utils.Auth as Auth\n",
    "\n",
    "\n",
    "# Getting the Parameters from the sender and Calculating the offset\n",
    "def receive_param(IP, PORT):\n",
    "    param = b''\n",
    "    offset = 0\n",
    "    flag = False\n",
    "    with socket.socket(socket.AF_INET, socket.SOCK_STREAM) as s:\n",
    "        s.setsockopt(socket.SOL_SOCKET, socket.SO_REUSEADDR, 1)\n",
    "        s.bind((IP, PORT))\n",
    "        s.listen()\n",
    "        conn, addr = s.accept()\n",
    "        flag = True\n",
    "        with conn:\n",
    "            while True:\n",
    "                data = conn.recv(1024)\n",
    "                if not data or data == b'END':\n",
    "                    break\n",
    "                param += data\n",
    "    \n",
    "    with socket.socket(socket.AF_INET, socket.SOCK_STREAM) as s:\n",
    "        s.setsockopt(socket.SOL_SOCKET, socket.SO_REUSEADDR, 1)\n",
    "        s.bind((IP, PORT))\n",
    "        s.listen()\n",
    "        conn, addr = s.accept()\n",
    "        with conn:\n",
    "            data2 = conn.recv(16)\n",
    "            offset = time.time() - struct.unpack('d', data2)[0]\n",
    "\n",
    "            try:\n",
    "                param = json.loads(param.decode('utf-8'))\n",
    "                param['OFFSET'] = offset\n",
    "            except:\n",
    "                print(\"Error in decoding the parameters\")\n",
    "                conn.sendall(b'RETRY')\n",
    "                flag = False\n",
    "                return False\n",
    "\n",
    "\n",
    "    with socket.socket(socket.AF_INET, socket.SOCK_STREAM) as s:\n",
    "        s.setsockopt(socket.SOL_SOCKET, socket.SO_REUSEADDR, 1)\n",
    "        s.bind((IP, PORT))\n",
    "        s.listen()\n",
    "        conn, addr = s.accept()\n",
    "        with conn:\n",
    "            if exist_in_resutls(param):\n",
    "                print(\"The parameters already exist in the results\")\n",
    "                conn.sendall(b'ABORT')\n",
    "                flag = False\n",
    "            else:\n",
    "                conn.sendall(b'OK')\n",
    "                flag = True\n",
    "\n",
    "    if flag:\n",
    "        return param\n",
    "    else:\n",
    "        return False\n",
    "\n",
    "\n",
    "def run_experiment(IP, PORT, param):\n",
    "    total_avg_verification = []\n",
    "    goodput_total = []\n",
    "    total_latency = []\n",
    "    framecnt_total = []\n",
    "\n",
    "    cnt = 0\n",
    "    framecnt = 0\n",
    "    start_frame_cnt = time.time()\n",
    "    start = time.time()\n",
    "\n",
    "    while True:\n",
    "\n",
    "        buffer =  SlidingBook(num_pages=100, page_size=len(param['X']))\n",
    "        page_processor = MACChecker(X = param['X'], Y = param['Y'], secret_key=param['KEY'].encode(), digestmod=param['DIGESTMOD'])\n",
    "        udp_rx = UDP_RX(IP= IP, PORT= PORT, buffer=buffer, page_processor= page_processor, Payload_Size_Byte=param['PAYLOAD_SIZE_BYTE'])\n",
    "\n",
    "        msg, verification_count, latency, goodput = udp_rx.receive()\n",
    "        total_avg_verification.append(np.average(verification_count))\n",
    "        total_latency.append(np.average(latency))\n",
    "        goodput_total.append(goodput)\n",
    "\n",
    "\n",
    "        if msg is not None and len(msg) > 0:  # Ensure rec is not None and has valid data\n",
    "            nparr = np.frombuffer(msg, np.uint8)\n",
    "            \n",
    "            if nparr is not None and len(nparr) > 0:  # Check if nparr is valid\n",
    "                try:\n",
    "                    frame = cv2.imdecode(nparr, cv2.IMREAD_COLOR)\n",
    "                    \n",
    "                    if frame is not None:  # Ensure that the frame is successfully decoded\n",
    "                        cv2.imshow('Received Video', frame)\n",
    "                        framecnt += 1\n",
    "                        if time.time() - start_frame_cnt > 1:\n",
    "                            framecnt_total.append(framecnt)\n",
    "                            start_frame_cnt = time.time()\n",
    "                            print(f\"{framecnt} fps\")\n",
    "                            framecnt = 0\n",
    "                            \n",
    "                        if cv2.waitKey(1) & 0xFF == ord('q'):\n",
    "                            break\n",
    "                    else:\n",
    "                        # print(\"Failed to decode frame.\")\n",
    "                        pass\n",
    "                except Exception as e:\n",
    "                    # print(f\"Error decoding frame: {e}\")\n",
    "                    pass\n",
    "            else:\n",
    "                # print(\"Empty or invalid buffer received.\")\n",
    "                pass\n",
    "        else:\n",
    "            # print(\"Received an empty or invalid page.\")\n",
    "            pass\n",
    "\n",
    "        if cnt % 100 == 0:\n",
    "            print(f\"avg_verification: {np.average(total_avg_verification)}, latency: {np.average(total_latency)}, goodput: {np.average(goodput_total)}\")\n",
    "        cnt += 1\n",
    "        \n",
    "        if cv2.waitKey(1) & 0xFF == ord('q'):\n",
    "            break\n",
    "        if time.time() - start > param['DURATION']:\n",
    "            break\n",
    "\n",
    "    cv2.destroyAllWindows()\n",
    "\n",
    "    ## saving the parameters and the results as a json file\n",
    "\n",
    "    results = {\n",
    "        \"avg_verification\": total_avg_verification,\n",
    "        \"latency\": total_latency,\n",
    "        \"goodput\": goodput_total,\n",
    "        \"frame_rate\": framecnt_total,\n",
    "        \"param\": param\n",
    "    }   \n",
    "\n",
    "    # read a pickle file to get the previous results\n",
    "\n",
    "    try:\n",
    "        with open(\"results.pkl\", 'rb') as f:\n",
    "            file = pickle.load(f)\n",
    "            experiment_nr = len(file)\n",
    "            file[experiment_nr]=results\n",
    "            with open(\"results.pkl\", 'wb') as f:\n",
    "                pickle.dump(file, f)\n",
    "    except:\n",
    "        # create a new file\n",
    "        print(\"Creating a new file\")\n",
    "        file = {0:results}\n",
    "        with open(\"results.pkl\", 'wb') as f:\n",
    "            pickle.dump(file, f)\n",
    "    \n",
    "def exist_in_resutls(param):\n",
    "    try:\n",
    "        with open(\"results.pkl\", 'rb') as f:\n",
    "            file = pickle.load(f)\n",
    "            for key in file.keys():\n",
    "                # check all the pram except the offset\n",
    "                if file[key]['param']['X'] == param['X'] and file[key]['param']['Y'] == param['Y'] and file[key]['param']['QUALITY'] == param['QUALITY'] and file[key]['param']['DIGESTMOD'] == param['DIGESTMOD'] and file[key]['param']['PAYLOAD_SIZE_BYTE'] == param['PAYLOAD_SIZE_BYTE'] and file[key]['param']['ATTACK_PROBABILITY'] == param['ATTACK_PROBABILITY']:\n",
    "                    return True\n",
    "            # if file[key]['param'] == param:\n",
    "        return False\n",
    "    except:\n",
    "        return False\n",
    "\n",
    "\n",
    "#### parameters that needs to be exhanged between the sender and the receiver #####\n",
    "IP = \"0.0.0.0\"\n",
    "PORT = 23422\n",
    "#################################################################################### \n",
    "## test the receiver\n",
    "\n",
    "param = receive_param(IP=IP, PORT=PORT)\n",
    "if param:\n",
    "    run_experiment(IP=IP, PORT=PORT, param=param)"
   ]
  },
  {
   "cell_type": "code",
   "execution_count": 12,
   "metadata": {},
   "outputs": [
    {
     "name": "stdout",
     "output_type": "stream",
     "text": [
      "avg_verification: 0.9666666666666666, latency: 0.009122758956603062, goodput: 0.5013610492452363\n"
     ]
    },
    {
     "name": "stderr",
     "output_type": "stream",
     "text": [
      "Corrupt JPEG data: bad Huffman code\n",
      "Corrupt JPEG data: bad Huffman code\n",
      "Corrupt JPEG data: bad Huffman code\n",
      "Corrupt JPEG data: 39 extraneous bytes before marker 0xda\n",
      "Corrupt JPEG data: bad Huffman code\n",
      "Corrupt JPEG data: premature end of data segment\n"
     ]
    },
    {
     "name": "stdout",
     "output_type": "stream",
     "text": [
      "3 fps\n"
     ]
    },
    {
     "name": "stderr",
     "output_type": "stream",
     "text": [
      "Corrupt JPEG data: bad Huffman code\n",
      "Corrupt JPEG data: premature end of data segment\n",
      "Corrupt JPEG data: bad Huffman code\n",
      "Corrupt JPEG data: 21 extraneous bytes before marker 0xda\n",
      "Corrupt JPEG data: premature end of data segment\n",
      "Corrupt JPEG data: bad Huffman code\n",
      "Corrupt JPEG data: premature end of data segment\n",
      "Corrupt JPEG data: bad Huffman code\n",
      "Corrupt JPEG data: 21 extraneous bytes before marker 0xda\n",
      "Corrupt JPEG data: premature end of data segment\n",
      "Corrupt JPEG data: bad Huffman code\n"
     ]
    },
    {
     "name": "stdout",
     "output_type": "stream",
     "text": [
      "5 fps\n"
     ]
    },
    {
     "name": "stderr",
     "output_type": "stream",
     "text": [
      "Corrupt JPEG data: 21 extraneous bytes before marker 0xda\n",
      "Corrupt JPEG data: bad Huffman code\n",
      "Corrupt JPEG data: premature end of data segment\n",
      "Corrupt JPEG data: premature end of data segment\n",
      "Corrupt JPEG data: premature end of data segment\n"
     ]
    },
    {
     "name": "stdout",
     "output_type": "stream",
     "text": [
      "4 fps\n"
     ]
    },
    {
     "name": "stderr",
     "output_type": "stream",
     "text": [
      "Corrupt JPEG data: premature end of data segment\n",
      "Corrupt JPEG data: 1771 extraneous bytes before marker 0xc4\n"
     ]
    },
    {
     "name": "stdout",
     "output_type": "stream",
     "text": [
      "avg_verification: 0.9726839433211854, latency: -0.04293587270814062, goodput: 0.4763685395001067\n"
     ]
    },
    {
     "name": "stderr",
     "output_type": "stream",
     "text": [
      "Corrupt JPEG data: 21 extraneous bytes before marker 0xda\n",
      "Corrupt JPEG data: premature end of data segment\n",
      "Corrupt JPEG data: 472 extraneous bytes before marker 0xd9\n"
     ]
    },
    {
     "name": "stdout",
     "output_type": "stream",
     "text": [
      "2 fps\n"
     ]
    },
    {
     "name": "stderr",
     "output_type": "stream",
     "text": [
      "Corrupt JPEG data: premature end of data segment\n",
      "Corrupt JPEG data: bad Huffman code\n",
      "Corrupt JPEG data: bad Huffman code\n",
      "Corrupt JPEG data: bad Huffman code\n",
      "Corrupt JPEG data: bad Huffman code\n",
      "Corrupt JPEG data: 21 extraneous bytes before marker 0xda\n",
      "Corrupt JPEG data: bad Huffman code\n"
     ]
    },
    {
     "name": "stdout",
     "output_type": "stream",
     "text": [
      "6 fps\n"
     ]
    },
    {
     "name": "stderr",
     "output_type": "stream",
     "text": [
      "Corrupt JPEG data: bad Huffman code\n",
      "Corrupt JPEG data: bad Huffman code\n",
      "Corrupt JPEG data: premature end of data segment\n",
      "Corrupt JPEG data: premature end of data segment\n",
      "Corrupt JPEG data: premature end of data segment\n",
      "Corrupt JPEG data: bad Huffman code\n"
     ]
    },
    {
     "name": "stdout",
     "output_type": "stream",
     "text": [
      "6 fps\n"
     ]
    },
    {
     "name": "stderr",
     "output_type": "stream",
     "text": [
      "Corrupt JPEG data: bad Huffman code\n",
      "Corrupt JPEG data: bad Huffman code\n"
     ]
    },
    {
     "name": "stdout",
     "output_type": "stream",
     "text": [
      "avg_verification: nan, latency: nan, goodput: 0.4750100775640973\n"
     ]
    },
    {
     "name": "stderr",
     "output_type": "stream",
     "text": [
      "Corrupt JPEG data: 12 extraneous bytes before marker 0xc4\n",
      "Corrupt JPEG data: 21 extraneous bytes before marker 0xda\n",
      "Corrupt JPEG data: bad Huffman code\n",
      "Corrupt JPEG data: bad Huffman code\n",
      "Corrupt JPEG data: 18 extraneous bytes before marker 0xda\n",
      "Corrupt JPEG data: bad Huffman code\n",
      "Corrupt JPEG data: bad Huffman code\n",
      "Corrupt JPEG data: bad Huffman code\n"
     ]
    },
    {
     "name": "stdout",
     "output_type": "stream",
     "text": [
      "5 fps\n"
     ]
    },
    {
     "name": "stderr",
     "output_type": "stream",
     "text": [
      "Corrupt JPEG data: premature end of data segment\n",
      "Corrupt JPEG data: bad Huffman code\n",
      "Corrupt JPEG data: bad Huffman code\n",
      "Corrupt JPEG data: bad Huffman code\n",
      "Corrupt JPEG data: premature end of data segment\n"
     ]
    },
    {
     "name": "stdout",
     "output_type": "stream",
     "text": [
      "6 fps\n"
     ]
    },
    {
     "name": "stderr",
     "output_type": "stream",
     "text": [
      "Corrupt JPEG data: premature end of data segment\n",
      "Corrupt JPEG data: 20 extraneous bytes before marker 0xda\n",
      "Corrupt JPEG data: 26 extraneous bytes before marker 0xda\n",
      "Corrupt JPEG data: bad Huffman code\n",
      "Corrupt JPEG data: bad Huffman code\n",
      "Corrupt JPEG data: bad Huffman code\n",
      "Corrupt JPEG data: bad Huffman code\n",
      "Corrupt JPEG data: bad Huffman code\n",
      "Corrupt JPEG data: 20 extraneous bytes before marker 0xda\n",
      "Corrupt JPEG data: bad Huffman code\n",
      "Corrupt JPEG data: bad Huffman code\n"
     ]
    },
    {
     "name": "stdout",
     "output_type": "stream",
     "text": [
      "9 fps\n"
     ]
    },
    {
     "name": "stderr",
     "output_type": "stream",
     "text": [
      "Corrupt JPEG data: premature end of data segment\n",
      "Corrupt JPEG data: premature end of data segment\n",
      "Corrupt JPEG data: premature end of data segment\n",
      "Corrupt JPEG data: premature end of data segment\n"
     ]
    },
    {
     "name": "stdout",
     "output_type": "stream",
     "text": [
      "avg_verification: nan, latency: nan, goodput: 0.47845297401954423\n"
     ]
    },
    {
     "name": "stderr",
     "output_type": "stream",
     "text": [
      "Corrupt JPEG data: premature end of data segment\n",
      "Corrupt JPEG data: bad Huffman code\n",
      "Corrupt JPEG data: bad Huffman code\n"
     ]
    },
    {
     "name": "stdout",
     "output_type": "stream",
     "text": [
      "6 fps\n"
     ]
    },
    {
     "name": "stderr",
     "output_type": "stream",
     "text": [
      "Corrupt JPEG data: premature end of data segment\n",
      "Corrupt JPEG data: premature end of data segment\n",
      "Corrupt JPEG data: bad Huffman code\n",
      "Corrupt JPEG data: premature end of data segment\n",
      "Corrupt JPEG data: bad Huffman code\n",
      "Corrupt JPEG data: premature end of data segment\n",
      "Corrupt JPEG data: bad Huffman code\n",
      "Corrupt JPEG data: premature end of data segment\n",
      "Corrupt JPEG data: 9 extraneous bytes before marker 0xda\n"
     ]
    },
    {
     "name": "stdout",
     "output_type": "stream",
     "text": [
      "7 fps\n"
     ]
    },
    {
     "name": "stderr",
     "output_type": "stream",
     "text": [
      "Corrupt JPEG data: premature end of data segment\n",
      "Corrupt JPEG data: bad Huffman code\n",
      "Corrupt JPEG data: 3110 extraneous bytes before marker 0xd9\n",
      "Corrupt JPEG data: premature end of data segment\n",
      "Corrupt JPEG data: premature end of data segment\n",
      "Corrupt JPEG data: bad Huffman code\n",
      "Corrupt JPEG data: 20 extraneous bytes before marker 0xda\n",
      "Corrupt JPEG data: bad Huffman code\n",
      "Corrupt JPEG data: premature end of data segment\n",
      "Corrupt JPEG data: 20 extraneous bytes before marker 0xda\n",
      "Corrupt JPEG data: bad Huffman code\n"
     ]
    },
    {
     "name": "stdout",
     "output_type": "stream",
     "text": [
      "7 fps\n"
     ]
    },
    {
     "name": "stderr",
     "output_type": "stream",
     "text": [
      "Corrupt JPEG data: bad Huffman code\n",
      "Corrupt JPEG data: bad Huffman code\n",
      "Corrupt JPEG data: premature end of data segment\n",
      "Corrupt JPEG data: premature end of data segment\n",
      "Corrupt JPEG data: premature end of data segment\n",
      "Corrupt JPEG data: bad Huffman code\n",
      "Corrupt JPEG data: 11 extraneous bytes before marker 0xd9\n",
      "Corrupt JPEG data: bad Huffman code\n"
     ]
    },
    {
     "name": "stdout",
     "output_type": "stream",
     "text": [
      "6 fps\n",
      "avg_verification: nan, latency: nan, goodput: 0.47690165443251903\n"
     ]
    },
    {
     "name": "stderr",
     "output_type": "stream",
     "text": [
      "Corrupt JPEG data: bad Huffman code\n",
      "Corrupt JPEG data: premature end of data segment\n",
      "Corrupt JPEG data: 20 extraneous bytes before marker 0xda\n",
      "Corrupt JPEG data: bad Huffman code\n",
      "Corrupt JPEG data: bad Huffman code\n"
     ]
    },
    {
     "name": "stdout",
     "output_type": "stream",
     "text": [
      "6 fps\n"
     ]
    },
    {
     "name": "stderr",
     "output_type": "stream",
     "text": [
      "Corrupt JPEG data: bad Huffman code\n",
      "Corrupt JPEG data: bad Huffman code\n",
      "Corrupt JPEG data: bad Huffman code\n",
      "Corrupt JPEG data: bad Huffman code\n",
      "Corrupt JPEG data: bad Huffman code\n",
      "Corrupt JPEG data: premature end of data segment\n"
     ]
    },
    {
     "name": "stdout",
     "output_type": "stream",
     "text": [
      "3 fps\n"
     ]
    },
    {
     "name": "stderr",
     "output_type": "stream",
     "text": [
      "Corrupt JPEG data: bad Huffman code\n",
      "Corrupt JPEG data: premature end of data segment\n",
      "Corrupt JPEG data: bad Huffman code\n",
      "Corrupt JPEG data: bad Huffman code\n",
      "Corrupt JPEG data: premature end of data segment\n",
      "Corrupt JPEG data: bad Huffman code\n",
      "Corrupt JPEG data: bad Huffman code\n",
      "Corrupt JPEG data: premature end of data segment\n",
      "Corrupt JPEG data: bad Huffman code\n",
      "Corrupt JPEG data: premature end of data segment\n"
     ]
    },
    {
     "name": "stdout",
     "output_type": "stream",
     "text": [
      "7 fps\n"
     ]
    },
    {
     "name": "stderr",
     "output_type": "stream",
     "text": [
      "Corrupt JPEG data: premature end of data segment\n",
      "Corrupt JPEG data: premature end of data segment\n",
      "Corrupt JPEG data: bad Huffman code\n",
      "Corrupt JPEG data: premature end of data segment\n",
      "Corrupt JPEG data: premature end of data segment\n"
     ]
    },
    {
     "name": "stdout",
     "output_type": "stream",
     "text": [
      "avg_verification: nan, latency: nan, goodput: 0.4777885745487831\n",
      "5 fps\n"
     ]
    },
    {
     "name": "stderr",
     "output_type": "stream",
     "text": [
      "Corrupt JPEG data: bad Huffman code\n",
      "Corrupt JPEG data: premature end of data segment\n",
      "Corrupt JPEG data: bad Huffman code\n",
      "Corrupt JPEG data: premature end of data segment\n",
      "Corrupt JPEG data: premature end of data segment\n",
      "Corrupt JPEG data: bad Huffman code\n",
      "Corrupt JPEG data: bad Huffman code\n"
     ]
    },
    {
     "name": "stdout",
     "output_type": "stream",
     "text": [
      "6 fps\n"
     ]
    },
    {
     "name": "stderr",
     "output_type": "stream",
     "text": [
      "Corrupt JPEG data: premature end of data segment\n",
      "Corrupt JPEG data: premature end of data segment\n",
      "Corrupt JPEG data: bad Huffman code\n",
      "Corrupt JPEG data: premature end of data segment\n",
      "Corrupt JPEG data: bad Huffman code\n",
      "Corrupt JPEG data: bad Huffman code\n",
      "Corrupt JPEG data: bad Huffman code\n"
     ]
    },
    {
     "name": "stdout",
     "output_type": "stream",
     "text": [
      "5 fps\n"
     ]
    },
    {
     "name": "stderr",
     "output_type": "stream",
     "text": [
      "Corrupt JPEG data: premature end of data segment\n",
      "Corrupt JPEG data: bad Huffman code\n",
      "Corrupt JPEG data: bad Huffman code\n",
      "Corrupt JPEG data: premature end of data segment\n"
     ]
    },
    {
     "name": "stdout",
     "output_type": "stream",
     "text": [
      "4 fps\n"
     ]
    },
    {
     "name": "stderr",
     "output_type": "stream",
     "text": [
      "Corrupt JPEG data: premature end of data segment\n",
      "Corrupt JPEG data: bad Huffman code\n",
      "Corrupt JPEG data: premature end of data segment\n",
      "Corrupt JPEG data: premature end of data segment\n"
     ]
    },
    {
     "name": "stdout",
     "output_type": "stream",
     "text": [
      "avg_verification: nan, latency: nan, goodput: 0.4772345882940723\n"
     ]
    },
    {
     "name": "stderr",
     "output_type": "stream",
     "text": [
      "Corrupt JPEG data: premature end of data segment\n",
      "Corrupt JPEG data: bad Huffman code\n",
      "Corrupt JPEG data: premature end of data segment\n",
      "Corrupt JPEG data: bad Huffman code\n",
      "Corrupt JPEG data: bad Huffman code\n",
      "Corrupt JPEG data: bad Huffman code\n"
     ]
    },
    {
     "name": "stdout",
     "output_type": "stream",
     "text": [
      "6 fps\n"
     ]
    },
    {
     "name": "stderr",
     "output_type": "stream",
     "text": [
      "Corrupt JPEG data: 3 extraneous bytes before marker 0xda\n",
      "Corrupt JPEG data: bad Huffman code\n",
      "Corrupt JPEG data: bad Huffman code\n",
      "Corrupt JPEG data: bad Huffman code\n",
      "Corrupt JPEG data: 20 extraneous bytes before marker 0xda\n",
      "Corrupt JPEG data: bad Huffman code\n",
      "Corrupt JPEG data: bad Huffman code\n",
      "Corrupt JPEG data: bad Huffman code\n",
      "Corrupt JPEG data: premature end of data segment\n",
      "Corrupt JPEG data: premature end of data segment\n",
      "Corrupt JPEG data: premature end of data segment\n"
     ]
    },
    {
     "name": "stdout",
     "output_type": "stream",
     "text": [
      "9 fps\n"
     ]
    },
    {
     "name": "stderr",
     "output_type": "stream",
     "text": [
      "Corrupt JPEG data: premature end of data segment\n",
      "Corrupt JPEG data: bad Huffman code\n",
      "Corrupt JPEG data: bad Huffman code\n",
      "Corrupt JPEG data: bad Huffman code\n",
      "Corrupt JPEG data: bad Huffman code\n",
      "Corrupt JPEG data: bad Huffman code\n",
      "Corrupt JPEG data: bad Huffman code\n",
      "Corrupt JPEG data: bad Huffman code\n",
      "Corrupt JPEG data: bad Huffman code\n",
      "Corrupt JPEG data: bad Huffman code\n"
     ]
    },
    {
     "name": "stdout",
     "output_type": "stream",
     "text": [
      "8 fps\n"
     ]
    },
    {
     "name": "stderr",
     "output_type": "stream",
     "text": [
      "Corrupt JPEG data: premature end of data segment\n"
     ]
    },
    {
     "name": "stdout",
     "output_type": "stream",
     "text": [
      "avg_verification: nan, latency: nan, goodput: 0.47543740378408256\n"
     ]
    },
    {
     "name": "stderr",
     "output_type": "stream",
     "text": [
      "Corrupt JPEG data: bad Huffman code\n",
      "Corrupt JPEG data: bad Huffman code\n"
     ]
    },
    {
     "name": "stdout",
     "output_type": "stream",
     "text": [
      "2 fps\n"
     ]
    },
    {
     "name": "stderr",
     "output_type": "stream",
     "text": [
      "Corrupt JPEG data: premature end of data segment\n",
      "Corrupt JPEG data: bad Huffman code\n",
      "Corrupt JPEG data: bad Huffman code\n",
      "Corrupt JPEG data: premature end of data segment\n",
      "Corrupt JPEG data: premature end of data segment\n"
     ]
    },
    {
     "name": "stdout",
     "output_type": "stream",
     "text": [
      "5 fps\n"
     ]
    },
    {
     "name": "stderr",
     "output_type": "stream",
     "text": [
      "Corrupt JPEG data: premature end of data segment\n",
      "Corrupt JPEG data: 378 extraneous bytes before marker 0xc4\n",
      "Corrupt JPEG data: bad Huffman code\n",
      "Corrupt JPEG data: bad Huffman code\n",
      "Corrupt JPEG data: 20 extraneous bytes before marker 0xda\n"
     ]
    },
    {
     "name": "stdout",
     "output_type": "stream",
     "text": [
      "avg_verification: 0.9000000000000001, latency: -0.0026937358173323264, goodput: 0.47163571610277283\n"
     ]
    },
    {
     "name": "stderr",
     "output_type": "stream",
     "text": [
      "Corrupt JPEG data: 12 extraneous bytes before marker 0xc4\n",
      "Corrupt JPEG data: bad Huffman code\n",
      "Corrupt JPEG data: bad Huffman code\n",
      "Corrupt JPEG data: bad Huffman code\n",
      "Corrupt JPEG data: bad Huffman code\n",
      "Corrupt JPEG data: bad Huffman code\n",
      "Corrupt JPEG data: 21 extraneous bytes before marker 0xda\n",
      "Corrupt JPEG data: bad Huffman code\n",
      "Corrupt JPEG data: bad Huffman code\n",
      "Corrupt JPEG data: bad Huffman code\n"
     ]
    },
    {
     "name": "stdout",
     "output_type": "stream",
     "text": [
      "4 fps\n"
     ]
    },
    {
     "name": "stderr",
     "output_type": "stream",
     "text": [
      "Corrupt JPEG data: 20 extraneous bytes before marker 0xda\n",
      "Corrupt JPEG data: 20 extraneous bytes before marker 0xda\n",
      "Corrupt JPEG data: 20 extraneous bytes before marker 0xda\n",
      "Corrupt JPEG data: 20 extraneous bytes before marker 0xda\n",
      "Corrupt JPEG data: bad Huffman code\n",
      "Corrupt JPEG data: bad Huffman code\n",
      "Corrupt JPEG data: bad Huffman code\n",
      "Corrupt JPEG data: 20 extraneous bytes before marker 0xda\n",
      "Corrupt JPEG data: bad Huffman code\n",
      "Corrupt JPEG data: bad Huffman code\n",
      "Corrupt JPEG data: 12 extraneous bytes before marker 0xc4\n",
      "Corrupt JPEG data: 20 extraneous bytes before marker 0xda\n",
      "Corrupt JPEG data: 18 extraneous bytes before marker 0xc4\n",
      "Corrupt JPEG data: bad Huffman code\n",
      "Corrupt JPEG data: 20 extraneous bytes before marker 0xda\n",
      "Corrupt JPEG data: 1534 extraneous bytes before marker 0xda\n"
     ]
    },
    {
     "name": "stdout",
     "output_type": "stream",
     "text": [
      "avg_verification: 0.862452133464801, latency: -0.149525916238564, goodput: 0.4438797521100464\n",
      "2 fps\n"
     ]
    },
    {
     "name": "stderr",
     "output_type": "stream",
     "text": [
      "Corrupt JPEG data: bad Huffman code\n",
      "Corrupt JPEG data: 20 extraneous bytes before marker 0xda\n",
      "Corrupt JPEG data: 1461 extraneous bytes before marker 0xc4\n",
      "Corrupt JPEG data: bad Huffman code\n",
      "Corrupt JPEG data: bad Huffman code\n",
      "Corrupt JPEG data: bad Huffman code\n",
      "Corrupt JPEG data: bad Huffman code\n",
      "Corrupt JPEG data: 12 extraneous bytes before marker 0xc4\n",
      "Corrupt JPEG data: 1509 extraneous bytes before marker 0xc4\n",
      "Corrupt JPEG data: bad Huffman code\n",
      "Corrupt JPEG data: bad Huffman code\n",
      "Corrupt JPEG data: 20 extraneous bytes before marker 0xda\n",
      "Corrupt JPEG data: bad Huffman code\n",
      "Corrupt JPEG data: 1384 extraneous bytes before marker 0xc4\n",
      "Corrupt JPEG data: bad Huffman code\n",
      "Corrupt JPEG data: bad Huffman code\n"
     ]
    },
    {
     "name": "stdout",
     "output_type": "stream",
     "text": [
      "7 fps\n"
     ]
    },
    {
     "name": "stderr",
     "output_type": "stream",
     "text": [
      "Corrupt JPEG data: 1438 extraneous bytes before marker 0xc4\n",
      "Corrupt JPEG data: 20 extraneous bytes before marker 0xda\n",
      "Corrupt JPEG data: bad Huffman code\n",
      "Corrupt JPEG data: bad Huffman code\n",
      "Corrupt JPEG data: bad Huffman code\n",
      "Corrupt JPEG data: bad Huffman code\n",
      "Corrupt JPEG data: 20 extraneous bytes before marker 0xda\n",
      "Corrupt JPEG data: 20 extraneous bytes before marker 0xda\n",
      "Corrupt JPEG data: bad Huffman code\n",
      "Corrupt JPEG data: 20 extraneous bytes before marker 0xda\n",
      "Corrupt JPEG data: bad Huffman code\n",
      "Corrupt JPEG data: bad Huffman code\n",
      "Corrupt JPEG data: 1359 extraneous bytes before marker 0xc4\n",
      "Corrupt JPEG data: 20 extraneous bytes before marker 0xda\n",
      "Corrupt JPEG data: 20 extraneous bytes before marker 0xda\n",
      "Corrupt JPEG data: bad Huffman code\n"
     ]
    },
    {
     "name": "stdout",
     "output_type": "stream",
     "text": [
      "4 fps\n",
      "avg_verification: 0.8625490567621825, latency: -0.15261700590001614, goodput: 0.4398240745975076\n"
     ]
    },
    {
     "name": "stderr",
     "output_type": "stream",
     "text": [
      "Corrupt JPEG data: 1594 extraneous bytes before marker 0xc4\n",
      "Corrupt JPEG data: bad Huffman code\n",
      "Corrupt JPEG data: bad Huffman code\n",
      "Corrupt JPEG data: bad Huffman code\n",
      "Corrupt JPEG data: bad Huffman code\n",
      "Corrupt JPEG data: bad Huffman code\n",
      "Corrupt JPEG data: 1411 extraneous bytes before marker 0xc4\n",
      "Corrupt JPEG data: 20 extraneous bytes before marker 0xda\n",
      "Corrupt JPEG data: bad Huffman code\n",
      "Corrupt JPEG data: bad Huffman code\n",
      "Corrupt JPEG data: 20 extraneous bytes before marker 0xda\n",
      "Corrupt JPEG data: bad Huffman code\n"
     ]
    },
    {
     "name": "stdout",
     "output_type": "stream",
     "text": [
      "2 fps\n"
     ]
    },
    {
     "name": "stderr",
     "output_type": "stream",
     "text": [
      "Corrupt JPEG data: bad Huffman code\n",
      "Corrupt JPEG data: bad Huffman code\n",
      "Corrupt JPEG data: bad Huffman code\n",
      "Corrupt JPEG data: bad Huffman code\n",
      "Corrupt JPEG data: 20 extraneous bytes before marker 0xda\n",
      "Corrupt JPEG data: bad Huffman code\n",
      "Corrupt JPEG data: 20 extraneous bytes before marker 0xda\n",
      "Corrupt JPEG data: 18 extraneous bytes before marker 0xc4\n",
      "Corrupt JPEG data: bad Huffman code\n",
      "Corrupt JPEG data: bad Huffman code\n"
     ]
    },
    {
     "name": "stdout",
     "output_type": "stream",
     "text": [
      "2 fps\n"
     ]
    },
    {
     "name": "stderr",
     "output_type": "stream",
     "text": [
      "Corrupt JPEG data: bad Huffman code\n",
      "Corrupt JPEG data: bad Huffman code\n",
      "Corrupt JPEG data: bad Huffman code\n",
      "Corrupt JPEG data: bad Huffman code\n",
      "Corrupt JPEG data: bad Huffman code\n",
      "Corrupt JPEG data: bad Huffman code\n",
      "Corrupt JPEG data: bad Huffman code\n"
     ]
    },
    {
     "name": "stdout",
     "output_type": "stream",
     "text": [
      "avg_verification: nan, latency: nan, goodput: 0.44069368404371306\n"
     ]
    },
    {
     "name": "stderr",
     "output_type": "stream",
     "text": [
      "Corrupt JPEG data: 12 extraneous bytes before marker 0xc4\n",
      "Corrupt JPEG data: bad Huffman code\n",
      "Corrupt JPEG data: bad Huffman code\n",
      "Corrupt JPEG data: bad Huffman code\n"
     ]
    },
    {
     "name": "stdout",
     "output_type": "stream",
     "text": [
      "3 fps\n"
     ]
    },
    {
     "name": "stderr",
     "output_type": "stream",
     "text": [
      "Corrupt JPEG data: bad Huffman code\n",
      "Corrupt JPEG data: 20 extraneous bytes before marker 0xda\n",
      "Corrupt JPEG data: bad Huffman code\n",
      "Corrupt JPEG data: bad Huffman code\n",
      "Corrupt JPEG data: 20 extraneous bytes before marker 0xda\n",
      "Corrupt JPEG data: bad Huffman code\n",
      "Corrupt JPEG data: bad Huffman code\n"
     ]
    },
    {
     "name": "stdout",
     "output_type": "stream",
     "text": [
      "3 fps\n"
     ]
    },
    {
     "name": "stderr",
     "output_type": "stream",
     "text": [
      "Corrupt JPEG data: 20 extraneous bytes before marker 0xda\n",
      "Corrupt JPEG data: bad Huffman code\n",
      "Corrupt JPEG data: bad Huffman code\n",
      "Corrupt JPEG data: bad Huffman code\n",
      "Corrupt JPEG data: bad Huffman code\n",
      "Corrupt JPEG data: bad Huffman code\n",
      "Corrupt JPEG data: bad Huffman code\n",
      "Corrupt JPEG data: bad Huffman code\n",
      "Corrupt JPEG data: 1543 extraneous bytes before marker 0xc4\n",
      "Corrupt JPEG data: bad Huffman code\n",
      "Corrupt JPEG data: 20 extraneous bytes before marker 0xda\n"
     ]
    },
    {
     "name": "stdout",
     "output_type": "stream",
     "text": [
      "5 fps\n"
     ]
    },
    {
     "name": "stderr",
     "output_type": "stream",
     "text": [
      "Corrupt JPEG data: 20 extraneous bytes before marker 0xda\n",
      "Corrupt JPEG data: bad Huffman code\n",
      "Corrupt JPEG data: 20 extraneous bytes before marker 0xda\n"
     ]
    },
    {
     "name": "stdout",
     "output_type": "stream",
     "text": [
      "avg_verification: nan, latency: nan, goodput: 0.4424130150232735\n"
     ]
    },
    {
     "name": "stderr",
     "output_type": "stream",
     "text": [
      "Corrupt JPEG data: bad Huffman code\n",
      "Corrupt JPEG data: bad Huffman code\n",
      "Corrupt JPEG data: bad Huffman code\n",
      "Corrupt JPEG data: bad Huffman code\n",
      "Corrupt JPEG data: bad Huffman code\n",
      "Corrupt JPEG data: bad Huffman code\n"
     ]
    },
    {
     "name": "stdout",
     "output_type": "stream",
     "text": [
      "4 fps\n"
     ]
    },
    {
     "name": "stderr",
     "output_type": "stream",
     "text": [
      "Corrupt JPEG data: 20 extraneous bytes before marker 0xda\n",
      "Corrupt JPEG data: 20 extraneous bytes before marker 0xda\n",
      "Corrupt JPEG data: bad Huffman code\n",
      "Corrupt JPEG data: bad Huffman code\n",
      "Corrupt JPEG data: 1545 extraneous bytes before marker 0xc4\n",
      "Corrupt JPEG data: bad Huffman code\n",
      "Corrupt JPEG data: bad Huffman code\n",
      "Corrupt JPEG data: bad Huffman code\n"
     ]
    },
    {
     "name": "stdout",
     "output_type": "stream",
     "text": [
      "2 fps\n"
     ]
    },
    {
     "name": "stderr",
     "output_type": "stream",
     "text": [
      "Corrupt JPEG data: 12 extraneous bytes before marker 0xc4\n",
      "Corrupt JPEG data: 20 extraneous bytes before marker 0xda\n",
      "Corrupt JPEG data: bad Huffman code\n",
      "Corrupt JPEG data: bad Huffman code\n",
      "Corrupt JPEG data: bad Huffman code\n",
      "Corrupt JPEG data: bad Huffman code\n",
      "Corrupt JPEG data: 20 extraneous bytes before marker 0xda\n",
      "Corrupt JPEG data: 20 extraneous bytes before marker 0xda\n",
      "Corrupt JPEG data: 1687 extraneous bytes before marker 0xc4\n",
      "Corrupt JPEG data: bad Huffman code\n",
      "Corrupt JPEG data: bad Huffman code\n",
      "Corrupt JPEG data: bad Huffman code\n",
      "Corrupt JPEG data: bad Huffman code\n",
      "Corrupt JPEG data: bad Huffman code\n",
      "Corrupt JPEG data: bad Huffman code\n"
     ]
    },
    {
     "name": "stdout",
     "output_type": "stream",
     "text": [
      "3 fps\n",
      "avg_verification: nan, latency: nan, goodput: 0.44488545473316643\n"
     ]
    },
    {
     "name": "stderr",
     "output_type": "stream",
     "text": [
      "Corrupt JPEG data: 20 extraneous bytes before marker 0xda\n",
      "Corrupt JPEG data: bad Huffman code\n",
      "Corrupt JPEG data: 20 extraneous bytes before marker 0xda\n",
      "Corrupt JPEG data: bad Huffman code\n",
      "Corrupt JPEG data: bad Huffman code\n"
     ]
    },
    {
     "name": "stdout",
     "output_type": "stream",
     "text": [
      "2 fps\n"
     ]
    },
    {
     "name": "stderr",
     "output_type": "stream",
     "text": [
      "Corrupt JPEG data: bad Huffman code\n",
      "Corrupt JPEG data: bad Huffman code\n",
      "Corrupt JPEG data: bad Huffman code\n",
      "Corrupt JPEG data: bad Huffman code\n",
      "Corrupt JPEG data: 20 extraneous bytes before marker 0xda\n",
      "Corrupt JPEG data: bad Huffman code\n",
      "Corrupt JPEG data: 20 extraneous bytes before marker 0xda\n",
      "Corrupt JPEG data: bad Huffman code\n",
      "Corrupt JPEG data: bad Huffman code\n"
     ]
    },
    {
     "name": "stdout",
     "output_type": "stream",
     "text": [
      "3 fps\n"
     ]
    },
    {
     "name": "stderr",
     "output_type": "stream",
     "text": [
      "Corrupt JPEG data: bad Huffman code\n",
      "Corrupt JPEG data: bad Huffman code\n",
      "Corrupt JPEG data: 20 extraneous bytes before marker 0xda\n",
      "Corrupt JPEG data: bad Huffman code\n",
      "Corrupt JPEG data: premature end of data segment\n"
     ]
    },
    {
     "name": "stdout",
     "output_type": "stream",
     "text": [
      "avg_verification: nan, latency: nan, goodput: 0.44649238812328806\n",
      "4 fps\n"
     ]
    },
    {
     "name": "stderr",
     "output_type": "stream",
     "text": [
      "Corrupt JPEG data: bad Huffman code\n",
      "Corrupt JPEG data: 1487 extraneous bytes before marker 0xda\n",
      "Corrupt JPEG data: 20 extraneous bytes before marker 0xda\n",
      "Corrupt JPEG data: 1548 extraneous bytes before marker 0xc4\n",
      "Corrupt JPEG data: bad Huffman code\n",
      "Corrupt JPEG data: bad Huffman code\n",
      "Corrupt JPEG data: 20 extraneous bytes before marker 0xda\n",
      "Corrupt JPEG data: bad Huffman code\n",
      "Corrupt JPEG data: bad Huffman code\n",
      "Corrupt JPEG data: bad Huffman code\n",
      "Corrupt JPEG data: bad Huffman code\n",
      "Corrupt JPEG data: bad Huffman code\n",
      "Corrupt JPEG data: 20 extraneous bytes before marker 0xda\n"
     ]
    },
    {
     "name": "stdout",
     "output_type": "stream",
     "text": [
      "2 fps\n"
     ]
    },
    {
     "name": "stderr",
     "output_type": "stream",
     "text": [
      "Corrupt JPEG data: bad Huffman code\n",
      "Corrupt JPEG data: bad Huffman code\n",
      "Corrupt JPEG data: bad Huffman code\n",
      "Corrupt JPEG data: bad Huffman code\n",
      "Corrupt JPEG data: bad Huffman code\n",
      "Corrupt JPEG data: 20 extraneous bytes before marker 0xda\n",
      "Corrupt JPEG data: bad Huffman code\n",
      "Corrupt JPEG data: bad Huffman code\n",
      "Corrupt JPEG data: bad Huffman code\n",
      "Corrupt JPEG data: 20 extraneous bytes before marker 0xda\n"
     ]
    },
    {
     "name": "stdout",
     "output_type": "stream",
     "text": [
      "2 fps\n"
     ]
    },
    {
     "name": "stderr",
     "output_type": "stream",
     "text": [
      "Corrupt JPEG data: bad Huffman code\n",
      "Corrupt JPEG data: bad Huffman code\n",
      "Corrupt JPEG data: bad Huffman code\n",
      "Corrupt JPEG data: bad Huffman code\n",
      "Corrupt JPEG data: bad Huffman code\n",
      "Corrupt JPEG data: 20 extraneous bytes before marker 0xda\n"
     ]
    },
    {
     "name": "stdout",
     "output_type": "stream",
     "text": [
      "avg_verification: nan, latency: nan, goodput: 0.44649073155873936\n"
     ]
    },
    {
     "name": "stderr",
     "output_type": "stream",
     "text": [
      "Corrupt JPEG data: bad Huffman code\n",
      "Corrupt JPEG data: bad Huffman code\n",
      "Corrupt JPEG data: 1790 extraneous bytes before marker 0xc4\n",
      "Corrupt JPEG data: bad Huffman code\n",
      "Corrupt JPEG data: 18 extraneous bytes before marker 0xc4\n"
     ]
    },
    {
     "name": "stdout",
     "output_type": "stream",
     "text": [
      "4 fps\n"
     ]
    },
    {
     "name": "stderr",
     "output_type": "stream",
     "text": [
      "Corrupt JPEG data: bad Huffman code\n",
      "Corrupt JPEG data: 20 extraneous bytes before marker 0xda\n",
      "Corrupt JPEG data: bad Huffman code\n",
      "Corrupt JPEG data: bad Huffman code\n",
      "Corrupt JPEG data: bad Huffman code\n",
      "Corrupt JPEG data: bad Huffman code\n",
      "Corrupt JPEG data: bad Huffman code\n"
     ]
    },
    {
     "name": "stdout",
     "output_type": "stream",
     "text": [
      "3 fps\n"
     ]
    },
    {
     "name": "stderr",
     "output_type": "stream",
     "text": [
      "Corrupt JPEG data: bad Huffman code\n",
      "Corrupt JPEG data: 20 extraneous bytes before marker 0xda\n",
      "Corrupt JPEG data: bad Huffman code\n",
      "Corrupt JPEG data: bad Huffman code\n",
      "Corrupt JPEG data: bad Huffman code\n",
      "Corrupt JPEG data: 20 extraneous bytes before marker 0xda\n",
      "Corrupt JPEG data: bad Huffman code\n",
      "Corrupt JPEG data: bad Huffman code\n",
      "Corrupt JPEG data: 18 extraneous bytes before marker 0xc4\n",
      "Corrupt JPEG data: 1744 extraneous bytes before marker 0xc4\n",
      "Corrupt JPEG data: 1452 extraneous bytes before marker 0xc4\n",
      "Corrupt JPEG data: premature end of data segment\n",
      "Corrupt JPEG data: bad Huffman code\n"
     ]
    },
    {
     "name": "stdout",
     "output_type": "stream",
     "text": [
      "3 fps\n"
     ]
    },
    {
     "name": "stderr",
     "output_type": "stream",
     "text": [
      "Corrupt JPEG data: bad Huffman code\n",
      "Corrupt JPEG data: bad Huffman code\n",
      "Corrupt JPEG data: bad Huffman code\n",
      "Corrupt JPEG data: bad Huffman code\n",
      "Corrupt JPEG data: bad Huffman code\n",
      "Corrupt JPEG data: bad Huffman code\n"
     ]
    },
    {
     "name": "stdout",
     "output_type": "stream",
     "text": [
      "avg_verification: nan, latency: nan, goodput: 0.44711136411348795\n"
     ]
    },
    {
     "name": "stderr",
     "output_type": "stream",
     "text": [
      "Corrupt JPEG data: 20 extraneous bytes before marker 0xda\n",
      "Corrupt JPEG data: 12 extraneous bytes before marker 0xc4\n",
      "Corrupt JPEG data: bad Huffman code\n",
      "Corrupt JPEG data: bad Huffman code\n"
     ]
    },
    {
     "name": "stdout",
     "output_type": "stream",
     "text": [
      "avg_verification: 0.7705882352941177, latency: -0.008325136301490031, goodput: 0.4207428170988087\n"
     ]
    },
    {
     "name": "stderr",
     "output_type": "stream",
     "text": [
      "Corrupt JPEG data: 20 extraneous bytes before marker 0xda\n",
      "Corrupt JPEG data: bad Huffman code\n",
      "Corrupt JPEG data: 20 extraneous bytes before marker 0xda\n",
      "Corrupt JPEG data: 1384 extraneous bytes before marker 0xda\n",
      "Corrupt JPEG data: 1108 extraneous bytes before marker 0xc4\n",
      "Corrupt JPEG data: bad Huffman code\n",
      "Corrupt JPEG data: 1250 extraneous bytes before marker 0xc4\n",
      "Corrupt JPEG data: bad Huffman code\n",
      "Corrupt JPEG data: 20 extraneous bytes before marker 0xda\n",
      "Corrupt JPEG data: bad Huffman code\n",
      "Corrupt JPEG data: 20 extraneous bytes before marker 0xda\n",
      "Corrupt JPEG data: 18 extraneous bytes before marker 0xc4\n",
      "Corrupt JPEG data: 1442 extraneous bytes before marker 0xc4\n",
      "Corrupt JPEG data: 20 extraneous bytes before marker 0xda\n"
     ]
    },
    {
     "name": "stdout",
     "output_type": "stream",
     "text": [
      "avg_verification: 0.7383219086291307, latency: -0.18317409505486698, goodput: 0.40083561437159093\n"
     ]
    },
    {
     "name": "stderr",
     "output_type": "stream",
     "text": [
      "Corrupt JPEG data: bad Huffman code\n",
      "Corrupt JPEG data: 1247 extraneous bytes before marker 0xda\n",
      "Corrupt JPEG data: 20 extraneous bytes before marker 0xda\n",
      "Corrupt JPEG data: bad Huffman code\n"
     ]
    },
    {
     "name": "stdout",
     "output_type": "stream",
     "text": [
      "2 fps\n"
     ]
    },
    {
     "name": "stderr",
     "output_type": "stream",
     "text": [
      "Corrupt JPEG data: bad Huffman code\n",
      "Corrupt JPEG data: 20 extraneous bytes before marker 0xda\n",
      "Corrupt JPEG data: bad Huffman code\n",
      "Corrupt JPEG data: 20 extraneous bytes before marker 0xda\n",
      "Corrupt JPEG data: 1304 extraneous bytes before marker 0xc4\n",
      "Corrupt JPEG data: bad Huffman code\n",
      "Corrupt JPEG data: bad Huffman code\n",
      "Corrupt JPEG data: bad Huffman code\n",
      "Corrupt JPEG data: bad Huffman code\n",
      "Corrupt JPEG data: bad Huffman code\n",
      "Corrupt JPEG data: 20 extraneous bytes before marker 0xda\n",
      "Corrupt JPEG data: 20 extraneous bytes before marker 0xda\n",
      "Corrupt JPEG data: 1328 extraneous bytes before marker 0xc4\n",
      "Corrupt JPEG data: 1407 extraneous bytes before marker 0xc4\n",
      "Corrupt JPEG data: 18 extraneous bytes before marker 0xc4\n",
      "Corrupt JPEG data: bad Huffman code\n",
      "Corrupt JPEG data: 18 extraneous bytes before marker 0xc4\n",
      "Corrupt JPEG data: bad Huffman code\n",
      "Corrupt JPEG data: bad Huffman code\n",
      "Corrupt JPEG data: 21 extraneous bytes before marker 0xda\n",
      "Corrupt JPEG data: 1463 extraneous bytes before marker 0xc4\n",
      "Corrupt JPEG data: 21 extraneous bytes before marker 0xda\n",
      "Corrupt JPEG data: 21 extraneous bytes before marker 0xda\n",
      "Corrupt JPEG data: 12 extraneous bytes before marker 0xc4\n",
      "Corrupt JPEG data: 21 extraneous bytes before marker 0xda\n",
      "Corrupt JPEG data: 1094 extraneous bytes before marker 0xc4\n",
      "Corrupt JPEG data: bad Huffman code\n",
      "Corrupt JPEG data: bad Huffman code\n"
     ]
    },
    {
     "name": "stdout",
     "output_type": "stream",
     "text": [
      "avg_verification: 0.7347479227516542, latency: -0.17060489992593983, goodput: 0.3997977662178155\n"
     ]
    },
    {
     "name": "stderr",
     "output_type": "stream",
     "text": [
      "Corrupt JPEG data: 1607 extraneous bytes before marker 0xc4\n",
      "Corrupt JPEG data: 1312 extraneous bytes before marker 0xc4\n",
      "Corrupt JPEG data: 12 extraneous bytes before marker 0xc4\n",
      "Corrupt JPEG data: bad Huffman code\n",
      "Corrupt JPEG data: 21 extraneous bytes before marker 0xda\n",
      "Corrupt JPEG data: bad Huffman code\n"
     ]
    },
    {
     "name": "stdout",
     "output_type": "stream",
     "text": [
      "2 fps\n"
     ]
    },
    {
     "name": "stderr",
     "output_type": "stream",
     "text": [
      "Corrupt JPEG data: 1326 extraneous bytes before marker 0xc4\n",
      "Corrupt JPEG data: 1410 extraneous bytes before marker 0xc4\n",
      "Corrupt JPEG data: 1271 extraneous bytes before marker 0xc4\n",
      "Corrupt JPEG data: 21 extraneous bytes before marker 0xda\n",
      "Corrupt JPEG data: 21 extraneous bytes before marker 0xda\n",
      "Corrupt JPEG data: 21 extraneous bytes before marker 0xda\n",
      "Corrupt JPEG data: 21 extraneous bytes before marker 0xda\n",
      "Corrupt JPEG data: 21 extraneous bytes before marker 0xda\n",
      "Corrupt JPEG data: bad Huffman code\n",
      "Corrupt JPEG data: 21 extraneous bytes before marker 0xda\n",
      "Corrupt JPEG data: 1168 extraneous bytes before marker 0xda\n",
      "Corrupt JPEG data: 12 extraneous bytes before marker 0xc4\n",
      "Corrupt JPEG data: 21 extraneous bytes before marker 0xda\n",
      "Corrupt JPEG data: bad Huffman code\n",
      "Corrupt JPEG data: 1298 extraneous bytes before marker 0xda\n"
     ]
    },
    {
     "name": "stdout",
     "output_type": "stream",
     "text": [
      "avg_verification: 0.7352673003662353, latency: -0.1793484749609629, goodput: 0.39966762695332114\n"
     ]
    },
    {
     "name": "stderr",
     "output_type": "stream",
     "text": [
      "Corrupt JPEG data: bad Huffman code\n",
      "Corrupt JPEG data: 21 extraneous bytes before marker 0xda\n",
      "Corrupt JPEG data: 21 extraneous bytes before marker 0xda\n",
      "Corrupt JPEG data: 21 extraneous bytes before marker 0xda\n",
      "Corrupt JPEG data: 21 extraneous bytes before marker 0xda\n",
      "Corrupt JPEG data: 1215 extraneous bytes before marker 0xc4\n",
      "Corrupt JPEG data: 1172 extraneous bytes before marker 0xc4\n",
      "Corrupt JPEG data: 21 extraneous bytes before marker 0xda\n",
      "Corrupt JPEG data: 18 extraneous bytes before marker 0xc4\n",
      "Corrupt JPEG data: 21 extraneous bytes before marker 0xda\n",
      "Corrupt JPEG data: 21 extraneous bytes before marker 0xda\n",
      "Corrupt JPEG data: 1669 extraneous bytes before marker 0xc4\n",
      "Corrupt JPEG data: bad Huffman code\n",
      "Corrupt JPEG data: 21 extraneous bytes before marker 0xda\n",
      "Corrupt JPEG data: 21 extraneous bytes before marker 0xda\n",
      "Corrupt JPEG data: 21 extraneous bytes before marker 0xda\n",
      "Corrupt JPEG data: 12 extraneous bytes before marker 0xc4\n",
      "Corrupt JPEG data: bad Huffman code\n",
      "Corrupt JPEG data: 1506 extraneous bytes before marker 0xc4\n",
      "Corrupt JPEG data: 12 extraneous bytes before marker 0xc4\n",
      "Corrupt JPEG data: 12 extraneous bytes before marker 0xc4\n",
      "Corrupt JPEG data: 1260 extraneous bytes before marker 0xda\n",
      "Corrupt JPEG data: bad Huffman code\n"
     ]
    },
    {
     "name": "stdout",
     "output_type": "stream",
     "text": [
      "avg_verification: 0.7347825295212342, latency: -0.19145248828887967, goodput: 0.3982912962971975\n"
     ]
    },
    {
     "name": "stderr",
     "output_type": "stream",
     "text": [
      "Corrupt JPEG data: bad Huffman code\n",
      "Corrupt JPEG data: bad Huffman code\n",
      "Corrupt JPEG data: bad Huffman code\n",
      "Corrupt JPEG data: 1315 extraneous bytes before marker 0xc4\n",
      "Corrupt JPEG data: 12 extraneous bytes before marker 0xc4\n",
      "Corrupt JPEG data: 1270 extraneous bytes before marker 0xc4\n",
      "Corrupt JPEG data: 21 extraneous bytes before marker 0xda\n",
      "Corrupt JPEG data: bad Huffman code\n",
      "Corrupt JPEG data: 21 extraneous bytes before marker 0xda\n",
      "Corrupt JPEG data: 21 extraneous bytes before marker 0xda\n",
      "Corrupt JPEG data: 18 extraneous bytes before marker 0xc4\n",
      "Corrupt JPEG data: 1263 extraneous bytes before marker 0xc4\n",
      "Corrupt JPEG data: 1450 extraneous bytes before marker 0xc4\n",
      "Corrupt JPEG data: bad Huffman code\n",
      "Corrupt JPEG data: 1386 extraneous bytes before marker 0xda\n",
      "Corrupt JPEG data: 12 extraneous bytes before marker 0xc4\n",
      "Corrupt JPEG data: 21 extraneous bytes before marker 0xda\n",
      "Corrupt JPEG data: 12 extraneous bytes before marker 0xc4\n",
      "Corrupt JPEG data: bad Huffman code\n"
     ]
    },
    {
     "name": "stdout",
     "output_type": "stream",
     "text": [
      "1 fps\n"
     ]
    },
    {
     "name": "stderr",
     "output_type": "stream",
     "text": [
      "Corrupt JPEG data: 1158 extraneous bytes before marker 0xc4\n",
      "Corrupt JPEG data: 21 extraneous bytes before marker 0xda\n",
      "Corrupt JPEG data: bad Huffman code\n",
      "Corrupt JPEG data: 1454 extraneous bytes before marker 0xc4\n",
      "Corrupt JPEG data: 1293 extraneous bytes before marker 0xda\n"
     ]
    },
    {
     "name": "stdout",
     "output_type": "stream",
     "text": [
      "avg_verification: 0.7372416880993845, latency: -0.1913284695487441, goodput: 0.3985526414039009\n"
     ]
    },
    {
     "name": "stderr",
     "output_type": "stream",
     "text": [
      "Corrupt JPEG data: 21 extraneous bytes before marker 0xda\n",
      "Corrupt JPEG data: 1287 extraneous bytes before marker 0xda\n",
      "Corrupt JPEG data: bad Huffman code\n",
      "Corrupt JPEG data: 1346 extraneous bytes before marker 0xda\n",
      "Corrupt JPEG data: 21 extraneous bytes before marker 0xda\n",
      "Corrupt JPEG data: 18 extraneous bytes before marker 0xc4\n",
      "Corrupt JPEG data: bad Huffman code\n",
      "Corrupt JPEG data: 21 extraneous bytes before marker 0xda\n",
      "Corrupt JPEG data: bad Huffman code\n"
     ]
    },
    {
     "name": "stdout",
     "output_type": "stream",
     "text": [
      "1 fps\n"
     ]
    },
    {
     "name": "stderr",
     "output_type": "stream",
     "text": [
      "Corrupt JPEG data: 12 extraneous bytes before marker 0xc4\n",
      "Corrupt JPEG data: bad Huffman code\n",
      "Corrupt JPEG data: 21 extraneous bytes before marker 0xda\n",
      "Corrupt JPEG data: 21 extraneous bytes before marker 0xda\n",
      "Corrupt JPEG data: bad Huffman code\n",
      "Corrupt JPEG data: 21 extraneous bytes before marker 0xda\n",
      "Corrupt JPEG data: bad Huffman code\n",
      "Corrupt JPEG data: 1731 extraneous bytes before marker 0xc4\n",
      "Corrupt JPEG data: 21 extraneous bytes before marker 0xda\n",
      "Corrupt JPEG data: 1359 extraneous bytes before marker 0xc4\n",
      "Corrupt JPEG data: 21 extraneous bytes before marker 0xda\n"
     ]
    },
    {
     "name": "stdout",
     "output_type": "stream",
     "text": [
      "avg_verification: 0.737115543070569, latency: -0.18931164659934313, goodput: 0.3980170915219981\n"
     ]
    },
    {
     "name": "stderr",
     "output_type": "stream",
     "text": [
      "Corrupt JPEG data: 1429 extraneous bytes before marker 0xc4\n",
      "Corrupt JPEG data: bad Huffman code\n"
     ]
    },
    {
     "name": "stdout",
     "output_type": "stream",
     "text": [
      "1 fps\n"
     ]
    },
    {
     "name": "stderr",
     "output_type": "stream",
     "text": [
      "Corrupt JPEG data: 1484 extraneous bytes before marker 0xc4\n",
      "Corrupt JPEG data: 1515 extraneous bytes before marker 0xda\n",
      "Corrupt JPEG data: 1409 extraneous bytes before marker 0xc4\n",
      "Corrupt JPEG data: 1431 extraneous bytes before marker 0xc4\n",
      "Corrupt JPEG data: 1169 extraneous bytes before marker 0xc4\n",
      "Corrupt JPEG data: 21 extraneous bytes before marker 0xda\n",
      "Corrupt JPEG data: 1360 extraneous bytes before marker 0xc4\n",
      "Corrupt JPEG data: 21 extraneous bytes before marker 0xda\n",
      "Corrupt JPEG data: 1357 extraneous bytes before marker 0xc4\n",
      "Corrupt JPEG data: 21 extraneous bytes before marker 0xda\n",
      "Corrupt JPEG data: 21 extraneous bytes before marker 0xda\n",
      "Corrupt JPEG data: 21 extraneous bytes before marker 0xda\n",
      "Corrupt JPEG data: 20 extraneous bytes before marker 0xda\n"
     ]
    },
    {
     "name": "stdout",
     "output_type": "stream",
     "text": [
      "avg_verification: 0.7365343837840062, latency: -0.18706928146278703, goodput: 0.3974877992258124\n"
     ]
    },
    {
     "name": "stderr",
     "output_type": "stream",
     "text": [
      "Corrupt JPEG data: bad Huffman code\n",
      "Corrupt JPEG data: 21 extraneous bytes before marker 0xda\n",
      "Corrupt JPEG data: 12 extraneous bytes before marker 0xc4\n",
      "Corrupt JPEG data: bad Huffman code\n",
      "Corrupt JPEG data: 21 extraneous bytes before marker 0xda\n",
      "Corrupt JPEG data: 21 extraneous bytes before marker 0xda\n",
      "Corrupt JPEG data: 1257 extraneous bytes before marker 0xc4\n",
      "Corrupt JPEG data: 21 extraneous bytes before marker 0xda\n",
      "Corrupt JPEG data: 1346 extraneous bytes before marker 0xc4\n",
      "Corrupt JPEG data: bad Huffman code\n",
      "Corrupt JPEG data: 1403 extraneous bytes before marker 0xda\n",
      "Corrupt JPEG data: 1486 extraneous bytes before marker 0xc4\n",
      "Corrupt JPEG data: 21 extraneous bytes before marker 0xda\n",
      "Corrupt JPEG data: bad Huffman code\n"
     ]
    },
    {
     "name": "stdout",
     "output_type": "stream",
     "text": [
      "1 fps\n"
     ]
    },
    {
     "name": "stderr",
     "output_type": "stream",
     "text": [
      "Corrupt JPEG data: 21 extraneous bytes before marker 0xda\n",
      "Corrupt JPEG data: 21 extraneous bytes before marker 0xda\n",
      "Corrupt JPEG data: 21 extraneous bytes before marker 0xda\n",
      "Corrupt JPEG data: bad Huffman code\n",
      "Corrupt JPEG data: 1023 extraneous bytes before marker 0xc4\n",
      "Corrupt JPEG data: 1654 extraneous bytes before marker 0xda\n",
      "Corrupt JPEG data: 21 extraneous bytes before marker 0xda\n",
      "Corrupt JPEG data: bad Huffman code\n",
      "Corrupt JPEG data: 1234 extraneous bytes before marker 0xda\n"
     ]
    },
    {
     "name": "stdout",
     "output_type": "stream",
     "text": [
      "avg_verification: 0.7366029863953415, latency: -0.1900169145828484, goodput: 0.3970966444229475\n"
     ]
    },
    {
     "name": "stderr",
     "output_type": "stream",
     "text": [
      "Corrupt JPEG data: 21 extraneous bytes before marker 0xda\n",
      "Corrupt JPEG data: 21 extraneous bytes before marker 0xda\n",
      "Corrupt JPEG data: bad Huffman code\n",
      "Corrupt JPEG data: bad Huffman code\n",
      "Corrupt JPEG data: 1651 extraneous bytes before marker 0xc4\n",
      "Corrupt JPEG data: 1329 extraneous bytes before marker 0xc4\n",
      "Corrupt JPEG data: 21 extraneous bytes before marker 0xda\n",
      "Corrupt JPEG data: 21 extraneous bytes before marker 0xda\n"
     ]
    },
    {
     "name": "stdout",
     "output_type": "stream",
     "text": [
      "avg_verification: 0.6764705882352942, latency: -0.2774979648989307, goodput: 0.3754652265927169\n"
     ]
    },
    {
     "name": "stderr",
     "output_type": "stream",
     "text": [
      "Corrupt JPEG data: 1058 extraneous bytes before marker 0xc4\n",
      "Corrupt JPEG data: bad Huffman code\n",
      "Corrupt JPEG data: 931 extraneous bytes before marker 0xc4\n",
      "Inconsistent progression sequence for component 0 coefficient 0\n",
      "Corrupt JPEG data: 1031 extraneous bytes before marker 0xc4\n",
      "Corrupt JPEG data: 1086 extraneous bytes before marker 0xc4\n",
      "Corrupt JPEG data: 21 extraneous bytes before marker 0xda\n",
      "Corrupt JPEG data: 1028 extraneous bytes before marker 0xc4\n",
      "Corrupt JPEG data: 993 extraneous bytes before marker 0xda\n",
      "Corrupt JPEG data: bad Huffman code\n"
     ]
    },
    {
     "name": "stdout",
     "output_type": "stream",
     "text": [
      "1 fps\n"
     ]
    },
    {
     "name": "stderr",
     "output_type": "stream",
     "text": [
      "Corrupt JPEG data: 21 extraneous bytes before marker 0xda\n",
      "Corrupt JPEG data: bad Huffman code\n",
      "Corrupt JPEG data: bad Huffman code\n",
      "Corrupt JPEG data: 21 extraneous bytes before marker 0xda\n",
      "Corrupt JPEG data: 21 extraneous bytes before marker 0xda\n"
     ]
    },
    {
     "name": "stdout",
     "output_type": "stream",
     "text": [
      "avg_verification: 0.626929545249289, latency: -0.1918467638046489, goodput: 0.34623684270238786\n"
     ]
    },
    {
     "name": "stderr",
     "output_type": "stream",
     "text": [
      "Corrupt JPEG data: 18 extraneous bytes before marker 0xc4\n",
      "Corrupt JPEG data: 21 extraneous bytes before marker 0xda\n",
      "Corrupt JPEG data: 21 extraneous bytes before marker 0xda\n",
      "Corrupt JPEG data: 21 extraneous bytes before marker 0xda\n",
      "Corrupt JPEG data: 21 extraneous bytes before marker 0xda\n",
      "Corrupt JPEG data: 1011 extraneous bytes before marker 0xc4\n",
      "Corrupt JPEG data: 1192 extraneous bytes before marker 0xc4\n",
      "Corrupt JPEG data: 21 extraneous bytes before marker 0xda\n",
      "Corrupt JPEG data: 1360 extraneous bytes before marker 0xc4\n",
      "Corrupt JPEG data: 1329 extraneous bytes before marker 0xda\n",
      "Corrupt JPEG data: 21 extraneous bytes before marker 0xda\n",
      "Corrupt JPEG data: bad Huffman code\n",
      "Corrupt JPEG data: 21 extraneous bytes before marker 0xda\n",
      "Corrupt JPEG data: bad Huffman code\n",
      "Corrupt JPEG data: 1303 extraneous bytes before marker 0xc4\n",
      "Corrupt JPEG data: 1267 extraneous bytes before marker 0xc4\n",
      "Corrupt JPEG data: 1194 extraneous bytes before marker 0xda\n",
      "Corrupt JPEG data: 21 extraneous bytes before marker 0xda\n",
      "Corrupt JPEG data: 1197 extraneous bytes before marker 0xc4\n",
      "Corrupt JPEG data: 1160 extraneous bytes before marker 0xc4\n",
      "Corrupt JPEG data: 1164 extraneous bytes before marker 0xc4\n"
     ]
    },
    {
     "name": "stdout",
     "output_type": "stream",
     "text": [
      "avg_verification: 0.6278023865787254, latency: -0.19905614146581366, goodput: 0.347180081095094\n"
     ]
    },
    {
     "name": "stderr",
     "output_type": "stream",
     "text": [
      "Corrupt JPEG data: 18 extraneous bytes before marker 0xc4\n",
      "Corrupt JPEG data: bad Huffman code\n"
     ]
    },
    {
     "name": "stdout",
     "output_type": "stream",
     "text": [
      "1 fps\n"
     ]
    },
    {
     "name": "stderr",
     "output_type": "stream",
     "text": [
      "Corrupt JPEG data: 1214 extraneous bytes before marker 0xda\n",
      "Corrupt JPEG data: bad Huffman code\n",
      "Corrupt JPEG data: bad Huffman code\n",
      "Corrupt JPEG data: 21 extraneous bytes before marker 0xda\n",
      "Corrupt JPEG data: 1135 extraneous bytes before marker 0xc4\n",
      "Corrupt JPEG data: 21 extraneous bytes before marker 0xda\n",
      "Corrupt JPEG data: 21 extraneous bytes before marker 0xda\n",
      "Corrupt JPEG data: 21 extraneous bytes before marker 0xda\n",
      "Corrupt JPEG data: 1083 extraneous bytes before marker 0xc4\n",
      "Corrupt JPEG data: 1267 extraneous bytes before marker 0xda\n",
      "Corrupt JPEG data: 21 extraneous bytes before marker 0xda\n",
      "Corrupt JPEG data: 12 extraneous bytes before marker 0xc4\n",
      "Corrupt JPEG data: 1227 extraneous bytes before marker 0xc4\n",
      "Corrupt JPEG data: 21 extraneous bytes before marker 0xda\n"
     ]
    },
    {
     "name": "stdout",
     "output_type": "stream",
     "text": [
      "avg_verification: 0.6258521346414644, latency: -0.18662035213209643, goodput: 0.34683399843635626\n"
     ]
    },
    {
     "name": "stderr",
     "output_type": "stream",
     "text": [
      "Corrupt JPEG data: 1223 extraneous bytes before marker 0xda\n",
      "Corrupt JPEG data: 1191 extraneous bytes before marker 0xc4\n",
      "Corrupt JPEG data: 1313 extraneous bytes before marker 0xc4\n",
      "Corrupt JPEG data: bad Huffman code\n",
      "Corrupt JPEG data: 21 extraneous bytes before marker 0xda\n",
      "Corrupt JPEG data: 1233 extraneous bytes before marker 0x33\n",
      "Corrupt JPEG data: 1207 extraneous bytes before marker 0xc4\n",
      "Corrupt JPEG data: 1184 extraneous bytes before marker 0xc4\n",
      "Corrupt JPEG data: 1292 extraneous bytes before marker 0xc4\n",
      "Corrupt JPEG data: 21 extraneous bytes before marker 0xda\n",
      "Corrupt JPEG data: 1172 extraneous bytes before marker 0xda\n",
      "Corrupt JPEG data: bad Huffman code\n",
      "Corrupt JPEG data: 21 extraneous bytes before marker 0xda\n",
      "Inconsistent progression sequence for component 0 coefficient 0\n",
      "Corrupt JPEG data: 12 extraneous bytes before marker 0xc4\n",
      "Corrupt JPEG data: 12 extraneous bytes before marker 0xc4\n",
      "Corrupt JPEG data: 1064 extraneous bytes before marker 0xc4\n",
      "Corrupt JPEG data: 21 extraneous bytes before marker 0xda\n",
      "Corrupt JPEG data: bad Huffman code\n",
      "Corrupt JPEG data: 21 extraneous bytes before marker 0xda\n",
      "Corrupt JPEG data: bad Huffman code\n"
     ]
    },
    {
     "name": "stdout",
     "output_type": "stream",
     "text": [
      "avg_verification: 0.6262675500098487, latency: -0.17585691962873357, goodput: 0.3475552026871146\n",
      "2 fps\n"
     ]
    },
    {
     "name": "stderr",
     "output_type": "stream",
     "text": [
      "Corrupt JPEG data: 1095 extraneous bytes before marker 0xc4\n",
      "Corrupt JPEG data: 21 extraneous bytes before marker 0xda\n",
      "Corrupt JPEG data: 1143 extraneous bytes before marker 0xc4\n",
      "Corrupt JPEG data: 1221 extraneous bytes before marker 0xda\n",
      "Corrupt JPEG data: bad Huffman code\n",
      "Corrupt JPEG data: 21 extraneous bytes before marker 0xda\n",
      "Corrupt JPEG data: 21 extraneous bytes before marker 0xda\n",
      "Corrupt JPEG data: 21 extraneous bytes before marker 0xda\n",
      "Corrupt JPEG data: 21 extraneous bytes before marker 0xda\n",
      "Corrupt JPEG data: 12 extraneous bytes before marker 0xc4\n",
      "Corrupt JPEG data: bad Huffman code\n",
      "Corrupt JPEG data: 1184 extraneous bytes before marker 0xc4\n",
      "Corrupt JPEG data: 18 extraneous bytes before marker 0xc4\n",
      "Corrupt JPEG data: 849 extraneous bytes before marker 0x9a\n",
      "Corrupt JPEG data: 997 extraneous bytes before marker 0xc4\n",
      "Corrupt JPEG data: 12 extraneous bytes before marker 0xc4\n",
      "Corrupt JPEG data: 18 extraneous bytes before marker 0xc4\n",
      "Corrupt JPEG data: 21 extraneous bytes before marker 0xda\n",
      "Corrupt JPEG data: 21 extraneous bytes before marker 0xda\n",
      "Corrupt JPEG data: 21 extraneous bytes before marker 0xda\n",
      "Corrupt JPEG data: 21 extraneous bytes before marker 0xda\n",
      "Corrupt JPEG data: 21 extraneous bytes before marker 0xda\n",
      "Corrupt JPEG data: 1291 extraneous bytes before marker 0xda\n",
      "Corrupt JPEG data: bad Huffman code\n",
      "Corrupt JPEG data: 21 extraneous bytes before marker 0xda\n",
      "Corrupt JPEG data: 21 extraneous bytes before marker 0xda\n"
     ]
    },
    {
     "name": "stdout",
     "output_type": "stream",
     "text": [
      "avg_verification: 0.6257860389385574, latency: -0.167986210531791, goodput: 0.3485106307886564\n"
     ]
    },
    {
     "name": "stderr",
     "output_type": "stream",
     "text": [
      "Corrupt JPEG data: 1093 extraneous bytes before marker 0xc4\n",
      "Corrupt JPEG data: 21 extraneous bytes before marker 0xda\n",
      "Corrupt JPEG data: 21 extraneous bytes before marker 0xda\n",
      "Corrupt JPEG data: bad Huffman code\n",
      "Corrupt JPEG data: 1140 extraneous bytes before marker 0xc4\n",
      "Corrupt JPEG data: 12 extraneous bytes before marker 0xc4\n",
      "Corrupt JPEG data: 1233 extraneous bytes before marker 0xc4\n",
      "Corrupt JPEG data: 21 extraneous bytes before marker 0xda\n",
      "Corrupt JPEG data: bad Huffman code\n",
      "Corrupt JPEG data: 1058 extraneous bytes before marker 0xc4\n",
      "Corrupt JPEG data: 12 extraneous bytes before marker 0xc4\n",
      "Corrupt JPEG data: 1541 extraneous bytes before marker 0xc4\n",
      "Corrupt JPEG data: 21 extraneous bytes before marker 0xda\n",
      "Corrupt JPEG data: 1142 extraneous bytes before marker 0xc4\n",
      "Corrupt JPEG data: 21 extraneous bytes before marker 0xda\n",
      "Corrupt JPEG data: 1115 extraneous bytes before marker 0xc4\n",
      "Corrupt JPEG data: 1079 extraneous bytes before marker 0xda\n",
      "Corrupt JPEG data: 21 extraneous bytes before marker 0xda\n",
      "Corrupt JPEG data: 1441 extraneous bytes before marker 0xda\n",
      "Corrupt JPEG data: 21 extraneous bytes before marker 0xda\n",
      "Corrupt JPEG data: 1601 extraneous bytes before marker 0xda\n",
      "Corrupt JPEG data: bad Huffman code\n",
      "Corrupt JPEG data: 18 extraneous bytes before marker 0xc4\n",
      "Corrupt JPEG data: 1307 extraneous bytes before marker 0xc4\n",
      "Corrupt JPEG data: 12 extraneous bytes before marker 0xc4\n",
      "Corrupt JPEG data: 21 extraneous bytes before marker 0xda\n",
      "Corrupt JPEG data: 21 extraneous bytes before marker 0xda\n"
     ]
    },
    {
     "name": "stdout",
     "output_type": "stream",
     "text": [
      "avg_verification: 0.6261722386207313, latency: -0.15984843604846852, goodput: 0.3493484938814411\n"
     ]
    },
    {
     "name": "stderr",
     "output_type": "stream",
     "text": [
      "Corrupt JPEG data: 21 extraneous bytes before marker 0xda\n",
      "Corrupt JPEG data: 1283 extraneous bytes before marker 0xc4\n",
      "Corrupt JPEG data: 1058 extraneous bytes before marker 0xda\n",
      "Corrupt JPEG data: 1469 extraneous bytes before marker 0xc4\n",
      "Corrupt JPEG data: bad Huffman code\n",
      "Corrupt JPEG data: 21 extraneous bytes before marker 0xda\n",
      "Corrupt JPEG data: bad Huffman code\n",
      "Corrupt JPEG data: 21 extraneous bytes before marker 0xda\n",
      "Corrupt JPEG data: 21 extraneous bytes before marker 0xda\n",
      "Corrupt JPEG data: bad Huffman code\n",
      "Corrupt JPEG data: 1193 extraneous bytes before marker 0xc4\n",
      "Corrupt JPEG data: 1082 extraneous bytes before marker 0xda\n",
      "Corrupt JPEG data: 1130 extraneous bytes before marker 0xc4\n",
      "Corrupt JPEG data: bad Huffman code\n",
      "Corrupt JPEG data: 18 extraneous bytes before marker 0xc4\n",
      "Corrupt JPEG data: 1249 extraneous bytes before marker 0xc4\n",
      "Corrupt JPEG data: 1123 extraneous bytes before marker 0xda\n",
      "Corrupt JPEG data: 1275 extraneous bytes before marker 0xc4\n",
      "Corrupt JPEG data: 21 extraneous bytes before marker 0xda\n",
      "Corrupt JPEG data: bad Huffman code\n",
      "Corrupt JPEG data: 1334 extraneous bytes before marker 0xc4\n",
      "Corrupt JPEG data: 1113 extraneous bytes before marker 0xc4\n",
      "Corrupt JPEG data: bad Huffman code\n",
      "Corrupt JPEG data: bad Huffman code\n",
      "Corrupt JPEG data: bad Huffman code\n",
      "Corrupt JPEG data: 1154 extraneous bytes before marker 0xda\n"
     ]
    },
    {
     "name": "stdout",
     "output_type": "stream",
     "text": [
      "avg_verification: 0.6263345067817946, latency: -0.15032211813692925, goodput: 0.3502631965000686\n"
     ]
    },
    {
     "name": "stderr",
     "output_type": "stream",
     "text": [
      "Corrupt JPEG data: 21 extraneous bytes before marker 0xda\n",
      "Corrupt JPEG data: 1000 extraneous bytes before marker 0xda\n",
      "Corrupt JPEG data: 21 extraneous bytes before marker 0xda\n",
      "Corrupt JPEG data: 1174 extraneous bytes before marker 0xc4\n",
      "Corrupt JPEG data: 1076 extraneous bytes before marker 0xda\n",
      "Corrupt JPEG data: 21 extraneous bytes before marker 0xda\n",
      "Corrupt JPEG data: 931 extraneous bytes before marker 0xda\n",
      "Corrupt JPEG data: 21 extraneous bytes before marker 0xda\n",
      "Corrupt JPEG data: 21 extraneous bytes before marker 0xda\n",
      "Corrupt JPEG data: 1213 extraneous bytes before marker 0xc4\n",
      "Corrupt JPEG data: bad Huffman code\n",
      "Corrupt JPEG data: 21 extraneous bytes before marker 0xda\n",
      "Corrupt JPEG data: 1169 extraneous bytes before marker 0xc4\n",
      "Corrupt JPEG data: 21 extraneous bytes before marker 0xda\n",
      "Corrupt JPEG data: 21 extraneous bytes before marker 0xda\n"
     ]
    },
    {
     "name": "stdout",
     "output_type": "stream",
     "text": [
      "avg_verification: 0.6252459434763965, latency: -0.1386556108502774, goodput: 0.3501611349315092\n"
     ]
    },
    {
     "name": "stderr",
     "output_type": "stream",
     "text": [
      "Corrupt JPEG data: bad Huffman code\n",
      "Corrupt JPEG data: 1147 extraneous bytes before marker 0xc4\n",
      "Corrupt JPEG data: 1150 extraneous bytes before marker 0xc4\n",
      "Corrupt JPEG data: 1149 extraneous bytes before marker 0xc4\n",
      "Corrupt JPEG data: 1227 extraneous bytes before marker 0xc4\n"
     ]
    },
    {
     "name": "stdout",
     "output_type": "stream",
     "text": [
      "avg_verification: 0.48235294117647065, latency: -0.08584107183942609, goodput: 0.2934937470318189\n"
     ]
    },
    {
     "name": "stderr",
     "output_type": "stream",
     "text": [
      "Corrupt JPEG data: 1197 extraneous bytes before marker 0xc4\n",
      "Corrupt JPEG data: 902 extraneous bytes before marker 0xc4\n",
      "Corrupt JPEG data: 1132 extraneous bytes before marker 0xc4\n",
      "Corrupt JPEG data: 1170 extraneous bytes before marker 0xda\n",
      "Corrupt JPEG data: 1241 extraneous bytes before marker 0xc4\n",
      "Corrupt JPEG data: 1258 extraneous bytes before marker 0xda\n",
      "Corrupt JPEG data: 12 extraneous bytes before marker 0xc4\n",
      "Corrupt JPEG data: 1227 extraneous bytes before marker 0xc4\n",
      "Corrupt JPEG data: 21 extraneous bytes before marker 0xda\n",
      "Corrupt JPEG data: 755 extraneous bytes before marker 0xc4\n",
      "Corrupt JPEG data: 1004 extraneous bytes before marker 0xc4\n",
      "Corrupt JPEG data: 1074 extraneous bytes before marker 0xda\n"
     ]
    },
    {
     "name": "stdout",
     "output_type": "stream",
     "text": [
      "avg_verification: 0.5118543907558176, latency: nan, goodput: 0.30089293319941046\n"
     ]
    },
    {
     "name": "stderr",
     "output_type": "stream",
     "text": [
      "Corrupt JPEG data: 900 extraneous bytes before marker 0xc4\n",
      "Corrupt JPEG data: 20 extraneous bytes before marker 0xda\n",
      "Corrupt JPEG data: 1205 extraneous bytes before marker 0xda\n",
      "Corrupt JPEG data: 825 extraneous bytes before marker 0xda\n",
      "Corrupt JPEG data: 18 extraneous bytes before marker 0xc4\n",
      "Corrupt JPEG data: 20 extraneous bytes before marker 0xda\n",
      "Corrupt JPEG data: 933 extraneous bytes before marker 0xda\n",
      "Corrupt JPEG data: 18 extraneous bytes before marker 0xc4\n",
      "Corrupt JPEG data: 763 extraneous bytes before marker 0xc4\n",
      "Corrupt JPEG data: 1064 extraneous bytes before marker 0xda\n",
      "Corrupt JPEG data: 21 extraneous bytes before marker 0xda\n",
      "Corrupt JPEG data: 597 extraneous bytes before marker 0xda\n",
      "Corrupt JPEG data: 1269 extraneous bytes before marker 0xc4\n"
     ]
    },
    {
     "name": "stdout",
     "output_type": "stream",
     "text": [
      "avg_verification: 0.5188590637811445, latency: nan, goodput: 0.30292626596042765\n"
     ]
    },
    {
     "name": "stderr",
     "output_type": "stream",
     "text": [
      "Corrupt JPEG data: 1018 extraneous bytes before marker 0xda\n",
      "Corrupt JPEG data: 1022 extraneous bytes before marker 0xda\n",
      "Corrupt JPEG data: 1134 extraneous bytes before marker 0xc4\n",
      "Corrupt JPEG data: bad Huffman code\n",
      "Corrupt JPEG data: 21 extraneous bytes before marker 0xda\n",
      "Corrupt JPEG data: 1006 extraneous bytes before marker 0xc4\n",
      "Corrupt JPEG data: 789 extraneous bytes before marker 0xda\n",
      "Corrupt JPEG data: bad Huffman code\n",
      "Corrupt JPEG data: 18 extraneous bytes before marker 0xc4\n",
      "Corrupt JPEG data: bad Huffman code\n",
      "Corrupt JPEG data: 707 extraneous bytes before marker 0xc4\n",
      "Corrupt JPEG data: 18 extraneous bytes before marker 0xc4\n",
      "Corrupt JPEG data: 1151 extraneous bytes before marker 0xc4\n",
      "Corrupt JPEG data: 21 extraneous bytes before marker 0xda\n",
      "Corrupt JPEG data: bad Huffman code\n",
      "Corrupt JPEG data: 1018 extraneous bytes before marker 0xc4\n",
      "Corrupt JPEG data: 21 extraneous bytes before marker 0xda\n",
      "Corrupt JPEG data: 1015 extraneous bytes before marker 0xc4\n"
     ]
    },
    {
     "name": "stdout",
     "output_type": "stream",
     "text": [
      "avg_verification: 0.517750066796383, latency: nan, goodput: 0.3036826065925866\n"
     ]
    },
    {
     "name": "stderr",
     "output_type": "stream",
     "text": [
      "Corrupt JPEG data: 21 extraneous bytes before marker 0xda\n",
      "Corrupt JPEG data: 1090 extraneous bytes before marker 0xda\n",
      "Corrupt JPEG data: 1200 extraneous bytes before marker 0xc4\n",
      "Corrupt JPEG data: 947 extraneous bytes before marker 0xda\n",
      "Corrupt JPEG data: 21 extraneous bytes before marker 0xda\n",
      "Corrupt JPEG data: 1250 extraneous bytes before marker 0xda\n",
      "Corrupt JPEG data: 924 extraneous bytes before marker 0xc4\n",
      "Corrupt JPEG data: 781 extraneous bytes before marker 0xda\n",
      "Corrupt JPEG data: 723 extraneous bytes before marker 0xc4\n",
      "Corrupt JPEG data: 678 extraneous bytes before marker 0xc4\n",
      "Corrupt JPEG data: 1149 extraneous bytes before marker 0xda\n",
      "Corrupt JPEG data: 981 extraneous bytes before marker 0xc4\n"
     ]
    },
    {
     "name": "stdout",
     "output_type": "stream",
     "text": [
      "avg_verification: 0.5177611857076797, latency: nan, goodput: 0.30406048823055964\n"
     ]
    },
    {
     "name": "stderr",
     "output_type": "stream",
     "text": [
      "Corrupt JPEG data: 12 extraneous bytes before marker 0xc4\n",
      "Corrupt JPEG data: 1000 extraneous bytes before marker 0xc4\n",
      "Corrupt JPEG data: 12 extraneous bytes before marker 0xc4\n",
      "Corrupt JPEG data: 769 extraneous bytes before marker 0xda\n",
      "Corrupt JPEG data: 1060 extraneous bytes before marker 0xda\n",
      "Corrupt JPEG data: 12 extraneous bytes before marker 0xc4\n",
      "Corrupt JPEG data: 21 extraneous bytes before marker 0xda\n",
      "Corrupt JPEG data: 21 extraneous bytes before marker 0xda\n",
      "Corrupt JPEG data: 1057 extraneous bytes before marker 0xda\n",
      "Corrupt JPEG data: 1114 extraneous bytes before marker 0xda\n",
      "Corrupt JPEG data: 12 extraneous bytes before marker 0xc4\n",
      "Corrupt JPEG data: 976 extraneous bytes before marker 0xc4\n",
      "Corrupt JPEG data: 925 extraneous bytes before marker 0xc4\n",
      "Corrupt JPEG data: 12 extraneous bytes before marker 0xc4\n",
      "Corrupt JPEG data: 12 extraneous bytes before marker 0xc4\n",
      "Corrupt JPEG data: 18 extraneous bytes before marker 0xc4\n",
      "Corrupt JPEG data: 1180 extraneous bytes before marker 0xda\n"
     ]
    },
    {
     "name": "stdout",
     "output_type": "stream",
     "text": [
      "avg_verification: 0.5167601159847549, latency: nan, goodput: 0.30441890734078675\n"
     ]
    },
    {
     "name": "stderr",
     "output_type": "stream",
     "text": [
      "Corrupt JPEG data: 680 extraneous bytes before marker 0xda\n",
      "Corrupt JPEG data: 20 extraneous bytes before marker 0xda\n",
      "Corrupt JPEG data: 1020 extraneous bytes before marker 0xc4\n",
      "Corrupt JPEG data: 12 extraneous bytes before marker 0xc4\n",
      "Corrupt JPEG data: 878 extraneous bytes before marker 0xc4\n",
      "Corrupt JPEG data: 12 extraneous bytes before marker 0xc4\n",
      "Corrupt JPEG data: 1186 extraneous bytes before marker 0xc4\n",
      "Corrupt JPEG data: 722 extraneous bytes before marker 0xda\n",
      "Corrupt JPEG data: 1018 extraneous bytes before marker 0xc4\n",
      "Corrupt JPEG data: bad Huffman code\n",
      "Corrupt JPEG data: 940 extraneous bytes before marker 0xc4\n",
      "Corrupt JPEG data: 879 extraneous bytes before marker 0xc4\n",
      "Corrupt JPEG data: bad Huffman code\n",
      "Corrupt JPEG data: 20 extraneous bytes before marker 0xda\n",
      "Corrupt JPEG data: 12 extraneous bytes before marker 0xc4\n",
      "Corrupt JPEG data: 873 extraneous bytes before marker 0xc4\n",
      "Corrupt JPEG data: 1065 extraneous bytes before marker 0xc4\n",
      "Corrupt JPEG data: bad Huffman code\n",
      "Corrupt JPEG data: 18 extraneous bytes before marker 0xc4\n",
      "Corrupt JPEG data: 920 extraneous bytes before marker 0xda\n",
      "Corrupt JPEG data: 1059 extraneous bytes before marker 0xc4\n",
      "Corrupt JPEG data: 1056 extraneous bytes before marker 0xc4\n",
      "Corrupt JPEG data: 629 extraneous bytes before marker 0xc4\n",
      "Corrupt JPEG data: 890 extraneous bytes before marker 0xda\n",
      "Corrupt JPEG data: 20 extraneous bytes before marker 0xda\n"
     ]
    },
    {
     "name": "stdout",
     "output_type": "stream",
     "text": [
      "avg_verification: 0.5170352588343438, latency: nan, goodput: 0.30625018505349666\n"
     ]
    },
    {
     "name": "stderr",
     "output_type": "stream",
     "text": [
      "Corrupt JPEG data: 878 extraneous bytes before marker 0xc4\n",
      "Corrupt JPEG data: 20 extraneous bytes before marker 0xda\n",
      "Corrupt JPEG data: 1002 extraneous bytes before marker 0xc4\n",
      "Corrupt JPEG data: 791 extraneous bytes before marker 0xc4\n",
      "Corrupt JPEG data: 714 extraneous bytes before marker 0xda\n",
      "Corrupt JPEG data: 1058 extraneous bytes before marker 0xc4\n",
      "Corrupt JPEG data: 20 extraneous bytes before marker 0xda\n",
      "Corrupt JPEG data: 967 extraneous bytes before marker 0xc4\n",
      "Corrupt JPEG data: 18 extraneous bytes before marker 0xc4\n",
      "Corrupt JPEG data: 1416 extraneous bytes before marker 0xc4\n",
      "Corrupt JPEG data: 1167 extraneous bytes before marker 0xda\n",
      "Corrupt JPEG data: 844 extraneous bytes before marker 0xc4\n"
     ]
    },
    {
     "name": "stdout",
     "output_type": "stream",
     "text": [
      "avg_verification: 0.5160697705206599, latency: nan, goodput: 0.3064595028511568\n"
     ]
    },
    {
     "name": "stderr",
     "output_type": "stream",
     "text": [
      "Corrupt JPEG data: 771 extraneous bytes before marker 0xc4\n",
      "Corrupt JPEG data: 724 extraneous bytes before marker 0xc4\n",
      "Corrupt JPEG data: 20 extraneous bytes before marker 0xda\n",
      "Corrupt JPEG data: 895 extraneous bytes before marker 0xc4\n",
      "Corrupt JPEG data: 952 extraneous bytes before marker 0xda\n",
      "Corrupt JPEG data: 716 extraneous bytes before marker 0xda\n",
      "Corrupt JPEG data: 1032 extraneous bytes before marker 0xc4\n",
      "Corrupt JPEG data: 1209 extraneous bytes before marker 0xc4\n",
      "Corrupt JPEG data: 728 extraneous bytes before marker 0xc4\n",
      "Corrupt JPEG data: 826 extraneous bytes before marker 0xc4\n",
      "Corrupt JPEG data: 20 extraneous bytes before marker 0xda\n",
      "Corrupt JPEG data: 685 extraneous bytes before marker 0xc4\n",
      "Corrupt JPEG data: 12 extraneous bytes before marker 0xc4\n"
     ]
    },
    {
     "name": "stdout",
     "output_type": "stream",
     "text": [
      "avg_verification: 0.515542074365053, latency: nan, goodput: 0.3067136152437354\n"
     ]
    },
    {
     "name": "stderr",
     "output_type": "stream",
     "text": [
      "Corrupt JPEG data: 785 extraneous bytes before marker 0xc4\n",
      "Corrupt JPEG data: 843 extraneous bytes before marker 0xc4\n",
      "Corrupt JPEG data: bad Huffman code\n",
      "Corrupt JPEG data: bad Huffman code\n",
      "Corrupt JPEG data: 489 extraneous bytes before marker 0xc4\n",
      "Corrupt JPEG data: 12 extraneous bytes before marker 0xc4\n",
      "Corrupt JPEG data: 1008 extraneous bytes before marker 0xda\n",
      "Corrupt JPEG data: 794 extraneous bytes before marker 0xda\n",
      "Corrupt JPEG data: 1203 extraneous bytes before marker 0xda\n"
     ]
    },
    {
     "name": "stdout",
     "output_type": "stream",
     "text": [
      "avg_verification: 0.4125, latency: 0.09093004324369962, goodput: 0.2722038038736695\n"
     ]
    },
    {
     "name": "stderr",
     "output_type": "stream",
     "text": [
      "Corrupt JPEG data: 667 extraneous bytes before marker 0xc4\n",
      "Corrupt JPEG data: 827 extraneous bytes before marker 0xda\n",
      "Corrupt JPEG data: bad Huffman code\n",
      "Corrupt JPEG data: 799 extraneous bytes before marker 0xc4\n",
      "Corrupt JPEG data: 942 extraneous bytes before marker 0xda\n",
      "Corrupt JPEG data: 12 extraneous bytes before marker 0xc4\n",
      "Corrupt JPEG data: 979 extraneous bytes before marker 0xc4\n",
      "Corrupt JPEG data: 1184 extraneous bytes before marker 0xda\n",
      "Corrupt JPEG data: 871 extraneous bytes before marker 0xda\n",
      "Corrupt JPEG data: 822 extraneous bytes before marker 0xc4\n",
      "Corrupt JPEG data: bad Huffman code\n",
      "Corrupt JPEG data: 853 extraneous bytes before marker 0xc4\n",
      "Corrupt JPEG data: 765 extraneous bytes before marker 0xc4\n",
      "Corrupt JPEG data: 18 extraneous bytes before marker 0xc4\n",
      "Corrupt JPEG data: 1219 extraneous bytes before marker 0xc4\n",
      "Corrupt JPEG data: 886 extraneous bytes before marker 0xda\n",
      "Corrupt JPEG data: 20 extraneous bytes before marker 0xda\n",
      "Corrupt JPEG data: 20 extraneous bytes before marker 0xda\n",
      "Corrupt JPEG data: bad Huffman code\n",
      "Corrupt JPEG data: 690 extraneous bytes before marker 0xda\n"
     ]
    },
    {
     "name": "stdout",
     "output_type": "stream",
     "text": [
      "avg_verification: 0.433556102539795, latency: nan, goodput: 0.26714326945265066\n"
     ]
    },
    {
     "name": "stderr",
     "output_type": "stream",
     "text": [
      "Corrupt JPEG data: 592 extraneous bytes before marker 0xda\n",
      "Corrupt JPEG data: 1127 extraneous bytes before marker 0xda\n",
      "Corrupt JPEG data: 20 extraneous bytes before marker 0xda\n",
      "Corrupt JPEG data: 793 extraneous bytes before marker 0xda\n",
      "Corrupt JPEG data: 954 extraneous bytes before marker 0xc4\n",
      "Corrupt JPEG data: 555 extraneous bytes before marker 0xda\n",
      "Corrupt JPEG data: 18 extraneous bytes before marker 0xc4\n",
      "Corrupt JPEG data: 662 extraneous bytes before marker 0xc4\n",
      "Corrupt JPEG data: 1087 extraneous bytes before marker 0xc4\n",
      "Corrupt JPEG data: 549 extraneous bytes before marker 0xc4\n",
      "Corrupt JPEG data: 951 extraneous bytes before marker 0xc4\n"
     ]
    },
    {
     "name": "stdout",
     "output_type": "stream",
     "text": [
      "avg_verification: 0.43233252127347827, latency: nan, goodput: 0.2658472974350974\n"
     ]
    },
    {
     "name": "stderr",
     "output_type": "stream",
     "text": [
      "Corrupt JPEG data: 432 extraneous bytes before marker 0xda\n",
      "Corrupt JPEG data: bad Huffman code\n",
      "Corrupt JPEG data: 838 extraneous bytes before marker 0xda\n",
      "Corrupt JPEG data: 20 extraneous bytes before marker 0xda\n",
      "Corrupt JPEG data: 896 extraneous bytes before marker 0xc4\n",
      "Corrupt JPEG data: 769 extraneous bytes before marker 0xda\n",
      "Corrupt JPEG data: 632 extraneous bytes before marker 0xda\n",
      "Corrupt JPEG data: 18 extraneous bytes before marker 0xc4\n",
      "Corrupt JPEG data: 976 extraneous bytes before marker 0xc4\n",
      "Corrupt JPEG data: 627 extraneous bytes before marker 0xda\n",
      "Corrupt JPEG data: 1024 extraneous bytes before marker 0xc4\n",
      "Corrupt JPEG data: 677 extraneous bytes before marker 0xda\n",
      "Corrupt JPEG data: 20 extraneous bytes before marker 0xda\n",
      "Corrupt JPEG data: 666 extraneous bytes before marker 0xc4\n",
      "Corrupt JPEG data: 645 extraneous bytes before marker 0xc4\n",
      "Corrupt JPEG data: 805 extraneous bytes before marker 0xc4\n",
      "Corrupt JPEG data: 18 extraneous bytes before marker 0xc4\n",
      "Corrupt JPEG data: 729 extraneous bytes before marker 0xc4\n"
     ]
    },
    {
     "name": "stdout",
     "output_type": "stream",
     "text": [
      "avg_verification: 0.4321659674060983, latency: nan, goodput: 0.2647777869346662\n"
     ]
    },
    {
     "name": "stderr",
     "output_type": "stream",
     "text": [
      "Corrupt JPEG data: 879 extraneous bytes before marker 0xc4\n",
      "Corrupt JPEG data: 994 extraneous bytes before marker 0xda\n",
      "Corrupt JPEG data: 20 extraneous bytes before marker 0xda\n",
      "Corrupt JPEG data: bad Huffman code\n",
      "Corrupt JPEG data: 1616 extraneous bytes before marker 0xc4\n",
      "Corrupt JPEG data: 760 extraneous bytes before marker 0xc4\n",
      "Corrupt JPEG data: 12 extraneous bytes before marker 0xc4\n",
      "Corrupt JPEG data: 710 extraneous bytes before marker 0xc4\n",
      "Corrupt JPEG data: 12 extraneous bytes before marker 0xc4\n",
      "Corrupt JPEG data: 847 extraneous bytes before marker 0xc4\n",
      "Corrupt JPEG data: 827 extraneous bytes before marker 0xc4\n",
      "Corrupt JPEG data: 12 extraneous bytes before marker 0xc4\n",
      "Corrupt JPEG data: 751 extraneous bytes before marker 0xc4\n",
      "Corrupt JPEG data: 887 extraneous bytes before marker 0xc4\n",
      "Corrupt JPEG data: 536 extraneous bytes before marker 0xc4\n",
      "Corrupt JPEG data: 588 extraneous bytes before marker 0xda\n",
      "Corrupt JPEG data: 773 extraneous bytes before marker 0xc4\n",
      "Corrupt JPEG data: 758 extraneous bytes before marker 0xc4\n",
      "Corrupt JPEG data: 894 extraneous bytes before marker 0xc4\n"
     ]
    },
    {
     "name": "stdout",
     "output_type": "stream",
     "text": [
      "avg_verification: 0.4307356841934002, latency: nan, goodput: 0.2643746546953536\n"
     ]
    },
    {
     "name": "stderr",
     "output_type": "stream",
     "text": [
      "Corrupt JPEG data: 729 extraneous bytes before marker 0xc4\n",
      "Corrupt JPEG data: 394 extraneous bytes before marker 0xda\n",
      "Corrupt JPEG data: 12 extraneous bytes before marker 0xc4\n",
      "Corrupt JPEG data: 745 extraneous bytes before marker 0xc4\n",
      "Corrupt JPEG data: 844 extraneous bytes before marker 0xc4\n",
      "Corrupt JPEG data: 1022 extraneous bytes before marker 0xc4\n",
      "Corrupt JPEG data: 623 extraneous bytes before marker 0xda\n",
      "Corrupt JPEG data: 1725 extraneous bytes before marker 0xda\n",
      "Corrupt JPEG data: 12 extraneous bytes before marker 0xc4\n",
      "Corrupt JPEG data: 935 extraneous bytes before marker 0xc4\n",
      "Corrupt JPEG data: 920 extraneous bytes before marker 0xda\n",
      "Corrupt JPEG data: 768 extraneous bytes before marker 0xda\n",
      "Corrupt JPEG data: 12 extraneous bytes before marker 0xc4\n",
      "Corrupt JPEG data: 682 extraneous bytes before marker 0xc4\n",
      "Corrupt JPEG data: 557 extraneous bytes before marker 0xc4\n",
      "Corrupt JPEG data: 874 extraneous bytes before marker 0xc4\n",
      "Corrupt JPEG data: 1126 extraneous bytes before marker 0xda\n",
      "Corrupt JPEG data: 780 extraneous bytes before marker 0xc4\n",
      "Corrupt JPEG data: 826 extraneous bytes before marker 0xc4\n",
      "Corrupt JPEG data: 777 extraneous bytes before marker 0xc4\n",
      "Corrupt JPEG data: 511 extraneous bytes before marker 0xc4\n"
     ]
    },
    {
     "name": "stdout",
     "output_type": "stream",
     "text": [
      "avg_verification: 0.4309351911183542, latency: nan, goodput: 0.2653454775764596\n"
     ]
    },
    {
     "name": "stderr",
     "output_type": "stream",
     "text": [
      "Corrupt JPEG data: 597 extraneous bytes before marker 0xc4\n",
      "Corrupt JPEG data: 835 extraneous bytes before marker 0xda\n",
      "Corrupt JPEG data: 12 extraneous bytes before marker 0xc4\n",
      "Corrupt JPEG data: 21 extraneous bytes before marker 0xda\n",
      "Corrupt JPEG data: 715 extraneous bytes before marker 0xc4\n",
      "Corrupt JPEG data: 969 extraneous bytes before marker 0xc4\n",
      "Corrupt JPEG data: 21 extraneous bytes before marker 0xda\n",
      "Corrupt JPEG data: 12 extraneous bytes before marker 0xc4\n",
      "Corrupt JPEG data: 813 extraneous bytes before marker 0xc4\n",
      "Corrupt JPEG data: 931 extraneous bytes before marker 0xc4\n",
      "Corrupt JPEG data: 12 extraneous bytes before marker 0xc4\n",
      "Corrupt JPEG data: 12 extraneous bytes before marker 0xc4\n",
      "Corrupt JPEG data: 830 extraneous bytes before marker 0xc4\n",
      "Corrupt JPEG data: 477 extraneous bytes before marker 0xc4\n",
      "Corrupt JPEG data: 629 extraneous bytes before marker 0xc4\n",
      "Corrupt JPEG data: 572 extraneous bytes before marker 0xc4\n",
      "Corrupt JPEG data: 929 extraneous bytes before marker 0xc4\n",
      "Corrupt JPEG data: 792 extraneous bytes before marker 0xc4\n",
      "Corrupt JPEG data: 631 extraneous bytes before marker 0xda\n",
      "Corrupt JPEG data: 883 extraneous bytes before marker 0xc4\n",
      "Corrupt JPEG data: 12 extraneous bytes before marker 0xc4\n",
      "Corrupt JPEG data: 12 extraneous bytes before marker 0xc4\n"
     ]
    },
    {
     "name": "stdout",
     "output_type": "stream",
     "text": [
      "avg_verification: 0.43165848226898434, latency: nan, goodput: 0.2660107335803804\n"
     ]
    },
    {
     "name": "stderr",
     "output_type": "stream",
     "text": [
      "Corrupt JPEG data: 20 extraneous bytes before marker 0xda\n",
      "Corrupt JPEG data: 831 extraneous bytes before marker 0xc4\n",
      "Corrupt JPEG data: 884 extraneous bytes before marker 0xc4\n",
      "Corrupt JPEG data: 847 extraneous bytes before marker 0xc4\n",
      "Corrupt JPEG data: 869 extraneous bytes before marker 0xc4\n",
      "Corrupt JPEG data: 1112 extraneous bytes before marker 0xc4\n",
      "Corrupt JPEG data: 825 extraneous bytes before marker 0xda\n",
      "Corrupt JPEG data: 628 extraneous bytes before marker 0xc4\n",
      "Corrupt JPEG data: 920 extraneous bytes before marker 0xc4\n",
      "Corrupt JPEG data: 679 extraneous bytes before marker 0xc4\n",
      "Corrupt JPEG data: 18 extraneous bytes before marker 0xc4\n",
      "Corrupt JPEG data: 1210 extraneous bytes before marker 0xda\n",
      "Corrupt JPEG data: 803 extraneous bytes before marker 0xc4\n",
      "Corrupt JPEG data: 886 extraneous bytes before marker 0xda\n",
      "Corrupt JPEG data: 757 extraneous bytes before marker 0xc4\n",
      "Corrupt JPEG data: 20 extraneous bytes before marker 0xda\n",
      "Corrupt JPEG data: 782 extraneous bytes before marker 0xc4\n"
     ]
    },
    {
     "name": "stdout",
     "output_type": "stream",
     "text": [
      "avg_verification: 0.4318940207438781, latency: nan, goodput: 0.2663288512165452\n"
     ]
    },
    {
     "name": "stderr",
     "output_type": "stream",
     "text": [
      "Corrupt JPEG data: 584 extraneous bytes before marker 0xc4\n",
      "Corrupt JPEG data: 18 extraneous bytes before marker 0xc4\n",
      "Corrupt JPEG data: 1185 extraneous bytes before marker 0xc4\n",
      "Corrupt JPEG data: 778 extraneous bytes before marker 0xc4\n",
      "Corrupt JPEG data: 12 extraneous bytes before marker 0xc4\n",
      "Corrupt JPEG data: 1286 extraneous bytes before marker 0xda\n",
      "Corrupt JPEG data: 899 extraneous bytes before marker 0xc4\n",
      "Corrupt JPEG data: 801 extraneous bytes before marker 0xc4\n",
      "Corrupt JPEG data: 1087 extraneous bytes before marker 0xc4\n",
      "Corrupt JPEG data: 1125 extraneous bytes before marker 0xda\n"
     ]
    },
    {
     "name": "stdout",
     "output_type": "stream",
     "text": [
      "avg_verification: 0.43140772260264443, latency: nan, goodput: 0.2659571283050644\n"
     ]
    },
    {
     "name": "stderr",
     "output_type": "stream",
     "text": [
      "Corrupt JPEG data: 677 extraneous bytes before marker 0xc4\n",
      "Corrupt JPEG data: 631 extraneous bytes before marker 0xc4\n",
      "Corrupt JPEG data: 723 extraneous bytes before marker 0xc4\n",
      "Corrupt JPEG data: 12 extraneous bytes before marker 0xc4\n",
      "Corrupt JPEG data: 666 extraneous bytes before marker 0xc4\n"
     ]
    },
    {
     "name": "stdout",
     "output_type": "stream",
     "text": [
      "avg_verification: 0.411764705882353, latency: 0.5273558681975113, goodput: 0.26740633542370157\n"
     ]
    },
    {
     "name": "stderr",
     "output_type": "stream",
     "text": [
      "Corrupt JPEG data: 819 extraneous bytes before marker 0xc4\n",
      "Corrupt JPEG data: 18 extraneous bytes before marker 0xc4\n",
      "Corrupt JPEG data: 974 extraneous bytes before marker 0xc4\n",
      "Corrupt JPEG data: 871 extraneous bytes before marker 0xda\n",
      "Corrupt JPEG data: bad Huffman code\n",
      "Corrupt JPEG data: 12 extraneous bytes before marker 0xc4\n",
      "Corrupt JPEG data: 614 extraneous bytes before marker 0xc4\n",
      "Corrupt JPEG data: 630 extraneous bytes before marker 0xc4\n",
      "Corrupt JPEG data: 757 extraneous bytes before marker 0xc4\n",
      "Corrupt JPEG data: 20 extraneous bytes before marker 0xda\n",
      "Corrupt JPEG data: 572 extraneous bytes before marker 0xda\n"
     ]
    },
    {
     "name": "stdout",
     "output_type": "stream",
     "text": [
      "avg_verification: 0.35074166442177507, latency: nan, goodput: 0.23005746241857525\n"
     ]
    },
    {
     "name": "stderr",
     "output_type": "stream",
     "text": [
      "Corrupt JPEG data: 559 extraneous bytes before marker 0xda\n",
      "Corrupt JPEG data: 12 extraneous bytes before marker 0xc4\n",
      "Corrupt JPEG data: 688 extraneous bytes before marker 0xc4\n",
      "Corrupt JPEG data: 12 extraneous bytes before marker 0xc4\n",
      "Corrupt JPEG data: 20 extraneous bytes before marker 0xda\n",
      "Corrupt JPEG data: 18 extraneous bytes before marker 0xc4\n",
      "Corrupt JPEG data: 792 extraneous bytes before marker 0xc4\n",
      "Corrupt JPEG data: 663 extraneous bytes before marker 0xc4\n",
      "Corrupt JPEG data: 746 extraneous bytes before marker 0xda\n",
      "Corrupt JPEG data: 536 extraneous bytes before marker 0xda\n",
      "Corrupt JPEG data: 21 extraneous bytes before marker 0xda\n",
      "Corrupt JPEG data: 895 extraneous bytes before marker 0xda\n",
      "Corrupt JPEG data: 651 extraneous bytes before marker 0xda\n"
     ]
    },
    {
     "name": "stdout",
     "output_type": "stream",
     "text": [
      "avg_verification: 0.34926095349712555, latency: nan, goodput: 0.23038867365915244\n"
     ]
    },
    {
     "name": "stderr",
     "output_type": "stream",
     "text": [
      "Corrupt JPEG data: 653 extraneous bytes before marker 0xda\n",
      "Corrupt JPEG data: 12 extraneous bytes before marker 0xc4\n",
      "Corrupt JPEG data: 1610 extraneous bytes before marker 0xda\n",
      "Corrupt JPEG data: 587 extraneous bytes before marker 0xc4\n",
      "Corrupt JPEG data: 943 extraneous bytes before marker 0xda\n",
      "Corrupt JPEG data: 649 extraneous bytes before marker 0xc4\n",
      "Corrupt JPEG data: 747 extraneous bytes before marker 0xc4\n",
      "Corrupt JPEG data: 18 extraneous bytes before marker 0xc4\n",
      "Corrupt JPEG data: 603 extraneous bytes before marker 0xda\n"
     ]
    },
    {
     "name": "stdout",
     "output_type": "stream",
     "text": [
      "avg_verification: 0.34934022820382016, latency: nan, goodput: 0.23064380348880723\n"
     ]
    },
    {
     "name": "stderr",
     "output_type": "stream",
     "text": [
      "Corrupt JPEG data: 799 extraneous bytes before marker 0xda\n",
      "Corrupt JPEG data: 474 extraneous bytes before marker 0xc4\n",
      "Corrupt JPEG data: 617 extraneous bytes before marker 0xc4\n",
      "Corrupt JPEG data: 18 extraneous bytes before marker 0xc4\n",
      "Corrupt JPEG data: 772 extraneous bytes before marker 0xc4\n",
      "Corrupt JPEG data: 622 extraneous bytes before marker 0xc4\n",
      "Corrupt JPEG data: 1032 extraneous bytes before marker 0xda\n",
      "Corrupt JPEG data: 763 extraneous bytes before marker 0xc4\n",
      "Corrupt JPEG data: 837 extraneous bytes before marker 0xda\n",
      "Corrupt JPEG data: 732 extraneous bytes before marker 0xc4\n",
      "Corrupt JPEG data: 647 extraneous bytes before marker 0xc4\n",
      "Corrupt JPEG data: 650 extraneous bytes before marker 0xda\n",
      "Corrupt JPEG data: 750 extraneous bytes before marker 0xc4\n",
      "Corrupt JPEG data: 21 extraneous bytes before marker 0xda\n",
      "Corrupt JPEG data: 1714 extraneous bytes before marker 0xda\n",
      "Corrupt JPEG data: 541 extraneous bytes before marker 0xc4\n",
      "Corrupt JPEG data: 18 extraneous bytes before marker 0xc4\n",
      "Corrupt JPEG data: 471 extraneous bytes before marker 0xc4\n",
      "Corrupt JPEG data: 618 extraneous bytes before marker 0xc4\n",
      "Corrupt JPEG data: 659 extraneous bytes before marker 0xda\n",
      "Corrupt JPEG data: 652 extraneous bytes before marker 0xda\n",
      "Corrupt JPEG data: 1124 extraneous bytes before marker 0xda\n",
      "Corrupt JPEG data: 457 extraneous bytes before marker 0xda\n"
     ]
    },
    {
     "name": "stdout",
     "output_type": "stream",
     "text": [
      "avg_verification: 0.35027039086449385, latency: nan, goodput: 0.231199900518325\n"
     ]
    },
    {
     "name": "stderr",
     "output_type": "stream",
     "text": [
      "Corrupt JPEG data: 21 extraneous bytes before marker 0xda\n",
      "Corrupt JPEG data: 398 extraneous bytes before marker 0xc4\n",
      "Corrupt JPEG data: 651 extraneous bytes before marker 0xda\n",
      "Corrupt JPEG data: 1504 extraneous bytes before marker 0xc4\n",
      "Corrupt JPEG data: 1389 extraneous bytes before marker 0xc4\n",
      "Corrupt JPEG data: 843 extraneous bytes before marker 0xc4\n",
      "Corrupt JPEG data: 601 extraneous bytes before marker 0xc4\n"
     ]
    },
    {
     "name": "stdout",
     "output_type": "stream",
     "text": [
      "avg_verification: 0.3512321194162465, latency: nan, goodput: 0.22968816129753633\n"
     ]
    },
    {
     "name": "stderr",
     "output_type": "stream",
     "text": [
      "Corrupt JPEG data: 20 extraneous bytes before marker 0xda\n",
      "Corrupt JPEG data: 734 extraneous bytes before marker 0xc4\n",
      "Corrupt JPEG data: 548 extraneous bytes before marker 0xc4\n",
      "Corrupt JPEG data: 1682 extraneous bytes before marker 0xc4\n",
      "Corrupt JPEG data: 561 extraneous bytes before marker 0xda\n",
      "Corrupt JPEG data: 566 extraneous bytes before marker 0xda\n",
      "Corrupt JPEG data: 1317 extraneous bytes before marker 0xc4\n",
      "Corrupt JPEG data: 358 extraneous bytes before marker 0xc4\n",
      "Corrupt JPEG data: 681 extraneous bytes before marker 0xc4\n",
      "Corrupt JPEG data: 546 extraneous bytes before marker 0xc4\n"
     ]
    },
    {
     "name": "stdout",
     "output_type": "stream",
     "text": [
      "avg_verification: 0.35317230667443544, latency: nan, goodput: 0.2290610366310165\n"
     ]
    },
    {
     "name": "stderr",
     "output_type": "stream",
     "text": [
      "Corrupt JPEG data: 683 extraneous bytes before marker 0xda\n",
      "Corrupt JPEG data: 660 extraneous bytes before marker 0xc4\n",
      "Corrupt JPEG data: 650 extraneous bytes before marker 0xc4\n",
      "Corrupt JPEG data: bad Huffman code\n",
      "Corrupt JPEG data: 638 extraneous bytes before marker 0xc4\n",
      "Corrupt JPEG data: 422 extraneous bytes before marker 0xc4\n",
      "Corrupt JPEG data: 586 extraneous bytes before marker 0xc4\n",
      "Corrupt JPEG data: 1738 extraneous bytes before marker 0xc4\n",
      "Corrupt JPEG data: 568 extraneous bytes before marker 0xc4\n",
      "Corrupt JPEG data: 597 extraneous bytes before marker 0xc4\n",
      "Corrupt JPEG data: 477 extraneous bytes before marker 0xc4\n",
      "Corrupt JPEG data: 730 extraneous bytes before marker 0xda\n",
      "Corrupt JPEG data: 12 extraneous bytes before marker 0xc4\n",
      "Corrupt JPEG data: 804 extraneous bytes before marker 0xda\n",
      "Corrupt JPEG data: 12 extraneous bytes before marker 0xc4\n",
      "Corrupt JPEG data: 638 extraneous bytes before marker 0xda\n",
      "Corrupt JPEG data: bad Huffman code\n",
      "Corrupt JPEG data: 12 extraneous bytes before marker 0xc4\n"
     ]
    },
    {
     "name": "stdout",
     "output_type": "stream",
     "text": [
      "avg_verification: 0.35295036861412077, latency: nan, goodput: 0.2290112385392792\n"
     ]
    },
    {
     "name": "stderr",
     "output_type": "stream",
     "text": [
      "Corrupt JPEG data: 12 extraneous bytes before marker 0xc4\n",
      "Corrupt JPEG data: 667 extraneous bytes before marker 0xc4\n",
      "Corrupt JPEG data: 779 extraneous bytes before marker 0xda\n",
      "Corrupt JPEG data: 776 extraneous bytes before marker 0xc4\n"
     ]
    },
    {
     "name": "stdout",
     "output_type": "stream",
     "text": [
      "avg_verification: 0.3535911392990248, latency: nan, goodput: 0.2280802397866126\n"
     ]
    },
    {
     "name": "stderr",
     "output_type": "stream",
     "text": [
      "Corrupt JPEG data: bad Huffman code\n",
      "Corrupt JPEG data: 3327 extraneous bytes before marker 0xd9\n"
     ]
    },
    {
     "name": "stdout",
     "output_type": "stream",
     "text": [
      "avg_verification: 0.9814814814814815, latency: 0.012140687900573781, goodput: 0.30117930556062655\n"
     ]
    },
    {
     "name": "stderr",
     "output_type": "stream",
     "text": [
      "Corrupt JPEG data: premature end of data segment\n",
      "Corrupt JPEG data: bad Huffman code\n",
      "Corrupt JPEG data: bad Huffman code\n"
     ]
    },
    {
     "name": "stdout",
     "output_type": "stream",
     "text": [
      "4 fps\n"
     ]
    },
    {
     "name": "stderr",
     "output_type": "stream",
     "text": [
      "Corrupt JPEG data: bad Huffman code\n",
      "Corrupt JPEG data: bad Huffman code\n",
      "Corrupt JPEG data: bad Huffman code\n",
      "Corrupt JPEG data: premature end of data segment\n",
      "Corrupt JPEG data: bad Huffman code\n",
      "Corrupt JPEG data: bad Huffman code\n"
     ]
    },
    {
     "name": "stdout",
     "output_type": "stream",
     "text": [
      "4 fps\n"
     ]
    },
    {
     "name": "stderr",
     "output_type": "stream",
     "text": [
      "Corrupt JPEG data: bad Huffman code\n",
      "Corrupt JPEG data: premature end of data segment\n",
      "Corrupt JPEG data: bad Huffman code\n",
      "Corrupt JPEG data: premature end of data segment\n",
      "Corrupt JPEG data: bad Huffman code\n",
      "Corrupt JPEG data: bad Huffman code\n",
      "Corrupt JPEG data: premature end of data segment\n"
     ]
    },
    {
     "name": "stdout",
     "output_type": "stream",
     "text": [
      "7 fps\n"
     ]
    },
    {
     "name": "stderr",
     "output_type": "stream",
     "text": [
      "Corrupt JPEG data: bad Huffman code\n",
      "Corrupt JPEG data: premature end of data segment\n",
      "Corrupt JPEG data: bad Huffman code\n",
      "Corrupt JPEG data: premature end of data segment\n"
     ]
    },
    {
     "name": "stdout",
     "output_type": "stream",
     "text": [
      "5 fps\n",
      "avg_verification: nan, latency: nan, goodput: 0.29151457535732606\n"
     ]
    },
    {
     "name": "stderr",
     "output_type": "stream",
     "text": [
      "Corrupt JPEG data: bad Huffman code\n",
      "Corrupt JPEG data: 16 extraneous bytes before marker 0xda\n",
      "Corrupt JPEG data: bad Huffman code\n",
      "Corrupt JPEG data: bad Huffman code\n",
      "Corrupt JPEG data: bad Huffman code\n",
      "Corrupt JPEG data: bad Huffman code\n",
      "Corrupt JPEG data: bad Huffman code\n",
      "Corrupt JPEG data: premature end of data segment\n",
      "Corrupt JPEG data: bad Huffman code\n",
      "Corrupt JPEG data: bad Huffman code\n"
     ]
    },
    {
     "name": "stdout",
     "output_type": "stream",
     "text": [
      "8 fps\n"
     ]
    },
    {
     "name": "stderr",
     "output_type": "stream",
     "text": [
      "Corrupt JPEG data: bad Huffman code\n",
      "Corrupt JPEG data: bad Huffman code\n",
      "Corrupt JPEG data: premature end of data segment\n",
      "Corrupt JPEG data: 13 extraneous bytes before marker 0xda\n",
      "Corrupt JPEG data: bad Huffman code\n",
      "Corrupt JPEG data: 15 extraneous bytes before marker 0xdb\n",
      "Corrupt JPEG data: 3 extraneous bytes before marker 0xc4\n",
      "Corrupt JPEG data: bad Huffman code\n"
     ]
    },
    {
     "name": "stdout",
     "output_type": "stream",
     "text": [
      "6 fps\n"
     ]
    },
    {
     "name": "stderr",
     "output_type": "stream",
     "text": [
      "Corrupt JPEG data: premature end of data segment\n",
      "Corrupt JPEG data: premature end of data segment\n",
      "Corrupt JPEG data: bad Huffman code\n",
      "Corrupt JPEG data: premature end of data segment\n",
      "Corrupt JPEG data: premature end of data segment\n",
      "Corrupt JPEG data: bad Huffman code\n"
     ]
    },
    {
     "name": "stdout",
     "output_type": "stream",
     "text": [
      "4 fps\n"
     ]
    },
    {
     "name": "stderr",
     "output_type": "stream",
     "text": [
      "Corrupt JPEG data: bad Huffman code\n",
      "Corrupt JPEG data: bad Huffman code\n"
     ]
    },
    {
     "name": "stdout",
     "output_type": "stream",
     "text": [
      "avg_verification: nan, latency: nan, goodput: 0.29193732304302145\n"
     ]
    },
    {
     "name": "stderr",
     "output_type": "stream",
     "text": [
      "Corrupt JPEG data: bad Huffman code\n",
      "Corrupt JPEG data: premature end of data segment\n",
      "Corrupt JPEG data: bad Huffman code\n",
      "Corrupt JPEG data: bad Huffman code\n",
      "Corrupt JPEG data: bad Huffman code\n",
      "Corrupt JPEG data: premature end of data segment\n"
     ]
    },
    {
     "name": "stdout",
     "output_type": "stream",
     "text": [
      "6 fps\n"
     ]
    },
    {
     "name": "stderr",
     "output_type": "stream",
     "text": [
      "Corrupt JPEG data: bad Huffman code\n",
      "Corrupt JPEG data: premature end of data segment\n",
      "Corrupt JPEG data: bad Huffman code\n",
      "Corrupt JPEG data: premature end of data segment\n",
      "Corrupt JPEG data: 28 extraneous bytes before marker 0xda\n",
      "Corrupt JPEG data: bad Huffman code\n",
      "Corrupt JPEG data: premature end of data segment\n"
     ]
    },
    {
     "name": "stdout",
     "output_type": "stream",
     "text": [
      "8 fps\n"
     ]
    },
    {
     "name": "stderr",
     "output_type": "stream",
     "text": [
      "Corrupt JPEG data: bad Huffman code\n",
      "Corrupt JPEG data: 15 extraneous bytes before marker 0xdb\n",
      "Corrupt JPEG data: premature end of data segment\n",
      "Corrupt JPEG data: bad Huffman code\n",
      "Corrupt JPEG data: premature end of data segment\n"
     ]
    },
    {
     "name": "stdout",
     "output_type": "stream",
     "text": [
      "4 fps\n"
     ]
    },
    {
     "name": "stderr",
     "output_type": "stream",
     "text": [
      "Corrupt JPEG data: premature end of data segment\n",
      "Corrupt JPEG data: premature end of data segment\n",
      "Corrupt JPEG data: premature end of data segment\n",
      "Corrupt JPEG data: bad Huffman code\n"
     ]
    },
    {
     "name": "stdout",
     "output_type": "stream",
     "text": [
      "avg_verification: nan, latency: nan, goodput: 0.29193583586004884\n"
     ]
    },
    {
     "name": "stderr",
     "output_type": "stream",
     "text": [
      "Corrupt JPEG data: bad Huffman code\n",
      "Corrupt JPEG data: bad Huffman code\n"
     ]
    },
    {
     "name": "stdout",
     "output_type": "stream",
     "text": [
      "3 fps\n"
     ]
    },
    {
     "name": "stderr",
     "output_type": "stream",
     "text": [
      "Corrupt JPEG data: premature end of data segment\n",
      "Corrupt JPEG data: bad Huffman code\n",
      "Corrupt JPEG data: premature end of data segment\n",
      "Corrupt JPEG data: premature end of data segment\n",
      "Corrupt JPEG data: premature end of data segment\n"
     ]
    },
    {
     "name": "stdout",
     "output_type": "stream",
     "text": [
      "4 fps\n"
     ]
    },
    {
     "name": "stderr",
     "output_type": "stream",
     "text": [
      "Corrupt JPEG data: bad Huffman code\n",
      "Corrupt JPEG data: 3 extraneous bytes before marker 0xc4\n",
      "Corrupt JPEG data: 16 extraneous bytes before marker 0xda\n",
      "Corrupt JPEG data: 3 extraneous bytes before marker 0xc4\n",
      "Corrupt JPEG data: 419 extraneous bytes before marker 0xd9\n",
      "Corrupt JPEG data: bad Huffman code\n",
      "Corrupt JPEG data: bad Huffman code\n",
      "Corrupt JPEG data: premature end of data segment\n",
      "Corrupt JPEG data: premature end of data segment\n"
     ]
    },
    {
     "name": "stdout",
     "output_type": "stream",
     "text": [
      "avg_verification: nan, latency: nan, goodput: 0.2923050660866185\n",
      "7 fps\n"
     ]
    },
    {
     "name": "stderr",
     "output_type": "stream",
     "text": [
      "Corrupt JPEG data: bad Huffman code\n",
      "Corrupt JPEG data: bad Huffman code\n",
      "Corrupt JPEG data: premature end of data segment\n",
      "Corrupt JPEG data: bad Huffman code\n",
      "Corrupt JPEG data: 218 extraneous bytes before marker 0xd9\n",
      "Corrupt JPEG data: premature end of data segment\n"
     ]
    },
    {
     "name": "stdout",
     "output_type": "stream",
     "text": [
      "4 fps\n"
     ]
    },
    {
     "name": "stderr",
     "output_type": "stream",
     "text": [
      "Corrupt JPEG data: bad Huffman code\n",
      "Corrupt JPEG data: premature end of data segment\n",
      "Corrupt JPEG data: premature end of data segment\n",
      "Corrupt JPEG data: bad Huffman code\n",
      "Corrupt JPEG data: bad Huffman code\n",
      "Corrupt JPEG data: bad Huffman code\n",
      "Corrupt JPEG data: bad Huffman code\n",
      "Corrupt JPEG data: bad Huffman code\n",
      "Corrupt JPEG data: bad Huffman code\n"
     ]
    },
    {
     "name": "stdout",
     "output_type": "stream",
     "text": [
      "6 fps\n"
     ]
    },
    {
     "name": "stderr",
     "output_type": "stream",
     "text": [
      "Corrupt JPEG data: bad Huffman code\n",
      "Corrupt JPEG data: 1790 extraneous bytes before marker 0xc4\n"
     ]
    },
    {
     "name": "stdout",
     "output_type": "stream",
     "text": [
      "avg_verification: nan, latency: nan, goodput: 0.2921365919515391\n"
     ]
    },
    {
     "name": "stderr",
     "output_type": "stream",
     "text": [
      "Corrupt JPEG data: premature end of data segment\n",
      "Corrupt JPEG data: bad Huffman code\n",
      "Corrupt JPEG data: premature end of data segment\n"
     ]
    },
    {
     "name": "stdout",
     "output_type": "stream",
     "text": [
      "4 fps\n"
     ]
    },
    {
     "name": "stderr",
     "output_type": "stream",
     "text": [
      "Corrupt JPEG data: 357 extraneous bytes before marker 0xd9\n",
      "Corrupt JPEG data: bad Huffman code\n",
      "Corrupt JPEG data: premature end of data segment\n",
      "Corrupt JPEG data: bad Huffman code\n",
      "Corrupt JPEG data: premature end of data segment\n",
      "Corrupt JPEG data: premature end of data segment\n",
      "Corrupt JPEG data: 3 extraneous bytes before marker 0xc4\n",
      "Corrupt JPEG data: 3 extraneous bytes before marker 0xc4\n",
      "Corrupt JPEG data: premature end of data segment\n",
      "Corrupt JPEG data: bad Huffman code\n",
      "Corrupt JPEG data: premature end of data segment\n"
     ]
    },
    {
     "name": "stdout",
     "output_type": "stream",
     "text": [
      "8 fps\n"
     ]
    },
    {
     "name": "stderr",
     "output_type": "stream",
     "text": [
      "Corrupt JPEG data: bad Huffman code\n",
      "Corrupt JPEG data: premature end of data segment\n",
      "Corrupt JPEG data: premature end of data segment\n",
      "Corrupt JPEG data: bad Huffman code\n",
      "Corrupt JPEG data: bad Huffman code\n",
      "Corrupt JPEG data: bad Huffman code\n",
      "Corrupt JPEG data: bad Huffman code\n",
      "Corrupt JPEG data: bad Huffman code\n"
     ]
    },
    {
     "name": "stdout",
     "output_type": "stream",
     "text": [
      "7 fps\n"
     ]
    },
    {
     "name": "stderr",
     "output_type": "stream",
     "text": [
      "Corrupt JPEG data: premature end of data segment\n",
      "Corrupt JPEG data: bad Huffman code\n",
      "Corrupt JPEG data: bad Huffman code\n",
      "Corrupt JPEG data: bad Huffman code\n",
      "Corrupt JPEG data: bad Huffman code\n",
      "Corrupt JPEG data: premature end of data segment\n"
     ]
    },
    {
     "name": "stdout",
     "output_type": "stream",
     "text": [
      "6 fps\n"
     ]
    },
    {
     "name": "stderr",
     "output_type": "stream",
     "text": [
      "Corrupt JPEG data: bad Huffman code\n",
      "Corrupt JPEG data: premature end of data segment\n"
     ]
    },
    {
     "name": "stdout",
     "output_type": "stream",
     "text": [
      "avg_verification: nan, latency: nan, goodput: 0.2927092566990651\n"
     ]
    },
    {
     "name": "stderr",
     "output_type": "stream",
     "text": [
      "Corrupt JPEG data: bad Huffman code\n",
      "Corrupt JPEG data: bad Huffman code\n",
      "Corrupt JPEG data: bad Huffman code\n",
      "Corrupt JPEG data: bad Huffman code\n"
     ]
    },
    {
     "name": "stdout",
     "output_type": "stream",
     "text": [
      "4 fps\n"
     ]
    },
    {
     "name": "stderr",
     "output_type": "stream",
     "text": [
      "Corrupt JPEG data: bad Huffman code\n",
      "Corrupt JPEG data: premature end of data segment\n",
      "Corrupt JPEG data: bad Huffman code\n",
      "Corrupt JPEG data: premature end of data segment\n",
      "Corrupt JPEG data: premature end of data segment\n",
      "Corrupt JPEG data: bad Huffman code\n",
      "Corrupt JPEG data: bad Huffman code\n"
     ]
    },
    {
     "name": "stdout",
     "output_type": "stream",
     "text": [
      "6 fps\n"
     ]
    },
    {
     "name": "stderr",
     "output_type": "stream",
     "text": [
      "Corrupt JPEG data: 11 extraneous bytes before marker 0xda\n",
      "Corrupt JPEG data: 1802 extraneous bytes before marker 0xc4\n",
      "Corrupt JPEG data: bad Huffman code\n",
      "Corrupt JPEG data: bad Huffman code\n",
      "Corrupt JPEG data: bad Huffman code\n"
     ]
    },
    {
     "name": "stdout",
     "output_type": "stream",
     "text": [
      "5 fps\n"
     ]
    },
    {
     "name": "stderr",
     "output_type": "stream",
     "text": [
      "Corrupt JPEG data: 424 extraneous bytes before marker 0xc4\n",
      "Corrupt JPEG data: premature end of data segment\n",
      "Corrupt JPEG data: premature end of data segment\n",
      "Corrupt JPEG data: bad Huffman code\n",
      "Corrupt JPEG data: premature end of data segment\n"
     ]
    },
    {
     "name": "stdout",
     "output_type": "stream",
     "text": [
      "avg_verification: nan, latency: nan, goodput: 0.292488660374548\n",
      "5 fps\n"
     ]
    },
    {
     "name": "stderr",
     "output_type": "stream",
     "text": [
      "Corrupt JPEG data: premature end of data segment\n",
      "Corrupt JPEG data: premature end of data segment\n",
      "Corrupt JPEG data: bad Huffman code\n",
      "Corrupt JPEG data: bad Huffman code\n",
      "Corrupt JPEG data: premature end of data segment\n",
      "Corrupt JPEG data: bad Huffman code\n",
      "Corrupt JPEG data: bad Huffman code\n",
      "Corrupt JPEG data: bad Huffman code\n"
     ]
    },
    {
     "name": "stdout",
     "output_type": "stream",
     "text": [
      "6 fps\n"
     ]
    },
    {
     "name": "stderr",
     "output_type": "stream",
     "text": [
      "Corrupt JPEG data: bad Huffman code\n",
      "Corrupt JPEG data: bad Huffman code\n",
      "Corrupt JPEG data: bad Huffman code\n",
      "Corrupt JPEG data: 3 extraneous bytes before marker 0xc4\n",
      "Corrupt JPEG data: bad Huffman code\n"
     ]
    },
    {
     "name": "stdout",
     "output_type": "stream",
     "text": [
      "avg_verification: 0.9576923076923076, latency: 0.01719158776022632, goodput: 0.30367057371992595\n"
     ]
    },
    {
     "name": "stderr",
     "output_type": "stream",
     "text": [
      "Corrupt JPEG data: bad Huffman code\n"
     ]
    },
    {
     "name": "stdout",
     "output_type": "stream",
     "text": [
      "1 fps\n"
     ]
    },
    {
     "name": "stderr",
     "output_type": "stream",
     "text": [
      "Corrupt JPEG data: 15 extraneous bytes before marker 0xdb\n",
      "Corrupt JPEG data: bad Huffman code\n",
      "Corrupt JPEG data: 15 extraneous bytes before marker 0xdb\n",
      "Corrupt JPEG data: bad Huffman code\n",
      "Corrupt JPEG data: 12 extraneous bytes before marker 0xdb\n"
     ]
    },
    {
     "name": "stdout",
     "output_type": "stream",
     "text": [
      "1 fps\n"
     ]
    },
    {
     "name": "stderr",
     "output_type": "stream",
     "text": [
      "Corrupt JPEG data: bad Huffman code\n",
      "Corrupt JPEG data: bad Huffman code\n",
      "Corrupt JPEG data: bad Huffman code\n",
      "Corrupt JPEG data: bad Huffman code\n",
      "Corrupt JPEG data: bad Huffman code\n",
      "Corrupt JPEG data: bad Huffman code\n",
      "Corrupt JPEG data: 1776 extraneous bytes before marker 0xc4\n",
      "Corrupt JPEG data: bad Huffman code\n",
      "Corrupt JPEG data: bad Huffman code\n"
     ]
    },
    {
     "name": "stdout",
     "output_type": "stream",
     "text": [
      "avg_verification: 0.9498930128865406, latency: -0.013812177813313032, goodput: 0.2940916168920301\n"
     ]
    },
    {
     "name": "stderr",
     "output_type": "stream",
     "text": [
      "Corrupt JPEG data: bad Huffman code\n",
      "Corrupt JPEG data: bad Huffman code\n",
      "Corrupt JPEG data: 1789 extraneous bytes before marker 0xc4\n"
     ]
    },
    {
     "name": "stdout",
     "output_type": "stream",
     "text": [
      "5 fps\n"
     ]
    },
    {
     "name": "stderr",
     "output_type": "stream",
     "text": [
      "Corrupt JPEG data: bad Huffman code\n",
      "Corrupt JPEG data: bad Huffman code\n",
      "Corrupt JPEG data: premature end of data segment\n",
      "Corrupt JPEG data: bad Huffman code\n",
      "Corrupt JPEG data: bad Huffman code\n",
      "Corrupt JPEG data: bad Huffman code\n"
     ]
    },
    {
     "name": "stdout",
     "output_type": "stream",
     "text": [
      "3 fps\n"
     ]
    },
    {
     "name": "stderr",
     "output_type": "stream",
     "text": [
      "Corrupt JPEG data: bad Huffman code\n",
      "Corrupt JPEG data: bad Huffman code\n",
      "Corrupt JPEG data: bad Huffman code\n",
      "Corrupt JPEG data: 3 extraneous bytes before marker 0xc4\n",
      "Corrupt JPEG data: 15 extraneous bytes before marker 0xdb\n",
      "Corrupt JPEG data: bad Huffman code\n",
      "Corrupt JPEG data: bad Huffman code\n",
      "Corrupt JPEG data: bad Huffman code\n"
     ]
    },
    {
     "name": "stdout",
     "output_type": "stream",
     "text": [
      "2 fps\n"
     ]
    },
    {
     "name": "stderr",
     "output_type": "stream",
     "text": [
      "Corrupt JPEG data: 18 extraneous bytes before marker 0xda\n",
      "Corrupt JPEG data: bad Huffman code\n"
     ]
    },
    {
     "name": "stdout",
     "output_type": "stream",
     "text": [
      "avg_verification: 0.9500335008626399, latency: -0.013690511198190508, goodput: 0.29337301250781805\n"
     ]
    },
    {
     "name": "stderr",
     "output_type": "stream",
     "text": [
      "Corrupt JPEG data: bad Huffman code\n",
      "Corrupt JPEG data: bad Huffman code\n",
      "Corrupt JPEG data: 10 extraneous bytes before marker 0xc4\n",
      "Corrupt JPEG data: bad Huffman code\n",
      "Corrupt JPEG data: bad Huffman code\n"
     ]
    },
    {
     "name": "stdout",
     "output_type": "stream",
     "text": [
      "4 fps\n"
     ]
    },
    {
     "name": "stderr",
     "output_type": "stream",
     "text": [
      "Corrupt JPEG data: bad Huffman code\n",
      "Corrupt JPEG data: 3 extraneous bytes before marker 0xc4\n",
      "Corrupt JPEG data: bad Huffman code\n",
      "Corrupt JPEG data: bad Huffman code\n",
      "Corrupt JPEG data: 18 extraneous bytes before marker 0xc4\n",
      "Corrupt JPEG data: 3 extraneous bytes before marker 0xc4\n",
      "Corrupt JPEG data: 13 extraneous bytes before marker 0xc4\n",
      "Corrupt JPEG data: 3 extraneous bytes before marker 0xc4\n",
      "Corrupt JPEG data: bad Huffman code\n",
      "Corrupt JPEG data: 3 extraneous bytes before marker 0xc4\n"
     ]
    },
    {
     "name": "stdout",
     "output_type": "stream",
     "text": [
      "3 fps\n"
     ]
    },
    {
     "name": "stderr",
     "output_type": "stream",
     "text": [
      "Corrupt JPEG data: 1637 extraneous bytes before marker 0xc4\n",
      "Corrupt JPEG data: bad Huffman code\n",
      "Corrupt JPEG data: 10 extraneous bytes before marker 0xc4\n",
      "Corrupt JPEG data: bad Huffman code\n",
      "Corrupt JPEG data: 3 extraneous bytes before marker 0xc4\n",
      "Corrupt JPEG data: 1785 extraneous bytes before marker 0xc4\n"
     ]
    },
    {
     "name": "stdout",
     "output_type": "stream",
     "text": [
      "avg_verification: 0.9498193116756305, latency: -0.012693590345283083, goodput: 0.29436923035865303\n",
      "3 fps\n"
     ]
    },
    {
     "name": "stderr",
     "output_type": "stream",
     "text": [
      "Corrupt JPEG data: bad Huffman code\n",
      "Corrupt JPEG data: 3 extraneous bytes before marker 0xc4\n",
      "Corrupt JPEG data: 15 extraneous bytes before marker 0xdb\n",
      "Corrupt JPEG data: bad Huffman code\n",
      "Corrupt JPEG data: 1734 extraneous bytes before marker 0xc4\n",
      "Corrupt JPEG data: bad Huffman code\n",
      "Corrupt JPEG data: bad Huffman code\n",
      "Corrupt JPEG data: bad Huffman code\n",
      "Corrupt JPEG data: 1689 extraneous bytes before marker 0xc4\n",
      "Corrupt JPEG data: 15 extraneous bytes before marker 0xdb\n"
     ]
    },
    {
     "name": "stdout",
     "output_type": "stream",
     "text": [
      "3 fps\n"
     ]
    },
    {
     "name": "stderr",
     "output_type": "stream",
     "text": [
      "Corrupt JPEG data: 18 extraneous bytes before marker 0xc4\n",
      "Corrupt JPEG data: 3 extraneous bytes before marker 0xc4\n",
      "Corrupt JPEG data: bad Huffman code\n",
      "Corrupt JPEG data: 15 extraneous bytes before marker 0xdb\n",
      "Corrupt JPEG data: 3 extraneous bytes before marker 0xc4\n",
      "Corrupt JPEG data: bad Huffman code\n"
     ]
    },
    {
     "name": "stdout",
     "output_type": "stream",
     "text": [
      "1 fps\n"
     ]
    },
    {
     "name": "stderr",
     "output_type": "stream",
     "text": [
      "Corrupt JPEG data: bad Huffman code\n",
      "Corrupt JPEG data: 15 extraneous bytes before marker 0xdb\n",
      "Corrupt JPEG data: bad Huffman code\n",
      "Corrupt JPEG data: bad Huffman code\n",
      "Corrupt JPEG data: bad Huffman code\n",
      "Corrupt JPEG data: bad Huffman code\n",
      "Corrupt JPEG data: bad Huffman code\n",
      "Corrupt JPEG data: bad Huffman code\n",
      "Corrupt JPEG data: bad Huffman code\n"
     ]
    },
    {
     "name": "stdout",
     "output_type": "stream",
     "text": [
      "3 fps\n",
      "avg_verification: 0.9498267784289687, latency: -0.013128933485135224, goodput: 0.29455929293573857\n"
     ]
    },
    {
     "name": "stderr",
     "output_type": "stream",
     "text": [
      "Corrupt JPEG data: bad Huffman code\n",
      "Corrupt JPEG data: bad Huffman code\n",
      "Corrupt JPEG data: 13 extraneous bytes before marker 0xc4\n",
      "Corrupt JPEG data: bad Huffman code\n",
      "Corrupt JPEG data: bad Huffman code\n",
      "Corrupt JPEG data: 15 extraneous bytes before marker 0xdb\n",
      "Corrupt JPEG data: bad Huffman code\n",
      "Corrupt JPEG data: 3 extraneous bytes before marker 0xc4\n",
      "Corrupt JPEG data: bad Huffman code\n",
      "Corrupt JPEG data: 13 extraneous bytes before marker 0xc4\n",
      "Corrupt JPEG data: 3 extraneous bytes before marker 0xc4\n",
      "Corrupt JPEG data: bad Huffman code\n",
      "Corrupt JPEG data: bad Huffman code\n"
     ]
    },
    {
     "name": "stdout",
     "output_type": "stream",
     "text": [
      "3 fps\n"
     ]
    },
    {
     "name": "stderr",
     "output_type": "stream",
     "text": [
      "Corrupt JPEG data: bad Huffman code\n",
      "Corrupt JPEG data: bad Huffman code\n",
      "Corrupt JPEG data: bad Huffman code\n",
      "Corrupt JPEG data: 1724 extraneous bytes before marker 0xc4\n",
      "Corrupt JPEG data: 1824 extraneous bytes before marker 0xda\n",
      "Corrupt JPEG data: 15 extraneous bytes before marker 0xdb\n",
      "Corrupt JPEG data: 15 extraneous bytes before marker 0xdb\n",
      "Corrupt JPEG data: 10 extraneous bytes before marker 0xc4\n"
     ]
    },
    {
     "name": "stdout",
     "output_type": "stream",
     "text": [
      "avg_verification: 0.9501364235427768, latency: -0.013402492390592845, goodput: 0.29458528664243755\n"
     ]
    },
    {
     "name": "stderr",
     "output_type": "stream",
     "text": [
      "Corrupt JPEG data: bad Huffman code\n",
      "Corrupt JPEG data: bad Huffman code\n",
      "Corrupt JPEG data: bad Huffman code\n",
      "Corrupt JPEG data: bad Huffman code\n"
     ]
    },
    {
     "name": "stdout",
     "output_type": "stream",
     "text": [
      "2 fps\n"
     ]
    },
    {
     "name": "stderr",
     "output_type": "stream",
     "text": [
      "Corrupt JPEG data: 3 extraneous bytes before marker 0xc4\n",
      "Corrupt JPEG data: bad Huffman code\n",
      "Corrupt JPEG data: bad Huffman code\n",
      "Corrupt JPEG data: bad Huffman code\n",
      "Corrupt JPEG data: bad Huffman code\n",
      "Corrupt JPEG data: bad Huffman code\n",
      "Corrupt JPEG data: 3 extraneous bytes before marker 0xc4\n",
      "Corrupt JPEG data: 1715 extraneous bytes before marker 0xc4\n",
      "Corrupt JPEG data: 3 extraneous bytes before marker 0xc4\n",
      "Corrupt JPEG data: 10 extraneous bytes before marker 0xc4\n",
      "Corrupt JPEG data: bad Huffman code\n",
      "Corrupt JPEG data: bad Huffman code\n",
      "Corrupt JPEG data: bad Huffman code\n",
      "Corrupt JPEG data: bad Huffman code\n",
      "Corrupt JPEG data: bad Huffman code\n",
      "Corrupt JPEG data: bad Huffman code\n"
     ]
    },
    {
     "name": "stdout",
     "output_type": "stream",
     "text": [
      "1 fps\n",
      "avg_verification: 0.950038359244945, latency: -0.01363314308302121, goodput: 0.2948516522193362\n"
     ]
    },
    {
     "name": "stderr",
     "output_type": "stream",
     "text": [
      "Corrupt JPEG data: bad Huffman code\n",
      "Corrupt JPEG data: bad Huffman code\n",
      "Corrupt JPEG data: bad Huffman code\n",
      "Corrupt JPEG data: 3 extraneous bytes before marker 0xc4\n",
      "Corrupt JPEG data: 3 extraneous bytes before marker 0xc4\n",
      "Corrupt JPEG data: 15 extraneous bytes before marker 0xdb\n",
      "Corrupt JPEG data: bad Huffman code\n",
      "Corrupt JPEG data: 3 extraneous bytes before marker 0xc4\n"
     ]
    },
    {
     "name": "stdout",
     "output_type": "stream",
     "text": [
      "1 fps\n"
     ]
    },
    {
     "name": "stderr",
     "output_type": "stream",
     "text": [
      "Corrupt JPEG data: 3 extraneous bytes before marker 0xc4\n",
      "Corrupt JPEG data: 3 extraneous bytes before marker 0xc4\n",
      "Corrupt JPEG data: bad Huffman code\n",
      "Corrupt JPEG data: bad Huffman code\n",
      "Corrupt JPEG data: 3 extraneous bytes before marker 0xc4\n",
      "Corrupt JPEG data: bad Huffman code\n",
      "Corrupt JPEG data: bad Huffman code\n",
      "Corrupt JPEG data: 15 extraneous bytes before marker 0xdb\n",
      "Corrupt JPEG data: bad Huffman code\n",
      "Corrupt JPEG data: bad Huffman code\n"
     ]
    },
    {
     "name": "stdout",
     "output_type": "stream",
     "text": [
      "2 fps\n"
     ]
    },
    {
     "name": "stderr",
     "output_type": "stream",
     "text": [
      "Corrupt JPEG data: bad Huffman code\n",
      "Corrupt JPEG data: 1703 extraneous bytes before marker 0xc4\n",
      "Corrupt JPEG data: 13 extraneous bytes before marker 0xc4\n",
      "Corrupt JPEG data: bad Huffman code\n",
      "Corrupt JPEG data: bad Huffman code\n",
      "Corrupt JPEG data: bad Huffman code\n"
     ]
    },
    {
     "name": "stdout",
     "output_type": "stream",
     "text": [
      "1 fps\n",
      "avg_verification: 0.9501432889933996, latency: -0.013627650226640451, goodput: 0.29499096664784225\n"
     ]
    },
    {
     "name": "stderr",
     "output_type": "stream",
     "text": [
      "Corrupt JPEG data: 3 extraneous bytes before marker 0xc4\n",
      "Corrupt JPEG data: bad Huffman code\n",
      "Corrupt JPEG data: bad Huffman code\n",
      "Corrupt JPEG data: 13 extraneous bytes before marker 0xc4\n",
      "Corrupt JPEG data: 10 extraneous bytes before marker 0xc4\n",
      "Corrupt JPEG data: bad Huffman code\n",
      "Corrupt JPEG data: bad Huffman code\n",
      "Corrupt JPEG data: bad Huffman code\n"
     ]
    },
    {
     "name": "stdout",
     "output_type": "stream",
     "text": [
      "2 fps\n"
     ]
    },
    {
     "name": "stderr",
     "output_type": "stream",
     "text": [
      "Corrupt JPEG data: bad Huffman code\n",
      "Corrupt JPEG data: 3 extraneous bytes before marker 0xc4\n",
      "Corrupt JPEG data: 1686 extraneous bytes before marker 0xc4\n",
      "Corrupt JPEG data: 10 extraneous bytes before marker 0xc4\n"
     ]
    },
    {
     "name": "stdout",
     "output_type": "stream",
     "text": [
      "avg_verification: 0.89, latency: -0.01720060586248594, goodput: 0.3000256871307475\n"
     ]
    },
    {
     "name": "stderr",
     "output_type": "stream",
     "text": [
      "Corrupt JPEG data: bad Huffman code\n",
      "Corrupt JPEG data: bad Huffman code\n",
      "Corrupt JPEG data: 3 extraneous bytes before marker 0xc4\n",
      "Corrupt JPEG data: 1718 extraneous bytes before marker 0xc4\n"
     ]
    },
    {
     "name": "stdout",
     "output_type": "stream",
     "text": [
      "2 fps\n"
     ]
    },
    {
     "name": "stderr",
     "output_type": "stream",
     "text": [
      "Corrupt JPEG data: 3 extraneous bytes before marker 0xc4\n",
      "Corrupt JPEG data: 3 extraneous bytes before marker 0xc4\n",
      "Corrupt JPEG data: 13 extraneous bytes before marker 0xc4\n",
      "Corrupt JPEG data: 3 extraneous bytes before marker 0xc4\n",
      "Corrupt JPEG data: 15 extraneous bytes before marker 0xdb\n",
      "Corrupt JPEG data: bad Huffman code\n",
      "Corrupt JPEG data: bad Huffman code\n",
      "Corrupt JPEG data: 10 extraneous bytes before marker 0xc4\n",
      "Corrupt JPEG data: 15 extraneous bytes before marker 0xdb\n",
      "Corrupt JPEG data: 13 extraneous bytes before marker 0xc4\n",
      "Corrupt JPEG data: 13 extraneous bytes before marker 0xc4\n",
      "Corrupt JPEG data: bad Huffman code\n"
     ]
    },
    {
     "name": "stdout",
     "output_type": "stream",
     "text": [
      "1 fps\n"
     ]
    },
    {
     "name": "stderr",
     "output_type": "stream",
     "text": [
      "Corrupt JPEG data: 3 extraneous bytes before marker 0xc4\n",
      "Corrupt JPEG data: 15 extraneous bytes before marker 0xdb\n",
      "Corrupt JPEG data: 1657 extraneous bytes before marker 0xc4\n",
      "Corrupt JPEG data: 1704 extraneous bytes before marker 0xc4\n"
     ]
    },
    {
     "name": "stdout",
     "output_type": "stream",
     "text": [
      "avg_verification: nan, latency: nan, goodput: 0.2899661922398221\n"
     ]
    },
    {
     "name": "stderr",
     "output_type": "stream",
     "text": [
      "Corrupt JPEG data: 1 extraneous bytes before marker 0xda\n",
      "Corrupt JPEG data: bad Huffman code\n",
      "Corrupt JPEG data: bad Huffman code\n"
     ]
    },
    {
     "name": "stdout",
     "output_type": "stream",
     "text": [
      "1 fps\n"
     ]
    },
    {
     "name": "stderr",
     "output_type": "stream",
     "text": [
      "Corrupt JPEG data: 1517 extraneous bytes before marker 0xc4\n",
      "Corrupt JPEG data: 3 extraneous bytes before marker 0xc4\n",
      "Corrupt JPEG data: bad Huffman code\n",
      "Corrupt JPEG data: 15 extraneous bytes before marker 0xdb\n",
      "Corrupt JPEG data: 3 extraneous bytes before marker 0xc4\n",
      "Corrupt JPEG data: 3 extraneous bytes before marker 0xc4\n",
      "Corrupt JPEG data: 10 extraneous bytes before marker 0xc4\n",
      "Corrupt JPEG data: 10 extraneous bytes before marker 0xc4\n",
      "Corrupt JPEG data: 15 extraneous bytes before marker 0xdb\n",
      "Corrupt JPEG data: bad Huffman code\n",
      "Corrupt JPEG data: 3 extraneous bytes before marker 0xc4\n",
      "Corrupt JPEG data: 3 extraneous bytes before marker 0xc4\n",
      "Corrupt JPEG data: 3 extraneous bytes before marker 0xc4\n",
      "Corrupt JPEG data: 15 extraneous bytes before marker 0xdb\n",
      "Corrupt JPEG data: bad Huffman code\n",
      "Corrupt JPEG data: 10 extraneous bytes before marker 0xc4\n"
     ]
    },
    {
     "name": "stdout",
     "output_type": "stream",
     "text": [
      "avg_verification: nan, latency: nan, goodput: 0.29167579811216776\n"
     ]
    },
    {
     "name": "stderr",
     "output_type": "stream",
     "text": [
      "Corrupt JPEG data: 15 extraneous bytes before marker 0xdb\n",
      "Corrupt JPEG data: bad Huffman code\n",
      "Corrupt JPEG data: bad Huffman code\n",
      "Corrupt JPEG data: 1573 extraneous bytes before marker 0xda\n",
      "Corrupt JPEG data: bad Huffman code\n",
      "Corrupt JPEG data: bad Huffman code\n",
      "Corrupt JPEG data: 3 extraneous bytes before marker 0xc4\n",
      "Corrupt JPEG data: 18 extraneous bytes before marker 0xc4\n",
      "Corrupt JPEG data: bad Huffman code\n",
      "Corrupt JPEG data: bad Huffman code\n",
      "Corrupt JPEG data: bad Huffman code\n",
      "Corrupt JPEG data: 3 extraneous bytes before marker 0xc4\n",
      "Corrupt JPEG data: bad Huffman code\n",
      "Corrupt JPEG data: bad Huffman code\n",
      "Corrupt JPEG data: bad Huffman code\n",
      "Corrupt JPEG data: 3 extraneous bytes before marker 0xc4\n",
      "Corrupt JPEG data: bad Huffman code\n",
      "Corrupt JPEG data: 3 extraneous bytes before marker 0xc4\n",
      "Corrupt JPEG data: 15 extraneous bytes before marker 0xdb\n",
      "Corrupt JPEG data: 3 extraneous bytes before marker 0xc4\n",
      "Corrupt JPEG data: bad Huffman code\n",
      "Corrupt JPEG data: bad Huffman code\n",
      "Corrupt JPEG data: bad Huffman code\n",
      "Corrupt JPEG data: 15 extraneous bytes before marker 0xdb\n",
      "Corrupt JPEG data: 3 extraneous bytes before marker 0xc4\n"
     ]
    },
    {
     "name": "stdout",
     "output_type": "stream",
     "text": [
      "avg_verification: nan, latency: nan, goodput: 0.292667643858302\n"
     ]
    },
    {
     "name": "stderr",
     "output_type": "stream",
     "text": [
      "Corrupt JPEG data: 3 extraneous bytes before marker 0xc4\n",
      "Corrupt JPEG data: 13 extraneous bytes before marker 0xc4\n",
      "Corrupt JPEG data: bad Huffman code\n",
      "Corrupt JPEG data: 15 extraneous bytes before marker 0xdb\n",
      "Corrupt JPEG data: 13 extraneous bytes before marker 0xc4\n",
      "Corrupt JPEG data: 3 extraneous bytes before marker 0xc4\n",
      "Corrupt JPEG data: 3 extraneous bytes before marker 0xc4\n",
      "Corrupt JPEG data: bad Huffman code\n",
      "Corrupt JPEG data: bad Huffman code\n",
      "Corrupt JPEG data: 3 extraneous bytes before marker 0xc4\n",
      "Corrupt JPEG data: 3 extraneous bytes before marker 0xc4\n",
      "Corrupt JPEG data: 3 extraneous bytes before marker 0xc4\n",
      "Corrupt JPEG data: 20 extraneous bytes before marker 0xda\n",
      "Corrupt JPEG data: bad Huffman code\n",
      "Corrupt JPEG data: 15 extraneous bytes before marker 0xdb\n",
      "Corrupt JPEG data: bad Huffman code\n",
      "Corrupt JPEG data: 3 extraneous bytes before marker 0xc4\n",
      "Corrupt JPEG data: 13 extraneous bytes before marker 0xc4\n",
      "Corrupt JPEG data: 15 extraneous bytes before marker 0x5a\n",
      "Corrupt JPEG data: 12 extraneous bytes before marker 0xdb\n",
      "Corrupt JPEG data: 10 extraneous bytes before marker 0xc4\n",
      "Corrupt JPEG data: bad Huffman code\n"
     ]
    },
    {
     "name": "stdout",
     "output_type": "stream",
     "text": [
      "avg_verification: nan, latency: nan, goodput: 0.2932982477545677\n"
     ]
    },
    {
     "name": "stderr",
     "output_type": "stream",
     "text": [
      "Corrupt JPEG data: bad Huffman code\n",
      "Corrupt JPEG data: 3 extraneous bytes before marker 0xc4\n",
      "Corrupt JPEG data: 10 extraneous bytes before marker 0xc4\n",
      "Corrupt JPEG data: 15 extraneous bytes before marker 0xdb\n",
      "Corrupt JPEG data: 3 extraneous bytes before marker 0xc4\n",
      "Corrupt JPEG data: 18 extraneous bytes before marker 0xc4\n",
      "Corrupt JPEG data: 15 extraneous bytes before marker 0xdb\n",
      "Corrupt JPEG data: bad Huffman code\n",
      "Corrupt JPEG data: 18 extraneous bytes before marker 0xc4\n",
      "Corrupt JPEG data: 10 extraneous bytes before marker 0xc4\n",
      "Corrupt JPEG data: 10 extraneous bytes before marker 0xc4\n",
      "Corrupt JPEG data: bad Huffman code\n",
      "Corrupt JPEG data: 10 extraneous bytes before marker 0xc4\n",
      "Corrupt JPEG data: 15 extraneous bytes before marker 0xdb\n",
      "Corrupt JPEG data: bad Huffman code\n",
      "Corrupt JPEG data: 10 extraneous bytes before marker 0xc4\n",
      "Corrupt JPEG data: 3 extraneous bytes before marker 0xc4\n",
      "Corrupt JPEG data: 3 extraneous bytes before marker 0xc4\n",
      "Corrupt JPEG data: 3 extraneous bytes before marker 0xc4\n"
     ]
    },
    {
     "name": "stdout",
     "output_type": "stream",
     "text": [
      "avg_verification: nan, latency: nan, goodput: 0.2933663928671501\n"
     ]
    },
    {
     "name": "stderr",
     "output_type": "stream",
     "text": [
      "Corrupt JPEG data: 1604 extraneous bytes before marker 0xc4\n",
      "Corrupt JPEG data: 15 extraneous bytes before marker 0xdb\n",
      "Corrupt JPEG data: 3 extraneous bytes before marker 0xc4\n",
      "Corrupt JPEG data: 15 extraneous bytes before marker 0xdb\n",
      "Corrupt JPEG data: bad Huffman code\n",
      "Corrupt JPEG data: 1637 extraneous bytes before marker 0xc4\n",
      "Corrupt JPEG data: 3 extraneous bytes before marker 0xc4\n",
      "Corrupt JPEG data: 3 extraneous bytes before marker 0xc4\n",
      "Corrupt JPEG data: 12 extraneous bytes before marker 0xdb\n",
      "Corrupt JPEG data: 13 extraneous bytes before marker 0xc4\n",
      "Corrupt JPEG data: bad Huffman code\n",
      "Corrupt JPEG data: 3 extraneous bytes before marker 0xc4\n",
      "Corrupt JPEG data: 15 extraneous bytes before marker 0xdb\n",
      "Corrupt JPEG data: 18 extraneous bytes before marker 0xc4\n",
      "Corrupt JPEG data: bad Huffman code\n",
      "Corrupt JPEG data: 3 extraneous bytes before marker 0xc4\n",
      "Corrupt JPEG data: 13 extraneous bytes before marker 0xc4\n",
      "Corrupt JPEG data: 15 extraneous bytes before marker 0xdb\n",
      "Corrupt JPEG data: 15 extraneous bytes before marker 0xdb\n",
      "Corrupt JPEG data: bad Huffman code\n"
     ]
    },
    {
     "name": "stdout",
     "output_type": "stream",
     "text": [
      "1 fps\n",
      "avg_verification: nan, latency: nan, goodput: 0.2933254769344106\n"
     ]
    },
    {
     "name": "stderr",
     "output_type": "stream",
     "text": [
      "Corrupt JPEG data: 18 extraneous bytes before marker 0xc4\n",
      "Corrupt JPEG data: 3 extraneous bytes before marker 0xc4\n",
      "Corrupt JPEG data: bad Huffman code\n",
      "Corrupt JPEG data: 10 extraneous bytes before marker 0xc4\n",
      "Corrupt JPEG data: 3 extraneous bytes before marker 0xc4\n",
      "Corrupt JPEG data: bad Huffman code\n",
      "Corrupt JPEG data: bad Huffman code\n"
     ]
    },
    {
     "name": "stdout",
     "output_type": "stream",
     "text": [
      "1 fps\n"
     ]
    },
    {
     "name": "stderr",
     "output_type": "stream",
     "text": [
      "Corrupt JPEG data: bad Huffman code\n",
      "Corrupt JPEG data: 18 extraneous bytes before marker 0xc4\n",
      "Corrupt JPEG data: 3 extraneous bytes before marker 0xc4\n",
      "Corrupt JPEG data: 18 extraneous bytes before marker 0xc4\n",
      "Corrupt JPEG data: 18 extraneous bytes before marker 0xc4\n",
      "Corrupt JPEG data: bad Huffman code\n",
      "Corrupt JPEG data: 3 extraneous bytes before marker 0xc4\n",
      "Corrupt JPEG data: 12 extraneous bytes before marker 0xdb\n",
      "Corrupt JPEG data: 13 extraneous bytes before marker 0xc4\n",
      "Corrupt JPEG data: 12 extraneous bytes before marker 0xdb\n",
      "Corrupt JPEG data: 1755 extraneous bytes before marker 0xc4\n",
      "Corrupt JPEG data: 15 extraneous bytes before marker 0xdb\n"
     ]
    },
    {
     "name": "stdout",
     "output_type": "stream",
     "text": [
      "2 fps\n"
     ]
    },
    {
     "name": "stderr",
     "output_type": "stream",
     "text": [
      "Corrupt JPEG data: bad Huffman code\n",
      "Corrupt JPEG data: 3 extraneous bytes before marker 0xc4\n",
      "Corrupt JPEG data: 15 extraneous bytes before marker 0x5a\n",
      "Corrupt JPEG data: 10 extraneous bytes before marker 0xc4\n",
      "Corrupt JPEG data: 15 extraneous bytes before marker 0x5a\n",
      "Corrupt JPEG data: bad Huffman code\n"
     ]
    },
    {
     "name": "stdout",
     "output_type": "stream",
     "text": [
      "avg_verification: nan, latency: nan, goodput: 0.29328095315332275\n"
     ]
    },
    {
     "name": "stderr",
     "output_type": "stream",
     "text": [
      "Corrupt JPEG data: 12 extraneous bytes before marker 0xdb\n",
      "Corrupt JPEG data: 13 extraneous bytes before marker 0xc4\n",
      "Corrupt JPEG data: bad Huffman code\n",
      "Corrupt JPEG data: 3 extraneous bytes before marker 0xc4\n",
      "Corrupt JPEG data: 1690 extraneous bytes before marker 0xc4\n"
     ]
    },
    {
     "name": "stdout",
     "output_type": "stream",
     "text": [
      "2 fps\n"
     ]
    },
    {
     "name": "stderr",
     "output_type": "stream",
     "text": [
      "Corrupt JPEG data: bad Huffman code\n",
      "Corrupt JPEG data: 15 extraneous bytes before marker 0xdb\n",
      "Corrupt JPEG data: 20 extraneous bytes before marker 0xda\n",
      "Corrupt JPEG data: bad Huffman code\n",
      "Corrupt JPEG data: bad Huffman code\n",
      "Corrupt JPEG data: bad Huffman code\n",
      "Corrupt JPEG data: bad Huffman code\n"
     ]
    },
    {
     "name": "stdout",
     "output_type": "stream",
     "text": [
      "1 fps\n"
     ]
    },
    {
     "name": "stderr",
     "output_type": "stream",
     "text": [
      "Corrupt JPEG data: 10 extraneous bytes before marker 0xc4\n",
      "Corrupt JPEG data: 10 extraneous bytes before marker 0xc4\n",
      "Corrupt JPEG data: bad Huffman code\n",
      "Corrupt JPEG data: 3 extraneous bytes before marker 0xc4\n",
      "Corrupt JPEG data: 3 extraneous bytes before marker 0xc4\n",
      "Corrupt JPEG data: 1623 extraneous bytes before marker 0xc4\n",
      "Corrupt JPEG data: bad Huffman code\n",
      "Corrupt JPEG data: 18 extraneous bytes before marker 0xc4\n"
     ]
    },
    {
     "name": "stdout",
     "output_type": "stream",
     "text": [
      "avg_verification: 0.8384615384615385, latency: 0.008019969614229482, goodput: 0.29961089494163423\n"
     ]
    },
    {
     "name": "stderr",
     "output_type": "stream",
     "text": [
      "Corrupt JPEG data: 3 extraneous bytes before marker 0xc4\n",
      "Corrupt JPEG data: 15 extraneous bytes before marker 0xdb\n",
      "Corrupt JPEG data: bad Huffman code\n",
      "Corrupt JPEG data: 15 extraneous bytes before marker 0xdb\n",
      "Corrupt JPEG data: 13 extraneous bytes before marker 0xc4\n",
      "Corrupt JPEG data: bad Huffman code\n",
      "Corrupt JPEG data: bad Huffman code\n",
      "Corrupt JPEG data: 15 extraneous bytes before marker 0x5a\n",
      "Corrupt JPEG data: bad Huffman code\n",
      "Corrupt JPEG data: 3 extraneous bytes before marker 0xc4\n",
      "Corrupt JPEG data: 3 extraneous bytes before marker 0xc4\n",
      "Corrupt JPEG data: 15 extraneous bytes before marker 0xdb\n",
      "Corrupt JPEG data: 15 extraneous bytes before marker 0xdb\n",
      "Corrupt JPEG data: 15 extraneous bytes before marker 0xdb\n",
      "Corrupt JPEG data: 15 extraneous bytes before marker 0xdb\n"
     ]
    },
    {
     "name": "stdout",
     "output_type": "stream",
     "text": [
      "avg_verification: 0.8487653256262415, latency: -0.015012366432077134, goodput: 0.2919155885710185\n"
     ]
    },
    {
     "name": "stderr",
     "output_type": "stream",
     "text": [
      "Corrupt JPEG data: 18 extraneous bytes before marker 0xc4\n",
      "Corrupt JPEG data: 28 extraneous bytes before marker 0xc4\n",
      "Corrupt JPEG data: 15 extraneous bytes before marker 0xdb\n",
      "Corrupt JPEG data: 10 extraneous bytes before marker 0xc4\n",
      "Corrupt JPEG data: 3 extraneous bytes before marker 0xc4\n",
      "Corrupt JPEG data: 10 extraneous bytes before marker 0xc4\n",
      "Corrupt JPEG data: bad Huffman code\n",
      "Corrupt JPEG data: 1626 extraneous bytes before marker 0xc4\n",
      "Corrupt JPEG data: 10 extraneous bytes before marker 0xc4\n",
      "Corrupt JPEG data: 5 extraneous bytes before marker 0xda\n",
      "Corrupt JPEG data: bad Huffman code\n",
      "Corrupt JPEG data: 15 extraneous bytes before marker 0xdb\n",
      "Corrupt JPEG data: 15 extraneous bytes before marker 0xdb\n",
      "Corrupt JPEG data: 21 extraneous bytes before marker 0xda\n",
      "Corrupt JPEG data: 15 extraneous bytes before marker 0xdb\n"
     ]
    },
    {
     "name": "stdout",
     "output_type": "stream",
     "text": [
      "avg_verification: 0.848888699637875, latency: -0.01497474286416113, goodput: 0.2920577296935506\n"
     ]
    },
    {
     "name": "stderr",
     "output_type": "stream",
     "text": [
      "Corrupt JPEG data: 13 extraneous bytes before marker 0xc4\n",
      "Corrupt JPEG data: 10 extraneous bytes before marker 0xc4\n",
      "Corrupt JPEG data: 3 extraneous bytes before marker 0xc4\n",
      "Corrupt JPEG data: 15 extraneous bytes before marker 0xdb\n",
      "Corrupt JPEG data: 15 extraneous bytes before marker 0xdb\n",
      "Corrupt JPEG data: 3 extraneous bytes before marker 0xc4\n",
      "Corrupt JPEG data: 21 extraneous bytes before marker 0xda\n",
      "Corrupt JPEG data: 3 extraneous bytes before marker 0xc4\n",
      "Corrupt JPEG data: bad Huffman code\n",
      "Corrupt JPEG data: 3 extraneous bytes before marker 0xc4\n",
      "Corrupt JPEG data: 18 extraneous bytes before marker 0xc4\n",
      "Corrupt JPEG data: 15 extraneous bytes before marker 0xdb\n",
      "Corrupt JPEG data: bad Huffman code\n",
      "Corrupt JPEG data: 10 extraneous bytes before marker 0xc4\n",
      "Corrupt JPEG data: bad Huffman code\n"
     ]
    },
    {
     "name": "stdout",
     "output_type": "stream",
     "text": [
      "avg_verification: 0.8490243358932879, latency: -0.014810620958701632, goodput: 0.29234645350698313\n"
     ]
    },
    {
     "name": "stderr",
     "output_type": "stream",
     "text": [
      "Corrupt JPEG data: 5 extraneous bytes before marker 0xda\n",
      "Corrupt JPEG data: 10 extraneous bytes before marker 0xc4\n",
      "Corrupt JPEG data: 18 extraneous bytes before marker 0xc4\n",
      "Corrupt JPEG data: bad Huffman code\n",
      "Corrupt JPEG data: 1510 extraneous bytes before marker 0xc4\n",
      "Corrupt JPEG data: 1570 extraneous bytes before marker 0xc4\n",
      "Corrupt JPEG data: 18 extraneous bytes before marker 0xc4\n",
      "Corrupt JPEG data: 3 extraneous bytes before marker 0xc4\n",
      "Corrupt JPEG data: 13 extraneous bytes before marker 0xc4\n",
      "Corrupt JPEG data: bad Huffman code\n",
      "Corrupt JPEG data: 10 extraneous bytes before marker 0xc4\n",
      "Corrupt JPEG data: 18 extraneous bytes before marker 0xc4\n",
      "Corrupt JPEG data: 12 extraneous bytes before marker 0xdb\n",
      "Corrupt JPEG data: 15 extraneous bytes before marker 0xdb\n",
      "Corrupt JPEG data: 1466 extraneous bytes before marker 0xc4\n",
      "Corrupt JPEG data: 1600 extraneous bytes before marker 0xda\n",
      "Corrupt JPEG data: 10 extraneous bytes before marker 0xc4\n",
      "Corrupt JPEG data: 3 extraneous bytes before marker 0xc4\n",
      "Corrupt JPEG data: 2 extraneous bytes before marker 0xda\n"
     ]
    },
    {
     "name": "stdout",
     "output_type": "stream",
     "text": [
      "avg_verification: 0.8489579083308594, latency: -0.014926948106000574, goodput: 0.2925449425478048\n"
     ]
    },
    {
     "name": "stderr",
     "output_type": "stream",
     "text": [
      "Corrupt JPEG data: bad Huffman code\n",
      "Corrupt JPEG data: 3 extraneous bytes before marker 0xc4\n",
      "Corrupt JPEG data: bad Huffman code\n",
      "Corrupt JPEG data: 12 extraneous bytes before marker 0xdb\n",
      "Corrupt JPEG data: 1567 extraneous bytes before marker 0xc4\n",
      "Corrupt JPEG data: 3 extraneous bytes before marker 0xc4\n",
      "Corrupt JPEG data: 15 extraneous bytes before marker 0x5a\n",
      "Corrupt JPEG data: 1522 extraneous bytes before marker 0xda\n",
      "Corrupt JPEG data: 28 extraneous bytes before marker 0xc4\n",
      "Corrupt JPEG data: 3 extraneous bytes before marker 0xc4\n",
      "Corrupt JPEG data: 18 extraneous bytes before marker 0xda\n",
      "Corrupt JPEG data: 15 extraneous bytes before marker 0xdb\n",
      "Corrupt JPEG data: 18 extraneous bytes before marker 0xc4\n"
     ]
    },
    {
     "name": "stdout",
     "output_type": "stream",
     "text": [
      "avg_verification: 0.849281678270606, latency: -0.014896245948938755, goodput: 0.29232343251439585\n"
     ]
    },
    {
     "name": "stderr",
     "output_type": "stream",
     "text": [
      "Corrupt JPEG data: bad Huffman code\n",
      "Corrupt JPEG data: 2 extraneous bytes before marker 0xda\n",
      "Corrupt JPEG data: 15 extraneous bytes before marker 0xdb\n",
      "Corrupt JPEG data: bad Huffman code\n",
      "Corrupt JPEG data: 3 extraneous bytes before marker 0xc4\n",
      "Corrupt JPEG data: 3 extraneous bytes before marker 0xc4\n",
      "Corrupt JPEG data: 10 extraneous bytes before marker 0xc4\n",
      "Corrupt JPEG data: 15 extraneous bytes before marker 0xdb\n",
      "Corrupt JPEG data: 13 extraneous bytes before marker 0xc4\n",
      "Corrupt JPEG data: 1477 extraneous bytes before marker 0xc4\n",
      "Corrupt JPEG data: 1550 extraneous bytes before marker 0xc4\n",
      "Corrupt JPEG data: 3 extraneous bytes before marker 0xc4\n",
      "Corrupt JPEG data: 10 extraneous bytes before marker 0xc4\n"
     ]
    },
    {
     "name": "stdout",
     "output_type": "stream",
     "text": [
      "avg_verification: 0.8493483187179253, latency: -0.014888229331739609, goodput: 0.2923901040102999\n"
     ]
    },
    {
     "name": "stderr",
     "output_type": "stream",
     "text": [
      "Corrupt JPEG data: bad Huffman code\n",
      "Corrupt JPEG data: 18 extraneous bytes before marker 0xc4\n",
      "Corrupt JPEG data: 15 extraneous bytes before marker 0xdb\n",
      "Corrupt JPEG data: 18 extraneous bytes before marker 0xc4\n",
      "Corrupt JPEG data: 3 extraneous bytes before marker 0xc4\n",
      "Corrupt JPEG data: 28 extraneous bytes before marker 0xc4\n",
      "Corrupt JPEG data: 12 extraneous bytes before marker 0xdb\n",
      "Corrupt JPEG data: 18 extraneous bytes before marker 0xc4\n",
      "Corrupt JPEG data: 3 extraneous bytes before marker 0xc4\n",
      "Corrupt JPEG data: 10 extraneous bytes before marker 0xc4\n",
      "Corrupt JPEG data: 3 extraneous bytes before marker 0xc4\n",
      "Corrupt JPEG data: 18 extraneous bytes before marker 0xc4\n",
      "Corrupt JPEG data: 13 extraneous bytes before marker 0xc4\n",
      "Corrupt JPEG data: 21 extraneous bytes before marker 0xda\n",
      "Corrupt JPEG data: 13 extraneous bytes before marker 0xc4\n",
      "Corrupt JPEG data: 10 extraneous bytes before marker 0xc4\n"
     ]
    },
    {
     "name": "stdout",
     "output_type": "stream",
     "text": [
      "avg_verification: 0.8497479730614562, latency: -0.01485400265448673, goodput: 0.29214003163901603\n"
     ]
    },
    {
     "name": "stderr",
     "output_type": "stream",
     "text": [
      "Corrupt JPEG data: 3 extraneous bytes before marker 0xc4\n",
      "Corrupt JPEG data: 18 extraneous bytes before marker 0xc4\n",
      "Corrupt JPEG data: 10 extraneous bytes before marker 0xc4\n",
      "Corrupt JPEG data: 21 extraneous bytes before marker 0xda\n",
      "Corrupt JPEG data: 15 extraneous bytes before marker 0xdb\n",
      "Corrupt JPEG data: bad Huffman code\n",
      "Corrupt JPEG data: 18 extraneous bytes before marker 0xda\n",
      "Corrupt JPEG data: 21 extraneous bytes before marker 0xda\n",
      "Corrupt JPEG data: 10 extraneous bytes before marker 0xc4\n",
      "Corrupt JPEG data: 18 extraneous bytes before marker 0xc4\n",
      "Corrupt JPEG data: 13 extraneous bytes before marker 0xc4\n",
      "Corrupt JPEG data: bad Huffman code\n"
     ]
    },
    {
     "name": "stdout",
     "output_type": "stream",
     "text": [
      "2 fps\n"
     ]
    },
    {
     "name": "stderr",
     "output_type": "stream",
     "text": [
      "Corrupt JPEG data: 3 extraneous bytes before marker 0xc4\n",
      "Corrupt JPEG data: 15 extraneous bytes before marker 0xdb\n",
      "Corrupt JPEG data: 15 extraneous bytes before marker 0xdb\n",
      "Corrupt JPEG data: bad Huffman code\n",
      "Corrupt JPEG data: 10 extraneous bytes before marker 0xc4\n",
      "Corrupt JPEG data: 3 extraneous bytes before marker 0xc4\n",
      "Corrupt JPEG data: 15 extraneous bytes before marker 0xdb\n"
     ]
    },
    {
     "name": "stdout",
     "output_type": "stream",
     "text": [
      "avg_verification: 0.7865384615384615, latency: -0.013586016167026137, goodput: 0.2924137931034483\n"
     ]
    },
    {
     "name": "stderr",
     "output_type": "stream",
     "text": [
      "Corrupt JPEG data: 13 extraneous bytes before marker 0xc4\n",
      "Corrupt JPEG data: 12 extraneous bytes before marker 0xdb\n",
      "Corrupt JPEG data: 3 extraneous bytes before marker 0xc4\n",
      "Corrupt JPEG data: 10 extraneous bytes before marker 0xc4\n",
      "Corrupt JPEG data: 18 extraneous bytes before marker 0xc4\n",
      "Corrupt JPEG data: 15 extraneous bytes before marker 0xdb\n",
      "Corrupt JPEG data: 1486 extraneous bytes before marker 0xc4\n",
      "Corrupt JPEG data: 10 extraneous bytes before marker 0xc4\n",
      "Corrupt JPEG data: 1601 extraneous bytes before marker 0xda\n",
      "Corrupt JPEG data: 13 extraneous bytes before marker 0xc4\n",
      "Corrupt JPEG data: 1525 extraneous bytes before marker 0xc4\n",
      "Corrupt JPEG data: 3 extraneous bytes before marker 0xc4\n"
     ]
    },
    {
     "name": "stdout",
     "output_type": "stream",
     "text": [
      "avg_verification: 0.8020716675822692, latency: -0.01407472539630667, goodput: 0.2887520641232808\n"
     ]
    },
    {
     "name": "stderr",
     "output_type": "stream",
     "text": [
      "Corrupt JPEG data: 10 extraneous bytes before marker 0xc4\n",
      "Corrupt JPEG data: 12 extraneous bytes before marker 0xdb\n",
      "Corrupt JPEG data: 18 extraneous bytes before marker 0xc4\n",
      "Corrupt JPEG data: 15 extraneous bytes before marker 0xdb\n",
      "Corrupt JPEG data: 18 extraneous bytes before marker 0xc4\n",
      "Corrupt JPEG data: 18 extraneous bytes before marker 0xc4\n",
      "Corrupt JPEG data: 18 extraneous bytes before marker 0xc4\n",
      "Corrupt JPEG data: 15 extraneous bytes before marker 0xdb\n",
      "Corrupt JPEG data: 3 extraneous bytes before marker 0xc4\n",
      "Corrupt JPEG data: 10 extraneous bytes before marker 0xc4\n",
      "Corrupt JPEG data: 15 extraneous bytes before marker 0xdb\n",
      "Corrupt JPEG data: 1605 extraneous bytes before marker 0xc4\n",
      "Corrupt JPEG data: 3 extraneous bytes before marker 0xc4\n",
      "Corrupt JPEG data: 10 extraneous bytes before marker 0xc4\n",
      "Corrupt JPEG data: 15 extraneous bytes before marker 0xdb\n"
     ]
    },
    {
     "name": "stdout",
     "output_type": "stream",
     "text": [
      "avg_verification: 0.7992743661109315, latency: -0.014424470764875123, goodput: 0.2889589351471118\n"
     ]
    },
    {
     "name": "stderr",
     "output_type": "stream",
     "text": [
      "Corrupt JPEG data: 36 extraneous bytes before marker 0xda\n",
      "Corrupt JPEG data: 15 extraneous bytes before marker 0xc2\n",
      "Corrupt JPEG data: 4 extraneous bytes before marker 0xc2\n",
      "Corrupt JPEG data: 13 extraneous bytes before marker 0xc4\n",
      "Corrupt JPEG data: 13 extraneous bytes before marker 0xc4\n",
      "Corrupt JPEG data: 13 extraneous bytes before marker 0xc4\n",
      "Corrupt JPEG data: 1448 extraneous bytes before marker 0xda\n",
      "Corrupt JPEG data: bad Huffman code\n",
      "Corrupt JPEG data: 21 extraneous bytes before marker 0xda\n",
      "Corrupt JPEG data: 18 extraneous bytes before marker 0xda\n"
     ]
    },
    {
     "name": "stdout",
     "output_type": "stream",
     "text": [
      "avg_verification: 0.7989151289698678, latency: -0.014482610357708476, goodput: 0.288813256762036\n"
     ]
    },
    {
     "name": "stderr",
     "output_type": "stream",
     "text": [
      "Corrupt JPEG data: 21 extraneous bytes before marker 0xda\n",
      "Corrupt JPEG data: 10 extraneous bytes before marker 0xc4\n",
      "Corrupt JPEG data: 13 extraneous bytes before marker 0xc4\n",
      "Corrupt JPEG data: bad Huffman code\n",
      "Corrupt JPEG data: 13 extraneous bytes before marker 0xc4\n",
      "Corrupt JPEG data: 18 extraneous bytes before marker 0xc4\n",
      "Corrupt JPEG data: 3 extraneous bytes before marker 0xc4\n",
      "Corrupt JPEG data: 15 extraneous bytes before marker 0xdb\n",
      "Corrupt JPEG data: 15 extraneous bytes before marker 0xdb\n",
      "Corrupt JPEG data: bad Huffman code\n",
      "Corrupt JPEG data: 3 extraneous bytes before marker 0xc4\n",
      "Corrupt JPEG data: 3 extraneous bytes before marker 0xc4\n",
      "Corrupt JPEG data: 1384 extraneous bytes before marker 0xc4\n",
      "Corrupt JPEG data: 3 extraneous bytes before marker 0xc4\n",
      "Corrupt JPEG data: 10 extraneous bytes before marker 0xc4\n",
      "Corrupt JPEG data: 15 extraneous bytes before marker 0xdb\n",
      "Corrupt JPEG data: bad Huffman code\n"
     ]
    },
    {
     "name": "stdout",
     "output_type": "stream",
     "text": [
      "avg_verification: 0.7988581847550162, latency: -0.014507048141214549, goodput: 0.28882287863005285\n"
     ]
    },
    {
     "name": "stderr",
     "output_type": "stream",
     "text": [
      "Corrupt JPEG data: 3 extraneous bytes before marker 0xc4\n",
      "Corrupt JPEG data: 13 extraneous bytes before marker 0xc4\n",
      "Corrupt JPEG data: 15 extraneous bytes before marker 0xdb\n",
      "Corrupt JPEG data: bad Huffman code\n",
      "Corrupt JPEG data: 12 extraneous bytes before marker 0xdb\n"
     ]
    },
    {
     "name": "stdout",
     "output_type": "stream",
     "text": [
      "1 fps\n"
     ]
    },
    {
     "name": "stderr",
     "output_type": "stream",
     "text": [
      "Corrupt JPEG data: 3 extraneous bytes before marker 0xc4\n",
      "Corrupt JPEG data: 15 extraneous bytes before marker 0xdb\n",
      "Corrupt JPEG data: 13 extraneous bytes before marker 0xc4\n",
      "Corrupt JPEG data: 18 extraneous bytes before marker 0xda\n",
      "Corrupt JPEG data: bad Huffman code\n",
      "Corrupt JPEG data: 13 extraneous bytes before marker 0xc4\n",
      "Corrupt JPEG data: 15 extraneous bytes before marker 0x5a\n",
      "Corrupt JPEG data: 38 extraneous bytes before marker 0xc4\n",
      "Corrupt JPEG data: bad Huffman code\n",
      "Corrupt JPEG data: 15 extraneous bytes before marker 0xdb\n",
      "Corrupt JPEG data: 1511 extraneous bytes before marker 0xc4\n",
      "Corrupt JPEG data: 3 extraneous bytes before marker 0xc4\n",
      "Corrupt JPEG data: 2 extraneous bytes before marker 0xda\n",
      "Corrupt JPEG data: 3 extraneous bytes before marker 0xc4\n"
     ]
    },
    {
     "name": "stdout",
     "output_type": "stream",
     "text": [
      "avg_verification: 0.7992360085273531, latency: -0.014634223259084296, goodput: 0.28890061710839593\n"
     ]
    },
    {
     "name": "stderr",
     "output_type": "stream",
     "text": [
      "Corrupt JPEG data: 3 extraneous bytes before marker 0xc4\n",
      "Corrupt JPEG data: 13 extraneous bytes before marker 0xc4\n",
      "Corrupt JPEG data: 3 extraneous bytes before marker 0xc4\n",
      "Corrupt JPEG data: 28 extraneous bytes before marker 0xc4\n",
      "Corrupt JPEG data: 10 extraneous bytes before marker 0xc4\n",
      "Corrupt JPEG data: 18 extraneous bytes before marker 0xc4\n",
      "Corrupt JPEG data: 1591 extraneous bytes before marker 0xc4\n",
      "Corrupt JPEG data: 3 extraneous bytes before marker 0xc4\n",
      "Corrupt JPEG data: 18 extraneous bytes before marker 0xc4\n",
      "Corrupt JPEG data: 10 extraneous bytes before marker 0xc4\n",
      "Corrupt JPEG data: 10 extraneous bytes before marker 0xc4\n",
      "Corrupt JPEG data: 12 extraneous bytes before marker 0xdb\n"
     ]
    },
    {
     "name": "stdout",
     "output_type": "stream",
     "text": [
      "avg_verification: 0.7991568730893538, latency: -0.014670232777058046, goodput: 0.2886787738415185\n"
     ]
    },
    {
     "name": "stderr",
     "output_type": "stream",
     "text": [
      "Corrupt JPEG data: 1428 extraneous bytes before marker 0xc4\n",
      "Corrupt JPEG data: 13 extraneous bytes before marker 0xc4\n",
      "Corrupt JPEG data: 18 extraneous bytes before marker 0xc4\n",
      "Corrupt JPEG data: 13 extraneous bytes before marker 0xc4\n",
      "Corrupt JPEG data: 18 extraneous bytes before marker 0xc4\n",
      "Corrupt JPEG data: 15 extraneous bytes before marker 0x5a\n",
      "Corrupt JPEG data: 1317 extraneous bytes before marker 0xc4\n",
      "Corrupt JPEG data: 12 extraneous bytes before marker 0xdb\n",
      "Corrupt JPEG data: 13 extraneous bytes before marker 0xc4\n",
      "Corrupt JPEG data: bad Huffman code\n",
      "Corrupt JPEG data: 18 extraneous bytes before marker 0xc4\n",
      "Corrupt JPEG data: 12 extraneous bytes before marker 0xc4\n",
      "Corrupt JPEG data: 1731 extraneous bytes before marker 0xc4\n",
      "Corrupt JPEG data: 10 extraneous bytes before marker 0xc4\n",
      "Corrupt JPEG data: 10 extraneous bytes before marker 0xc4\n",
      "Corrupt JPEG data: 3 extraneous bytes before marker 0xc4\n",
      "Corrupt JPEG data: 18 extraneous bytes before marker 0xc4\n",
      "Corrupt JPEG data: 3 extraneous bytes before marker 0xc4\n"
     ]
    },
    {
     "name": "stdout",
     "output_type": "stream",
     "text": [
      "avg_verification: 0.7991082149907656, latency: -0.014802168985578049, goodput: 0.2888644515272306\n"
     ]
    },
    {
     "name": "stderr",
     "output_type": "stream",
     "text": [
      "Corrupt JPEG data: 3 extraneous bytes before marker 0xc4\n",
      "Corrupt JPEG data: 15 extraneous bytes before marker 0xdb\n",
      "Corrupt JPEG data: 15 extraneous bytes before marker 0x01\n",
      "Corrupt JPEG data: 1474 extraneous bytes before marker 0xc4\n",
      "Corrupt JPEG data: 15 extraneous bytes before marker 0xdb\n",
      "Corrupt JPEG data: 10 extraneous bytes before marker 0xc4\n",
      "Corrupt JPEG data: 12 extraneous bytes before marker 0x5a\n",
      "Corrupt JPEG data: bad Huffman code\n",
      "Corrupt JPEG data: 18 extraneous bytes before marker 0xda\n",
      "Corrupt JPEG data: 21 extraneous bytes before marker 0xda\n",
      "Corrupt JPEG data: 15 extraneous bytes before marker 0xdb\n",
      "Corrupt JPEG data: 12 extraneous bytes before marker 0xdb\n"
     ]
    },
    {
     "name": "stdout",
     "output_type": "stream",
     "text": [
      "avg_verification: 0.799076937010397, latency: -0.014885306176223552, goodput: 0.2890500578313031\n"
     ]
    },
    {
     "name": "stderr",
     "output_type": "stream",
     "text": [
      "Corrupt JPEG data: 21 extraneous bytes before marker 0xda\n"
     ]
    },
    {
     "name": "stdout",
     "output_type": "stream",
     "text": [
      "avg_verification: 0.7539999999999999, latency: 0.024420900405707612, goodput: 0.28798885461239926\n"
     ]
    },
    {
     "name": "stderr",
     "output_type": "stream",
     "text": [
      "Corrupt JPEG data: 15 extraneous bytes before marker 0xdb\n",
      "Corrupt JPEG data: 12 extraneous bytes before marker 0xdb\n",
      "Corrupt JPEG data: 5 extraneous bytes before marker 0xda\n",
      "Corrupt JPEG data: 15 extraneous bytes before marker 0xdb\n",
      "Corrupt JPEG data: 13 extraneous bytes before marker 0xc4\n",
      "Corrupt JPEG data: 1342 extraneous bytes before marker 0xc4\n",
      "Corrupt JPEG data: 18 extraneous bytes before marker 0xc4\n",
      "Corrupt JPEG data: 18 extraneous bytes before marker 0xc4\n",
      "Corrupt JPEG data: 15 extraneous bytes before marker 0xdb\n",
      "Corrupt JPEG data: 15 extraneous bytes before marker 0xdb\n",
      "Corrupt JPEG data: 3 extraneous bytes before marker 0xc4\n",
      "Corrupt JPEG data: 28 extraneous bytes before marker 0xc4\n",
      "Corrupt JPEG data: 10 extraneous bytes before marker 0xc4\n",
      "Corrupt JPEG data: 21 extraneous bytes before marker 0xda\n",
      "Corrupt JPEG data: 13 extraneous bytes before marker 0xc4\n",
      "Corrupt JPEG data: 15 extraneous bytes before marker 0xdb\n",
      "Corrupt JPEG data: 15 extraneous bytes before marker 0xdb\n",
      "Corrupt JPEG data: 15 extraneous bytes before marker 0xdb\n",
      "Corrupt JPEG data: 10 extraneous bytes before marker 0xc4\n",
      "Corrupt JPEG data: 3 extraneous bytes before marker 0xc4\n",
      "Corrupt JPEG data: 1318 extraneous bytes before marker 0xc4\n",
      "Corrupt JPEG data: 15 extraneous bytes before marker 0xdb\n",
      "Corrupt JPEG data: 13 extraneous bytes before marker 0xc4\n",
      "Corrupt JPEG data: 15 extraneous bytes before marker 0xc2\n"
     ]
    },
    {
     "name": "stdout",
     "output_type": "stream",
     "text": [
      "avg_verification: 0.7474848772635011, latency: -0.01463420610530605, goodput: 0.2876587637020176\n"
     ]
    },
    {
     "name": "stderr",
     "output_type": "stream",
     "text": [
      "Corrupt JPEG data: 13 extraneous bytes before marker 0xc4\n",
      "Corrupt JPEG data: 1415 extraneous bytes before marker 0xc4\n",
      "Corrupt JPEG data: 21 extraneous bytes before marker 0xda\n",
      "Corrupt JPEG data: 43 extraneous bytes before marker 0xc4\n",
      "Corrupt JPEG data: 1456 extraneous bytes before marker 0xda\n",
      "Corrupt JPEG data: 15 extraneous bytes before marker 0xdb\n",
      "Corrupt JPEG data: 18 extraneous bytes before marker 0xc4\n",
      "Corrupt JPEG data: 3 extraneous bytes before marker 0xc4\n",
      "Corrupt JPEG data: 3 extraneous bytes before marker 0xc4\n",
      "Corrupt JPEG data: 3 extraneous bytes before marker 0xc4\n",
      "Corrupt JPEG data: 3 extraneous bytes before marker 0xc4\n",
      "Corrupt JPEG data: 1317 extraneous bytes before marker 0xc4\n",
      "Corrupt JPEG data: 1332 extraneous bytes before marker 0xc4\n",
      "Corrupt JPEG data: 15 extraneous bytes before marker 0xdb\n",
      "Corrupt JPEG data: 3 extraneous bytes before marker 0xc4\n",
      "Corrupt JPEG data: 40 extraneous bytes before marker 0xc4\n",
      "Corrupt JPEG data: 13 extraneous bytes before marker 0xc4\n",
      "Corrupt JPEG data: 1406 extraneous bytes before marker 0xda\n",
      "Corrupt JPEG data: 10 extraneous bytes before marker 0xc4\n",
      "Corrupt JPEG data: 1301 extraneous bytes before marker 0xc4\n",
      "Corrupt JPEG data: 15 extraneous bytes before marker 0xdb\n",
      "Corrupt JPEG data: 13 extraneous bytes before marker 0xc4\n",
      "Corrupt JPEG data: 1312 extraneous bytes before marker 0xc4\n",
      "Corrupt JPEG data: 12 extraneous bytes before marker 0xdb\n",
      "Corrupt JPEG data: 8 extraneous bytes before marker 0xc4\n",
      "Corrupt JPEG data: 21 extraneous bytes before marker 0xda\n",
      "Corrupt JPEG data: 15 extraneous bytes before marker 0x5a\n"
     ]
    },
    {
     "name": "stdout",
     "output_type": "stream",
     "text": [
      "avg_verification: 0.7488915645797336, latency: -0.013491202947280595, goodput: 0.2877412372254344\n"
     ]
    },
    {
     "name": "stderr",
     "output_type": "stream",
     "text": [
      "Corrupt JPEG data: 15 extraneous bytes before marker 0xc2\n",
      "Corrupt JPEG data: 15 extraneous bytes before marker 0xdb\n",
      "Corrupt JPEG data: 3 extraneous bytes before marker 0xc4\n",
      "Corrupt JPEG data: 13 extraneous bytes before marker 0xc4\n",
      "Corrupt JPEG data: 21 extraneous bytes before marker 0xda\n",
      "Corrupt JPEG data: 15 extraneous bytes before marker 0xdb\n",
      "Corrupt JPEG data: 18 extraneous bytes before marker 0xc4\n",
      "Corrupt JPEG data: 21 extraneous bytes before marker 0xda\n",
      "Corrupt JPEG data: 3 extraneous bytes before marker 0xc4\n",
      "Corrupt JPEG data: 18 extraneous bytes before marker 0xc4\n",
      "Corrupt JPEG data: 15 extraneous bytes before marker 0xdb\n",
      "Corrupt JPEG data: 12 extraneous bytes before marker 0xdb\n",
      "Corrupt JPEG data: 1469 extraneous bytes before marker 0xda\n",
      "Corrupt JPEG data: 1328 extraneous bytes before marker 0xc4\n",
      "Corrupt JPEG data: 18 extraneous bytes before marker 0xc4\n",
      "Corrupt JPEG data: 18 extraneous bytes before marker 0xc4\n",
      "Corrupt JPEG data: 15 extraneous bytes before marker 0xdb\n",
      "Corrupt JPEG data: 15 extraneous bytes before marker 0xdb\n",
      "Corrupt JPEG data: 15 extraneous bytes before marker 0xdb\n",
      "Corrupt JPEG data: 12 extraneous bytes before marker 0xdb\n"
     ]
    },
    {
     "name": "stdout",
     "output_type": "stream",
     "text": [
      "avg_verification: 0.7492346925342632, latency: -0.014135027898616096, goodput: 0.28744343492908436\n"
     ]
    },
    {
     "name": "stderr",
     "output_type": "stream",
     "text": [
      "Corrupt JPEG data: 1328 extraneous bytes before marker 0xc4\n",
      "Corrupt JPEG data: 18 extraneous bytes before marker 0xc4\n",
      "Corrupt JPEG data: 15 extraneous bytes before marker 0x5a\n",
      "Corrupt JPEG data: 28 extraneous bytes before marker 0xc4\n",
      "Corrupt JPEG data: 12 extraneous bytes before marker 0xdb\n",
      "Corrupt JPEG data: 15 extraneous bytes before marker 0x5a\n",
      "Corrupt JPEG data: 12 extraneous bytes before marker 0xdb\n",
      "Corrupt JPEG data: 20 extraneous bytes before marker 0xc2\n",
      "Corrupt JPEG data: 13 extraneous bytes before marker 0xc4\n",
      "Corrupt JPEG data: 15 extraneous bytes before marker 0xdb\n",
      "Corrupt JPEG data: 15 extraneous bytes before marker 0xdb\n",
      "Corrupt JPEG data: 18 extraneous bytes before marker 0xc4\n",
      "Corrupt JPEG data: 28 extraneous bytes before marker 0xc4\n",
      "Corrupt JPEG data: 15 extraneous bytes before marker 0xdb\n",
      "Corrupt JPEG data: 12 extraneous bytes before marker 0xdb\n",
      "Corrupt JPEG data: 18 extraneous bytes before marker 0xc4\n",
      "Corrupt JPEG data: 10 extraneous bytes before marker 0xc4\n",
      "Corrupt JPEG data: 21 extraneous bytes before marker 0xda\n"
     ]
    },
    {
     "name": "stdout",
     "output_type": "stream",
     "text": [
      "avg_verification: 0.7498338269208259, latency: -0.01434432254440286, goodput: 0.28719336778619897\n"
     ]
    },
    {
     "name": "stderr",
     "output_type": "stream",
     "text": [
      "Corrupt JPEG data: 15 extraneous bytes before marker 0xdb\n",
      "Corrupt JPEG data: 10 extraneous bytes before marker 0xc4\n",
      "Corrupt JPEG data: 15 extraneous bytes before marker 0xdb\n",
      "Corrupt JPEG data: 15 extraneous bytes before marker 0xdb\n",
      "Corrupt JPEG data: 1330 extraneous bytes before marker 0xda\n",
      "Corrupt JPEG data: 12 extraneous bytes before marker 0xdb\n",
      "Corrupt JPEG data: 28 extraneous bytes before marker 0xc4\n",
      "Corrupt JPEG data: 15 extraneous bytes before marker 0xdb\n",
      "Corrupt JPEG data: 15 extraneous bytes before marker 0xdb\n",
      "Corrupt JPEG data: 2 extraneous bytes before marker 0xda\n",
      "Corrupt JPEG data: 5 extraneous bytes before marker 0xda\n",
      "Corrupt JPEG data: 18 extraneous bytes before marker 0xc4\n"
     ]
    },
    {
     "name": "stdout",
     "output_type": "stream",
     "text": [
      "avg_verification: 0.7494395071675881, latency: -0.014397219280873409, goodput: 0.2869901371576366\n"
     ]
    },
    {
     "name": "stderr",
     "output_type": "stream",
     "text": [
      "Corrupt JPEG data: 10 extraneous bytes before marker 0xc4\n",
      "Corrupt JPEG data: 1243 extraneous bytes before marker 0xc4\n",
      "Corrupt JPEG data: 18 extraneous bytes before marker 0xda\n",
      "Corrupt JPEG data: 28 extraneous bytes before marker 0xc4\n",
      "Corrupt JPEG data: 2 extraneous bytes before marker 0xda\n",
      "Corrupt JPEG data: 15 extraneous bytes before marker 0x5a\n",
      "Corrupt JPEG data: 12 extraneous bytes before marker 0x5a\n",
      "Corrupt JPEG data: 13 extraneous bytes before marker 0xc4\n",
      "Corrupt JPEG data: 13 extraneous bytes before marker 0xc4\n",
      "Corrupt JPEG data: 10 extraneous bytes before marker 0xc4\n",
      "Corrupt JPEG data: 18 extraneous bytes before marker 0xc4\n",
      "Corrupt JPEG data: 18 extraneous bytes before marker 0xc4\n",
      "Corrupt JPEG data: 15 extraneous bytes before marker 0xdb\n",
      "Corrupt JPEG data: 15 extraneous bytes before marker 0xdb\n",
      "Corrupt JPEG data: 18 extraneous bytes before marker 0xda\n",
      "Corrupt JPEG data: 15 extraneous bytes before marker 0x5a\n",
      "Corrupt JPEG data: 10 extraneous bytes before marker 0xc4\n",
      "Corrupt JPEG data: 13 extraneous bytes before marker 0xc4\n",
      "Corrupt JPEG data: 1385 extraneous bytes before marker 0xc4\n",
      "Corrupt JPEG data: 3 extraneous bytes before marker 0xc4\n"
     ]
    },
    {
     "name": "stdout",
     "output_type": "stream",
     "text": [
      "avg_verification: 0.7494420253712586, latency: -0.014547313146876345, goodput: 0.2871357088349496\n"
     ]
    },
    {
     "name": "stderr",
     "output_type": "stream",
     "text": [
      "Corrupt JPEG data: 10 extraneous bytes before marker 0xc4\n",
      "Corrupt JPEG data: 13 extraneous bytes before marker 0xc4\n",
      "Corrupt JPEG data: 10 extraneous bytes before marker 0xc4\n",
      "Corrupt JPEG data: 15 extraneous bytes before marker 0x5a\n",
      "Corrupt JPEG data: 13 extraneous bytes before marker 0xc4\n",
      "Corrupt JPEG data: 12 extraneous bytes before marker 0xdb\n",
      "Corrupt JPEG data: 10 extraneous bytes before marker 0xc4\n",
      "Corrupt JPEG data: 10 extraneous bytes before marker 0xc4\n",
      "Corrupt JPEG data: 15 extraneous bytes before marker 0xdb\n",
      "Corrupt JPEG data: 10 extraneous bytes before marker 0xc4\n",
      "Corrupt JPEG data: 13 extraneous bytes before marker 0xc4\n",
      "Corrupt JPEG data: 15 extraneous bytes before marker 0xdb\n",
      "Corrupt JPEG data: 13 extraneous bytes before marker 0xc4\n",
      "Corrupt JPEG data: 21 extraneous bytes before marker 0xda\n",
      "Corrupt JPEG data: 13 extraneous bytes before marker 0xc4\n",
      "Corrupt JPEG data: 3 extraneous bytes before marker 0xc4\n",
      "Corrupt JPEG data: 8 extraneous bytes before marker 0xc4\n",
      "Corrupt JPEG data: 21 extraneous bytes before marker 0xda\n",
      "Corrupt JPEG data: 28 extraneous bytes before marker 0xc4\n",
      "Corrupt JPEG data: 12 extraneous bytes before marker 0xdb\n",
      "Corrupt JPEG data: 12 extraneous bytes before marker 0xdb\n"
     ]
    },
    {
     "name": "stdout",
     "output_type": "stream",
     "text": [
      "avg_verification: 0.7493468332771981, latency: -0.014678963674182657, goodput: 0.2871701214935539\n"
     ]
    },
    {
     "name": "stderr",
     "output_type": "stream",
     "text": [
      "Corrupt JPEG data: 1218 extraneous bytes before marker 0xc4\n",
      "Corrupt JPEG data: 12 extraneous bytes before marker 0xdb\n",
      "Corrupt JPEG data: 8 extraneous bytes before marker 0xc4\n",
      "Corrupt JPEG data: 18 extraneous bytes before marker 0xc4\n",
      "Corrupt JPEG data: 18 extraneous bytes before marker 0xc4\n",
      "Corrupt JPEG data: 13 extraneous bytes before marker 0xc4\n",
      "Corrupt JPEG data: 15 extraneous bytes before marker 0xdb\n",
      "Corrupt JPEG data: 18 extraneous bytes before marker 0xc4\n",
      "Corrupt JPEG data: 3 extraneous bytes before marker 0xc4\n",
      "Corrupt JPEG data: 18 extraneous bytes before marker 0xda\n",
      "Corrupt JPEG data: 15 extraneous bytes before marker 0xdb\n",
      "Corrupt JPEG data: 3 extraneous bytes before marker 0xc4\n",
      "Corrupt JPEG data: 8 extraneous bytes before marker 0xc4\n",
      "Corrupt JPEG data: 15 extraneous bytes before marker 0xdb\n",
      "Corrupt JPEG data: 15 extraneous bytes before marker 0xdb\n",
      "Corrupt JPEG data: 5 extraneous bytes before marker 0xda\n",
      "Corrupt JPEG data: 15 extraneous bytes before marker 0xdb\n",
      "Corrupt JPEG data: 1379 extraneous bytes before marker 0xc4\n",
      "Corrupt JPEG data: 13 extraneous bytes before marker 0xc4\n",
      "Corrupt JPEG data: 13 extraneous bytes before marker 0xc4\n",
      "Corrupt JPEG data: 1408 extraneous bytes before marker 0xda\n",
      "Corrupt JPEG data: 3 extraneous bytes before marker 0xc4\n",
      "Corrupt JPEG data: 13 extraneous bytes before marker 0xc4\n",
      "Corrupt JPEG data: 15 extraneous bytes before marker 0x5a\n"
     ]
    },
    {
     "name": "stdout",
     "output_type": "stream",
     "text": [
      "avg_verification: 0.71, latency: 0.009090886526343711, goodput: 0.2864237545088609\n"
     ]
    },
    {
     "name": "stderr",
     "output_type": "stream",
     "text": [
      "Corrupt JPEG data: 15 extraneous bytes before marker 0xdb\n",
      "Corrupt JPEG data: 15 extraneous bytes before marker 0xdb\n",
      "Corrupt JPEG data: 15 extraneous bytes before marker 0xdb\n",
      "Corrupt JPEG data: 1367 extraneous bytes before marker 0xc4\n",
      "Corrupt JPEG data: 10 extraneous bytes before marker 0xc4\n",
      "Corrupt JPEG data: 1380 extraneous bytes before marker 0xc4\n",
      "Corrupt JPEG data: 10 extraneous bytes before marker 0xc4\n",
      "Corrupt JPEG data: 15 extraneous bytes before marker 0x5a\n",
      "Corrupt JPEG data: 18 extraneous bytes before marker 0xda\n",
      "Corrupt JPEG data: 21 extraneous bytes before marker 0xda\n",
      "Corrupt JPEG data: 15 extraneous bytes before marker 0x5a\n",
      "Corrupt JPEG data: 13 extraneous bytes before marker 0xc4\n",
      "Corrupt JPEG data: 18 extraneous bytes before marker 0xc4\n",
      "Corrupt JPEG data: 10 extraneous bytes before marker 0xc4\n",
      "Corrupt JPEG data: 18 extraneous bytes before marker 0xda\n",
      "Corrupt JPEG data: 15 extraneous bytes before marker 0x5a\n"
     ]
    },
    {
     "name": "stdout",
     "output_type": "stream",
     "text": [
      "avg_verification: 0.7006135150966339, latency: -0.014597479181928349, goodput: 0.2849721394504471\n"
     ]
    },
    {
     "name": "stderr",
     "output_type": "stream",
     "text": [
      "Corrupt JPEG data: 15 extraneous bytes before marker 0xdb\n",
      "Corrupt JPEG data: 12 extraneous bytes before marker 0xdb\n",
      "Corrupt JPEG data: 18 extraneous bytes before marker 0xc4\n",
      "Corrupt JPEG data: 10 extraneous bytes before marker 0xc4\n",
      "Corrupt JPEG data: 15 extraneous bytes before marker 0xdb\n",
      "Corrupt JPEG data: 12 extraneous bytes before marker 0x01\n",
      "Corrupt JPEG data: 15 extraneous bytes before marker 0xdb\n",
      "Corrupt JPEG data: 13 extraneous bytes before marker 0xc4\n",
      "Corrupt JPEG data: 15 extraneous bytes before marker 0xdb\n",
      "Corrupt JPEG data: 10 extraneous bytes before marker 0xc4\n",
      "Corrupt JPEG data: 12 extraneous bytes before marker 0xdb\n",
      "Corrupt JPEG data: 18 extraneous bytes before marker 0xc4\n",
      "Corrupt JPEG data: 18 extraneous bytes before marker 0xc4\n",
      "Corrupt JPEG data: 15 extraneous bytes before marker 0xdb\n",
      "Corrupt JPEG data: 28 extraneous bytes before marker 0xc4\n",
      "Corrupt JPEG data: 15 extraneous bytes before marker 0xdb\n"
     ]
    },
    {
     "name": "stdout",
     "output_type": "stream",
     "text": [
      "avg_verification: 0.700551956021074, latency: -0.01475991188428596, goodput: 0.284781878270737\n"
     ]
    },
    {
     "name": "stderr",
     "output_type": "stream",
     "text": [
      "Corrupt JPEG data: 1298 extraneous bytes before marker 0xda\n",
      "Corrupt JPEG data: 3 extraneous bytes before marker 0xc4\n",
      "Corrupt JPEG data: 15 extraneous bytes before marker 0x5a\n",
      "Corrupt JPEG data: 15 extraneous bytes before marker 0x5a\n",
      "Corrupt JPEG data: 8 extraneous bytes before marker 0xc4\n",
      "Corrupt JPEG data: 12 extraneous bytes before marker 0x5a\n",
      "Corrupt JPEG data: 18 extraneous bytes before marker 0xc4\n",
      "Corrupt JPEG data: 18 extraneous bytes before marker 0xc4\n",
      "Corrupt JPEG data: 15 extraneous bytes before marker 0xdb\n",
      "Corrupt JPEG data: 1247 extraneous bytes before marker 0xc4\n",
      "Corrupt JPEG data: 15 extraneous bytes before marker 0x5a\n",
      "Corrupt JPEG data: 15 extraneous bytes before marker 0xdb\n"
     ]
    },
    {
     "name": "stdout",
     "output_type": "stream",
     "text": [
      "avg_verification: 0.7011057689840738, latency: -0.014803867590597328, goodput: 0.2843991306591996\n"
     ]
    },
    {
     "name": "stderr",
     "output_type": "stream",
     "text": [
      "Corrupt JPEG data: 1447 extraneous bytes before marker 0xc4\n",
      "Corrupt JPEG data: 18 extraneous bytes before marker 0xc4\n",
      "Corrupt JPEG data: 1484 extraneous bytes before marker 0xc4\n",
      "Corrupt JPEG data: 18 extraneous bytes before marker 0xc4\n",
      "Corrupt JPEG data: 10 extraneous bytes before marker 0xc4\n",
      "Corrupt JPEG data: 8 extraneous bytes before marker 0xc4\n",
      "Corrupt JPEG data: 18 extraneous bytes before marker 0xda\n",
      "Corrupt JPEG data: 15 extraneous bytes before marker 0xdb\n"
     ]
    },
    {
     "name": "stdout",
     "output_type": "stream",
     "text": [
      "avg_verification: 0.7011550846082363, latency: -0.014541976210107967, goodput: 0.2841788374963408\n"
     ]
    },
    {
     "name": "stderr",
     "output_type": "stream",
     "text": [
      "Corrupt JPEG data: 10 extraneous bytes before marker 0xc4\n",
      "Corrupt JPEG data: 12 extraneous bytes before marker 0xdb\n",
      "Corrupt JPEG data: 4 extraneous bytes before marker 0xc2\n",
      "Corrupt JPEG data: 13 extraneous bytes before marker 0xc4\n",
      "Corrupt JPEG data: 12 extraneous bytes before marker 0x5a\n",
      "Corrupt JPEG data: 15 extraneous bytes before marker 0xdb\n",
      "Corrupt JPEG data: 12 extraneous bytes before marker 0xdb\n",
      "Corrupt JPEG data: 18 extraneous bytes before marker 0xc4\n",
      "Corrupt JPEG data: 15 extraneous bytes before marker 0xdb\n",
      "Corrupt JPEG data: 12 extraneous bytes before marker 0xdb\n",
      "Corrupt JPEG data: 1287 extraneous bytes before marker 0xc4\n"
     ]
    },
    {
     "name": "stdout",
     "output_type": "stream",
     "text": [
      "avg_verification: 0.7007972808615852, latency: -0.013990648547494697, goodput: 0.283856119631997\n"
     ]
    },
    {
     "name": "stderr",
     "output_type": "stream",
     "text": [
      "Corrupt JPEG data: 18 extraneous bytes before marker 0xc4\n",
      "Corrupt JPEG data: 13 extraneous bytes before marker 0xc4\n",
      "Corrupt JPEG data: 13 extraneous bytes before marker 0xc4\n",
      "Corrupt JPEG data: 12 extraneous bytes before marker 0xdb\n",
      "Corrupt JPEG data: 21 extraneous bytes before marker 0xda\n",
      "Corrupt JPEG data: 15 extraneous bytes before marker 0xdb\n",
      "Corrupt JPEG data: 2 extraneous bytes before marker 0xda\n",
      "Corrupt JPEG data: 18 extraneous bytes before marker 0xc4\n",
      "Corrupt JPEG data: 15 extraneous bytes before marker 0xdb\n",
      "Corrupt JPEG data: 13 extraneous bytes before marker 0xc4\n",
      "Corrupt JPEG data: 13 extraneous bytes before marker 0xc4\n",
      "Corrupt JPEG data: 10 extraneous bytes before marker 0xc4\n",
      "Corrupt JPEG data: 12 extraneous bytes before marker 0xdb\n",
      "Corrupt JPEG data: 10 extraneous bytes before marker 0xc4\n",
      "Corrupt JPEG data: 1631 extraneous bytes before marker 0xc4\n",
      "Corrupt JPEG data: 15 extraneous bytes before marker 0xdb\n"
     ]
    },
    {
     "name": "stdout",
     "output_type": "stream",
     "text": [
      "avg_verification: 0.7005415697197876, latency: -0.01415818312906606, goodput: 0.2841704562561924\n"
     ]
    },
    {
     "name": "stderr",
     "output_type": "stream",
     "text": [
      "Corrupt JPEG data: 12 extraneous bytes before marker 0xc4\n",
      "Corrupt JPEG data: 13 extraneous bytes before marker 0xc4\n",
      "Corrupt JPEG data: 18 extraneous bytes before marker 0xc4\n",
      "Corrupt JPEG data: 15 extraneous bytes before marker 0xdb\n",
      "Corrupt JPEG data: 1664 extraneous bytes before marker 0xda\n",
      "Corrupt JPEG data: 15 extraneous bytes before marker 0xdb\n",
      "Corrupt JPEG data: 3 extraneous bytes before marker 0xc4\n",
      "Corrupt JPEG data: 1317 extraneous bytes before marker 0xc4\n",
      "Corrupt JPEG data: 15 extraneous bytes before marker 0xdb\n",
      "Corrupt JPEG data: 15 extraneous bytes before marker 0x5a\n",
      "Corrupt JPEG data: 18 extraneous bytes before marker 0xc4\n",
      "Corrupt JPEG data: 30 extraneous bytes before marker 0xc4\n",
      "Corrupt JPEG data: 10 extraneous bytes before marker 0xc4\n",
      "Corrupt JPEG data: 21 extraneous bytes before marker 0xda\n",
      "Corrupt JPEG data: 1551 extraneous bytes before marker 0xc4\n",
      "Corrupt JPEG data: 15 extraneous bytes before marker 0xdb\n",
      "Corrupt JPEG data: 18 extraneous bytes before marker 0xda\n",
      "Corrupt JPEG data: 12 extraneous bytes before marker 0xc2\n",
      "Corrupt JPEG data: 10 extraneous bytes before marker 0xc4\n",
      "Corrupt JPEG data: 15 extraneous bytes before marker 0xdb\n",
      "Corrupt JPEG data: 13 extraneous bytes before marker 0xc4\n",
      "Corrupt JPEG data: 13 extraneous bytes before marker 0xc4\n"
     ]
    },
    {
     "name": "stdout",
     "output_type": "stream",
     "text": [
      "avg_verification: 0.7005209442831044, latency: -0.014264564789759624, goodput: 0.2843606514707261\n"
     ]
    },
    {
     "name": "stderr",
     "output_type": "stream",
     "text": [
      "Corrupt JPEG data: 12 extraneous bytes before marker 0xdb\n",
      "Corrupt JPEG data: 10 extraneous bytes before marker 0xc4\n",
      "Corrupt JPEG data: 18 extraneous bytes before marker 0xc4\n",
      "Corrupt JPEG data: 15 extraneous bytes before marker 0x5a\n",
      "Corrupt JPEG data: 28 extraneous bytes before marker 0xc4\n",
      "Corrupt JPEG data: 13 extraneous bytes before marker 0xc4\n",
      "Corrupt JPEG data: 10 extraneous bytes before marker 0xc4\n",
      "Corrupt JPEG data: 1255 extraneous bytes before marker 0xc4\n",
      "Corrupt JPEG data: 18 extraneous bytes before marker 0xc4\n",
      "Corrupt JPEG data: 15 extraneous bytes before marker 0xdb\n",
      "Corrupt JPEG data: 28 extraneous bytes before marker 0xc4\n",
      "Corrupt JPEG data: 18 extraneous bytes before marker 0xc4\n",
      "Corrupt JPEG data: 12 extraneous bytes before marker 0xdb\n",
      "Corrupt JPEG data: 10 extraneous bytes before marker 0xc4\n",
      "Corrupt JPEG data: 10 extraneous bytes before marker 0xc4\n",
      "Corrupt JPEG data: 15 extraneous bytes before marker 0x5a\n",
      "Corrupt JPEG data: 15 extraneous bytes before marker 0xdb\n",
      "Corrupt JPEG data: 13 extraneous bytes before marker 0xc4\n",
      "Corrupt JPEG data: 5 extraneous bytes before marker 0xda\n",
      "Corrupt JPEG data: 13 extraneous bytes before marker 0xc4\n",
      "Corrupt JPEG data: 10 extraneous bytes before marker 0xc4\n",
      "Corrupt JPEG data: 8 extraneous bytes before marker 0xc4\n"
     ]
    }
   ],
   "source": [
    "#### parameters that needs to be exhanged between the sender and the receiver #####\n",
    "IP = \"0.0.0.0\"\n",
    "PORT = 23422\n",
    "#################################################################################### \n",
    "while True:\n",
    "    param = receive_param(IP=IP, PORT=PORT)\n",
    "    if param:\n",
    "        run_experiment(IP=IP, PORT=PORT, param=param)"
   ]
  },
  {
   "cell_type": "code",
   "execution_count": null,
   "metadata": {},
   "outputs": [],
   "source": [
    "# opening the pickle file and plotting the results\n",
    "with open(\"results.pkl\", 'rb') as f:\n",
    "    results = pickle.load(f)\n",
    "    for i in range(max(len(results)- 10,0), len(results)):\n",
    "        print(f\"Experiment {i}\")\n",
    "        plt.plot(results[i]['avg_verification'], label=f\"Experiment {i}\")\n",
    "        plt.xlabel('Time')\n",
    "        plt.ylabel('Verification Count')\n",
    "        plt.title('Verification Count vs Time')\n",
    "        plt.legend()\n",
    "        plt.show()\n",
    "\n",
    "        plt.plot(np.array(results[i]['latency']) - results[i]['param'][\"OFFSET\"], label=f\"Experiment {i}\")\n",
    "        plt.xlabel('Time')\n",
    "        plt.ylabel('Latency')\n",
    "        plt.title('Latency vs Time')\n",
    "        plt.legend()\n",
    "        plt.show()\n",
    "\n",
    "        plt.plot(results[i]['goodput'], label=f\"Experiment {i}\")\n",
    "        plt.xlabel('Time')\n",
    "        plt.ylabel('Goodput')\n",
    "        plt.title('Goodput vs Time')\n",
    "        plt.legend()\n",
    "        plt.show()\n",
    "\n",
    "        plt.plot(results[i]['frame_rate'], label=f\"Experiment {i}\")\n",
    "        plt.xlabel('Time')\n",
    "        plt.ylabel('Frame Rate')\n",
    "        plt.title('Frame Rate vs Time')\n",
    "        plt.legend()\n",
    "        plt.show()\n",
    "    print(results[0]['param'])"
   ]
  }
 ],
 "metadata": {
  "kernelspec": {
   "display_name": "Python 3",
   "language": "python",
   "name": "python3"
  },
  "language_info": {
   "codemirror_mode": {
    "name": "ipython",
    "version": 3
   },
   "file_extension": ".py",
   "mimetype": "text/x-python",
   "name": "python",
   "nbconvert_exporter": "python",
   "pygments_lexer": "ipython3",
   "version": "3.9.6"
  }
 },
 "nbformat": 4,
 "nbformat_minor": 2
}
